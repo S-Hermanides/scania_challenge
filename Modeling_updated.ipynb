{
 "cells": [
  {
   "cell_type": "markdown",
   "metadata": {
    "id": "QnRuk4snKaeR"
   },
   "source": [
    "## Introduction"
   ]
  },
  {
   "cell_type": "markdown",
   "metadata": {
    "id": "N892rmijKaeS"
   },
   "source": [
    "Assignment:\n",
    "\n",
    "**Predict whether a failure of a Scania Truck component is related to the air pressure system (APS) or not.**\n",
    "\n",
    "Evaluation:\n",
    "\n",
    "**The evaluation metric is the ROC-AUC score** \n",
    "\n",
    "Data:\n",
    "\n",
    "A set of anonymized features that were collected from heavy Scania Trucks at everyday usage."
   ]
  },
  {
   "cell_type": "code",
   "execution_count": 1,
   "metadata": {
    "ExecuteTime": {
     "end_time": "2021-01-01T19:54:13.164904Z",
     "start_time": "2021-01-01T19:54:11.313714Z"
    },
    "colab": {
     "base_uri": "https://localhost:8080/",
     "height": 105
    },
    "executionInfo": {
     "elapsed": 1089,
     "status": "ok",
     "timestamp": 1602251627747,
     "user": {
      "displayName": "Stephan Hermanides",
      "photoUrl": "https://lh3.googleusercontent.com/a-/AOh14Ghv4g_ZoKrg5A0hgb2DCrjAtaY1TmQsQrMK0lO9Bw=s64",
      "userId": "10917467489758916868"
     },
     "user_tz": 300
    },
    "id": "PDIBCLlTKadn",
    "outputId": "f3e46588-5529-4e01-81c3-94af90bf0f4a"
   },
   "outputs": [],
   "source": [
    "import pandas as pd\n",
    "import numpy as np\n",
    "import seaborn as sns\n",
    "import matplotlib.pyplot as plt\n",
    "\n",
    "from imblearn.pipeline import Pipeline, make_pipeline\n",
    "from imblearn.over_sampling import SMOTE\n",
    "from sklearn.impute import SimpleImputer\n",
    "from sklearn.ensemble import RandomForestClassifier\n",
    "from sklearn.model_selection import (cross_val_score, cross_validate, \n",
    "                                     GridSearchCV, RandomizedSearchCV, train_test_split)\n",
    "from sklearn.decomposition import PCA\n",
    "from sklearn.preprocessing import StandardScaler\n",
    "from sklearn.linear_model import LogisticRegression\n",
    "from sklearn.neighbors import KNeighborsClassifier\n",
    "from sklearn.svm import SVC\n",
    "from sklearn.naive_bayes import GaussianNB\n",
    "from sklearn.metrics import (precision_recall_curve, confusion_matrix, \n",
    "                             classification_report, plot_roc_curve, recall_score, precision_score, \n",
    "                             f1_score, roc_auc_score)\n",
    "\n",
    "from xgboost.sklearn import XGBClassifier\n",
    "from xgboost import plot_importance\n",
    "\n",
    "import pickle"
   ]
  },
  {
   "cell_type": "markdown",
   "metadata": {
    "id": "6AUxMEpUKaeT"
   },
   "source": [
    "## Data"
   ]
  },
  {
   "cell_type": "markdown",
   "metadata": {
    "id": "Cq7LtJF-rpYz"
   },
   "source": [
    "### Exploration\n",
    "\n",
    "Read data from csv files into pandas dataframes. The csv files contain 20 lines of data description before the actual data table, so I am skipping those rows."
   ]
  },
  {
   "cell_type": "code",
   "execution_count": 2,
   "metadata": {
    "ExecuteTime": {
     "end_time": "2021-01-01T19:54:14.822607Z",
     "start_time": "2021-01-01T19:54:13.167997Z"
    },
    "executionInfo": {
     "elapsed": 4340,
     "status": "ok",
     "timestamp": 1602251643343,
     "user": {
      "displayName": "Stephan Hermanides",
      "photoUrl": "https://lh3.googleusercontent.com/a-/AOh14Ghv4g_ZoKrg5A0hgb2DCrjAtaY1TmQsQrMK0lO9Bw=s64",
      "userId": "10917467489758916868"
     },
     "user_tz": 300
    },
    "id": "SlXOM58tKaeU"
   },
   "outputs": [],
   "source": [
    "# Data has 20 rows of description at the start, missing values coded as 'na'\n",
    "\n",
    "train = pd.read_csv('./data/aps_failure_training_set.csv', skiprows=20, na_values='na')\n",
    "test = pd.read_csv('./data/aps_failure_test_set.csv', skiprows=20, na_values='na')"
   ]
  },
  {
   "cell_type": "code",
   "execution_count": 3,
   "metadata": {
    "ExecuteTime": {
     "end_time": "2021-01-01T19:54:14.990717Z",
     "start_time": "2021-01-01T19:54:14.832620Z"
    },
    "executionInfo": {
     "elapsed": 375,
     "status": "ok",
     "timestamp": 1602251643344,
     "user": {
      "displayName": "Stephan Hermanides",
      "photoUrl": "https://lh3.googleusercontent.com/a-/AOh14Ghv4g_ZoKrg5A0hgb2DCrjAtaY1TmQsQrMK0lO9Bw=s64",
      "userId": "10917467489758916868"
     },
     "user_tz": 300
    },
    "id": "tbVVUF_AKaed"
   },
   "outputs": [],
   "source": [
    "# class column is coded as 'pos' and 'neg', replacing with 1 and 0 to make it more suitable for modeling\n",
    "\n",
    "train['class'].replace(['pos', 'neg'], [1,0], inplace=True)\n",
    "test['class'].replace(['pos', 'neg'], [1,0], inplace=True)"
   ]
  },
  {
   "cell_type": "code",
   "execution_count": 4,
   "metadata": {
    "ExecuteTime": {
     "end_time": "2021-01-01T19:54:15.045110Z",
     "start_time": "2021-01-01T19:54:15.021142Z"
    },
    "colab": {
     "base_uri": "https://localhost:8080/",
     "height": 34
    },
    "executionInfo": {
     "elapsed": 473,
     "status": "ok",
     "timestamp": 1602251644931,
     "user": {
      "displayName": "Stephan Hermanides",
      "photoUrl": "https://lh3.googleusercontent.com/a-/AOh14Ghv4g_ZoKrg5A0hgb2DCrjAtaY1TmQsQrMK0lO9Bw=s64",
      "userId": "10917467489758916868"
     },
     "user_tz": 300
    },
    "id": "MVbgZBAwKaei",
    "outputId": "385b0d83-e091-4e36-c0d3-a0d7c12465f0"
   },
   "outputs": [
    {
     "data": {
      "text/plain": [
       "(60000, 171)"
      ]
     },
     "execution_count": 4,
     "metadata": {},
     "output_type": "execute_result"
    }
   ],
   "source": [
    "train.shape"
   ]
  },
  {
   "cell_type": "code",
   "execution_count": 5,
   "metadata": {
    "ExecuteTime": {
     "end_time": "2021-01-01T19:54:16.143670Z",
     "start_time": "2021-01-01T19:54:15.051307Z"
    },
    "colab": {
     "base_uri": "https://localhost:8080/",
     "height": 346
    },
    "executionInfo": {
     "elapsed": 1100,
     "status": "ok",
     "timestamp": 1602251646731,
     "user": {
      "displayName": "Stephan Hermanides",
      "photoUrl": "https://lh3.googleusercontent.com/a-/AOh14Ghv4g_ZoKrg5A0hgb2DCrjAtaY1TmQsQrMK0lO9Bw=s64",
      "userId": "10917467489758916868"
     },
     "user_tz": 300
    },
    "id": "z6UzeENhKaev",
    "outputId": "429303b8-5f54-44cf-ddd6-9e47f352c61f"
   },
   "outputs": [
    {
     "data": {
      "text/html": [
       "<div>\n",
       "<style scoped>\n",
       "    .dataframe tbody tr th:only-of-type {\n",
       "        vertical-align: middle;\n",
       "    }\n",
       "\n",
       "    .dataframe tbody tr th {\n",
       "        vertical-align: top;\n",
       "    }\n",
       "\n",
       "    .dataframe thead th {\n",
       "        text-align: right;\n",
       "    }\n",
       "</style>\n",
       "<table border=\"1\" class=\"dataframe\">\n",
       "  <thead>\n",
       "    <tr style=\"text-align: right;\">\n",
       "      <th></th>\n",
       "      <th>class</th>\n",
       "      <th>aa_000</th>\n",
       "      <th>ab_000</th>\n",
       "      <th>ac_000</th>\n",
       "      <th>ad_000</th>\n",
       "      <th>ae_000</th>\n",
       "      <th>af_000</th>\n",
       "      <th>ag_000</th>\n",
       "      <th>ag_001</th>\n",
       "      <th>ag_002</th>\n",
       "      <th>...</th>\n",
       "      <th>ee_002</th>\n",
       "      <th>ee_003</th>\n",
       "      <th>ee_004</th>\n",
       "      <th>ee_005</th>\n",
       "      <th>ee_006</th>\n",
       "      <th>ee_007</th>\n",
       "      <th>ee_008</th>\n",
       "      <th>ee_009</th>\n",
       "      <th>ef_000</th>\n",
       "      <th>eg_000</th>\n",
       "    </tr>\n",
       "  </thead>\n",
       "  <tbody>\n",
       "    <tr>\n",
       "      <th>count</th>\n",
       "      <td>60000.000000</td>\n",
       "      <td>6.000000e+04</td>\n",
       "      <td>13671.000000</td>\n",
       "      <td>5.666500e+04</td>\n",
       "      <td>4.513900e+04</td>\n",
       "      <td>57500.000000</td>\n",
       "      <td>57500.000000</td>\n",
       "      <td>5.932900e+04</td>\n",
       "      <td>5.932900e+04</td>\n",
       "      <td>5.932900e+04</td>\n",
       "      <td>...</td>\n",
       "      <td>5.932900e+04</td>\n",
       "      <td>5.932900e+04</td>\n",
       "      <td>5.932900e+04</td>\n",
       "      <td>5.932900e+04</td>\n",
       "      <td>5.932900e+04</td>\n",
       "      <td>5.932900e+04</td>\n",
       "      <td>5.932900e+04</td>\n",
       "      <td>5.932900e+04</td>\n",
       "      <td>57276.000000</td>\n",
       "      <td>57277.000000</td>\n",
       "    </tr>\n",
       "    <tr>\n",
       "      <th>mean</th>\n",
       "      <td>0.016667</td>\n",
       "      <td>5.933650e+04</td>\n",
       "      <td>0.713189</td>\n",
       "      <td>3.560143e+08</td>\n",
       "      <td>1.906206e+05</td>\n",
       "      <td>6.819130</td>\n",
       "      <td>11.006817</td>\n",
       "      <td>2.216364e+02</td>\n",
       "      <td>9.757223e+02</td>\n",
       "      <td>8.606015e+03</td>\n",
       "      <td>...</td>\n",
       "      <td>4.454897e+05</td>\n",
       "      <td>2.111264e+05</td>\n",
       "      <td>4.457343e+05</td>\n",
       "      <td>3.939462e+05</td>\n",
       "      <td>3.330582e+05</td>\n",
       "      <td>3.462714e+05</td>\n",
       "      <td>1.387300e+05</td>\n",
       "      <td>8.388915e+03</td>\n",
       "      <td>0.090579</td>\n",
       "      <td>0.212756</td>\n",
       "    </tr>\n",
       "    <tr>\n",
       "      <th>std</th>\n",
       "      <td>0.128020</td>\n",
       "      <td>1.454301e+05</td>\n",
       "      <td>3.478962</td>\n",
       "      <td>7.948749e+08</td>\n",
       "      <td>4.040441e+07</td>\n",
       "      <td>161.543373</td>\n",
       "      <td>209.792592</td>\n",
       "      <td>2.047846e+04</td>\n",
       "      <td>3.420053e+04</td>\n",
       "      <td>1.503220e+05</td>\n",
       "      <td>...</td>\n",
       "      <td>1.155540e+06</td>\n",
       "      <td>5.433188e+05</td>\n",
       "      <td>1.168314e+06</td>\n",
       "      <td>1.121044e+06</td>\n",
       "      <td>1.069160e+06</td>\n",
       "      <td>1.728056e+06</td>\n",
       "      <td>4.495100e+05</td>\n",
       "      <td>4.747043e+04</td>\n",
       "      <td>4.368855</td>\n",
       "      <td>8.830641</td>\n",
       "    </tr>\n",
       "    <tr>\n",
       "      <th>min</th>\n",
       "      <td>0.000000</td>\n",
       "      <td>0.000000e+00</td>\n",
       "      <td>0.000000</td>\n",
       "      <td>0.000000e+00</td>\n",
       "      <td>0.000000e+00</td>\n",
       "      <td>0.000000</td>\n",
       "      <td>0.000000</td>\n",
       "      <td>0.000000e+00</td>\n",
       "      <td>0.000000e+00</td>\n",
       "      <td>0.000000e+00</td>\n",
       "      <td>...</td>\n",
       "      <td>0.000000e+00</td>\n",
       "      <td>0.000000e+00</td>\n",
       "      <td>0.000000e+00</td>\n",
       "      <td>0.000000e+00</td>\n",
       "      <td>0.000000e+00</td>\n",
       "      <td>0.000000e+00</td>\n",
       "      <td>0.000000e+00</td>\n",
       "      <td>0.000000e+00</td>\n",
       "      <td>0.000000</td>\n",
       "      <td>0.000000</td>\n",
       "    </tr>\n",
       "    <tr>\n",
       "      <th>25%</th>\n",
       "      <td>0.000000</td>\n",
       "      <td>8.340000e+02</td>\n",
       "      <td>0.000000</td>\n",
       "      <td>1.600000e+01</td>\n",
       "      <td>2.400000e+01</td>\n",
       "      <td>0.000000</td>\n",
       "      <td>0.000000</td>\n",
       "      <td>0.000000e+00</td>\n",
       "      <td>0.000000e+00</td>\n",
       "      <td>0.000000e+00</td>\n",
       "      <td>...</td>\n",
       "      <td>2.936000e+03</td>\n",
       "      <td>1.166000e+03</td>\n",
       "      <td>2.700000e+03</td>\n",
       "      <td>3.584000e+03</td>\n",
       "      <td>5.120000e+02</td>\n",
       "      <td>1.100000e+02</td>\n",
       "      <td>0.000000e+00</td>\n",
       "      <td>0.000000e+00</td>\n",
       "      <td>0.000000</td>\n",
       "      <td>0.000000</td>\n",
       "    </tr>\n",
       "    <tr>\n",
       "      <th>50%</th>\n",
       "      <td>0.000000</td>\n",
       "      <td>3.077600e+04</td>\n",
       "      <td>0.000000</td>\n",
       "      <td>1.520000e+02</td>\n",
       "      <td>1.260000e+02</td>\n",
       "      <td>0.000000</td>\n",
       "      <td>0.000000</td>\n",
       "      <td>0.000000e+00</td>\n",
       "      <td>0.000000e+00</td>\n",
       "      <td>0.000000e+00</td>\n",
       "      <td>...</td>\n",
       "      <td>2.337960e+05</td>\n",
       "      <td>1.120860e+05</td>\n",
       "      <td>2.215180e+05</td>\n",
       "      <td>1.899880e+05</td>\n",
       "      <td>9.243200e+04</td>\n",
       "      <td>4.109800e+04</td>\n",
       "      <td>3.812000e+03</td>\n",
       "      <td>0.000000e+00</td>\n",
       "      <td>0.000000</td>\n",
       "      <td>0.000000</td>\n",
       "    </tr>\n",
       "    <tr>\n",
       "      <th>75%</th>\n",
       "      <td>0.000000</td>\n",
       "      <td>4.866800e+04</td>\n",
       "      <td>0.000000</td>\n",
       "      <td>9.640000e+02</td>\n",
       "      <td>4.300000e+02</td>\n",
       "      <td>0.000000</td>\n",
       "      <td>0.000000</td>\n",
       "      <td>0.000000e+00</td>\n",
       "      <td>0.000000e+00</td>\n",
       "      <td>0.000000e+00</td>\n",
       "      <td>...</td>\n",
       "      <td>4.383960e+05</td>\n",
       "      <td>2.182320e+05</td>\n",
       "      <td>4.666140e+05</td>\n",
       "      <td>4.032220e+05</td>\n",
       "      <td>2.750940e+05</td>\n",
       "      <td>1.678140e+05</td>\n",
       "      <td>1.397240e+05</td>\n",
       "      <td>2.028000e+03</td>\n",
       "      <td>0.000000</td>\n",
       "      <td>0.000000</td>\n",
       "    </tr>\n",
       "    <tr>\n",
       "      <th>max</th>\n",
       "      <td>1.000000</td>\n",
       "      <td>2.746564e+06</td>\n",
       "      <td>204.000000</td>\n",
       "      <td>2.130707e+09</td>\n",
       "      <td>8.584298e+09</td>\n",
       "      <td>21050.000000</td>\n",
       "      <td>20070.000000</td>\n",
       "      <td>3.376892e+06</td>\n",
       "      <td>4.109372e+06</td>\n",
       "      <td>1.055286e+07</td>\n",
       "      <td>...</td>\n",
       "      <td>7.793393e+07</td>\n",
       "      <td>3.775839e+07</td>\n",
       "      <td>9.715238e+07</td>\n",
       "      <td>5.743524e+07</td>\n",
       "      <td>3.160781e+07</td>\n",
       "      <td>1.195801e+08</td>\n",
       "      <td>1.926740e+07</td>\n",
       "      <td>3.810078e+06</td>\n",
       "      <td>482.000000</td>\n",
       "      <td>1146.000000</td>\n",
       "    </tr>\n",
       "  </tbody>\n",
       "</table>\n",
       "<p>8 rows × 171 columns</p>\n",
       "</div>"
      ],
      "text/plain": [
       "              class        aa_000        ab_000        ac_000        ad_000  \\\n",
       "count  60000.000000  6.000000e+04  13671.000000  5.666500e+04  4.513900e+04   \n",
       "mean       0.016667  5.933650e+04      0.713189  3.560143e+08  1.906206e+05   \n",
       "std        0.128020  1.454301e+05      3.478962  7.948749e+08  4.040441e+07   \n",
       "min        0.000000  0.000000e+00      0.000000  0.000000e+00  0.000000e+00   \n",
       "25%        0.000000  8.340000e+02      0.000000  1.600000e+01  2.400000e+01   \n",
       "50%        0.000000  3.077600e+04      0.000000  1.520000e+02  1.260000e+02   \n",
       "75%        0.000000  4.866800e+04      0.000000  9.640000e+02  4.300000e+02   \n",
       "max        1.000000  2.746564e+06    204.000000  2.130707e+09  8.584298e+09   \n",
       "\n",
       "             ae_000        af_000        ag_000        ag_001        ag_002  \\\n",
       "count  57500.000000  57500.000000  5.932900e+04  5.932900e+04  5.932900e+04   \n",
       "mean       6.819130     11.006817  2.216364e+02  9.757223e+02  8.606015e+03   \n",
       "std      161.543373    209.792592  2.047846e+04  3.420053e+04  1.503220e+05   \n",
       "min        0.000000      0.000000  0.000000e+00  0.000000e+00  0.000000e+00   \n",
       "25%        0.000000      0.000000  0.000000e+00  0.000000e+00  0.000000e+00   \n",
       "50%        0.000000      0.000000  0.000000e+00  0.000000e+00  0.000000e+00   \n",
       "75%        0.000000      0.000000  0.000000e+00  0.000000e+00  0.000000e+00   \n",
       "max    21050.000000  20070.000000  3.376892e+06  4.109372e+06  1.055286e+07   \n",
       "\n",
       "       ...        ee_002        ee_003        ee_004        ee_005  \\\n",
       "count  ...  5.932900e+04  5.932900e+04  5.932900e+04  5.932900e+04   \n",
       "mean   ...  4.454897e+05  2.111264e+05  4.457343e+05  3.939462e+05   \n",
       "std    ...  1.155540e+06  5.433188e+05  1.168314e+06  1.121044e+06   \n",
       "min    ...  0.000000e+00  0.000000e+00  0.000000e+00  0.000000e+00   \n",
       "25%    ...  2.936000e+03  1.166000e+03  2.700000e+03  3.584000e+03   \n",
       "50%    ...  2.337960e+05  1.120860e+05  2.215180e+05  1.899880e+05   \n",
       "75%    ...  4.383960e+05  2.182320e+05  4.666140e+05  4.032220e+05   \n",
       "max    ...  7.793393e+07  3.775839e+07  9.715238e+07  5.743524e+07   \n",
       "\n",
       "             ee_006        ee_007        ee_008        ee_009        ef_000  \\\n",
       "count  5.932900e+04  5.932900e+04  5.932900e+04  5.932900e+04  57276.000000   \n",
       "mean   3.330582e+05  3.462714e+05  1.387300e+05  8.388915e+03      0.090579   \n",
       "std    1.069160e+06  1.728056e+06  4.495100e+05  4.747043e+04      4.368855   \n",
       "min    0.000000e+00  0.000000e+00  0.000000e+00  0.000000e+00      0.000000   \n",
       "25%    5.120000e+02  1.100000e+02  0.000000e+00  0.000000e+00      0.000000   \n",
       "50%    9.243200e+04  4.109800e+04  3.812000e+03  0.000000e+00      0.000000   \n",
       "75%    2.750940e+05  1.678140e+05  1.397240e+05  2.028000e+03      0.000000   \n",
       "max    3.160781e+07  1.195801e+08  1.926740e+07  3.810078e+06    482.000000   \n",
       "\n",
       "             eg_000  \n",
       "count  57277.000000  \n",
       "mean       0.212756  \n",
       "std        8.830641  \n",
       "min        0.000000  \n",
       "25%        0.000000  \n",
       "50%        0.000000  \n",
       "75%        0.000000  \n",
       "max     1146.000000  \n",
       "\n",
       "[8 rows x 171 columns]"
      ]
     },
     "execution_count": 5,
     "metadata": {},
     "output_type": "execute_result"
    }
   ],
   "source": [
    "train.describe()"
   ]
  },
  {
   "cell_type": "markdown",
   "metadata": {
    "id": "2ax8zu2ldNdl"
   },
   "source": [
    "All columns are positive numbers. Ranges differ significantly. **Scaling will be necessary for distance-based models / transformations**"
   ]
  },
  {
   "cell_type": "code",
   "execution_count": 6,
   "metadata": {
    "ExecuteTime": {
     "end_time": "2021-01-01T19:54:16.241432Z",
     "start_time": "2021-01-01T19:54:16.147570Z"
    },
    "colab": {
     "base_uri": "https://localhost:8080/",
     "height": 1000
    },
    "executionInfo": {
     "elapsed": 251,
     "status": "ok",
     "timestamp": 1602182957429,
     "user": {
      "displayName": "Stephan Hermanides",
      "photoUrl": "https://lh3.googleusercontent.com/a-/AOh14Ghv4g_ZoKrg5A0hgb2DCrjAtaY1TmQsQrMK0lO9Bw=s64",
      "userId": "10917467489758916868"
     },
     "user_tz": 300
    },
    "id": "AqsG4SYQKaez",
    "outputId": "166baaac-22be-4c14-e9ff-957bc70d05f3"
   },
   "outputs": [
    {
     "name": "stdout",
     "output_type": "stream",
     "text": [
      "<class 'pandas.core.frame.DataFrame'>\n",
      "RangeIndex: 60000 entries, 0 to 59999\n",
      "Data columns (total 171 columns):\n",
      " #    Column  Non-Null Count  Dtype  \n",
      "---   ------  --------------  -----  \n",
      " 0    class   60000 non-null  int64  \n",
      " 1    aa_000  60000 non-null  int64  \n",
      " 2    ab_000  13671 non-null  float64\n",
      " 3    ac_000  56665 non-null  float64\n",
      " 4    ad_000  45139 non-null  float64\n",
      " 5    ae_000  57500 non-null  float64\n",
      " 6    af_000  57500 non-null  float64\n",
      " 7    ag_000  59329 non-null  float64\n",
      " 8    ag_001  59329 non-null  float64\n",
      " 9    ag_002  59329 non-null  float64\n",
      " 10   ag_003  59329 non-null  float64\n",
      " 11   ag_004  59329 non-null  float64\n",
      " 12   ag_005  59329 non-null  float64\n",
      " 13   ag_006  59329 non-null  float64\n",
      " 14   ag_007  59329 non-null  float64\n",
      " 15   ag_008  59329 non-null  float64\n",
      " 16   ag_009  59329 non-null  float64\n",
      " 17   ah_000  59355 non-null  float64\n",
      " 18   ai_000  59371 non-null  float64\n",
      " 19   aj_000  59371 non-null  float64\n",
      " 20   ak_000  55600 non-null  float64\n",
      " 21   al_000  59358 non-null  float64\n",
      " 22   am_0    59371 non-null  float64\n",
      " 23   an_000  59358 non-null  float64\n",
      " 24   ao_000  59411 non-null  float64\n",
      " 25   ap_000  59358 non-null  float64\n",
      " 26   aq_000  59411 non-null  float64\n",
      " 27   ar_000  57277 non-null  float64\n",
      " 28   as_000  59371 non-null  float64\n",
      " 29   at_000  59371 non-null  float64\n",
      " 30   au_000  59371 non-null  float64\n",
      " 31   av_000  57500 non-null  float64\n",
      " 32   ax_000  57499 non-null  float64\n",
      " 33   ay_000  59329 non-null  float64\n",
      " 34   ay_001  59329 non-null  float64\n",
      " 35   ay_002  59329 non-null  float64\n",
      " 36   ay_003  59329 non-null  float64\n",
      " 37   ay_004  59329 non-null  float64\n",
      " 38   ay_005  59329 non-null  float64\n",
      " 39   ay_006  59329 non-null  float64\n",
      " 40   ay_007  59329 non-null  float64\n",
      " 41   ay_008  59329 non-null  float64\n",
      " 42   ay_009  59329 non-null  float64\n",
      " 43   az_000  59329 non-null  float64\n",
      " 44   az_001  59329 non-null  float64\n",
      " 45   az_002  59329 non-null  float64\n",
      " 46   az_003  59329 non-null  float64\n",
      " 47   az_004  59329 non-null  float64\n",
      " 48   az_005  59329 non-null  float64\n",
      " 49   az_006  59329 non-null  float64\n",
      " 50   az_007  59329 non-null  float64\n",
      " 51   az_008  59329 non-null  float64\n",
      " 52   az_009  59329 non-null  float64\n",
      " 53   ba_000  59312 non-null  float64\n",
      " 54   ba_001  59312 non-null  float64\n",
      " 55   ba_002  59312 non-null  float64\n",
      " 56   ba_003  59312 non-null  float64\n",
      " 57   ba_004  59312 non-null  float64\n",
      " 58   ba_005  59312 non-null  float64\n",
      " 59   ba_006  59312 non-null  float64\n",
      " 60   ba_007  59312 non-null  float64\n",
      " 61   ba_008  59312 non-null  float64\n",
      " 62   ba_009  59312 non-null  float64\n",
      " 63   bb_000  59355 non-null  float64\n",
      " 64   bc_000  57275 non-null  float64\n",
      " 65   bd_000  57273 non-null  float64\n",
      " 66   be_000  57497 non-null  float64\n",
      " 67   bf_000  57500 non-null  float64\n",
      " 68   bg_000  59358 non-null  float64\n",
      " 69   bh_000  59358 non-null  float64\n",
      " 70   bi_000  59411 non-null  float64\n",
      " 71   bj_000  59411 non-null  float64\n",
      " 72   bk_000  36966 non-null  float64\n",
      " 73   bl_000  32723 non-null  float64\n",
      " 74   bm_000  20451 non-null  float64\n",
      " 75   bn_000  15991 non-null  float64\n",
      " 76   bo_000  13667 non-null  float64\n",
      " 77   bp_000  12260 non-null  float64\n",
      " 78   bq_000  11278 non-null  float64\n",
      " 79   br_000  10736 non-null  float64\n",
      " 80   bs_000  59274 non-null  float64\n",
      " 81   bt_000  59833 non-null  float64\n",
      " 82   bu_000  59309 non-null  float64\n",
      " 83   bv_000  59309 non-null  float64\n",
      " 84   bx_000  56743 non-null  float64\n",
      " 85   by_000  59527 non-null  float64\n",
      " 86   bz_000  57277 non-null  float64\n",
      " 87   ca_000  55644 non-null  float64\n",
      " 88   cb_000  59274 non-null  float64\n",
      " 89   cc_000  56745 non-null  float64\n",
      " 90   cd_000  59324 non-null  float64\n",
      " 91   ce_000  57498 non-null  float64\n",
      " 92   cf_000  45139 non-null  float64\n",
      " 93   cg_000  45139 non-null  float64\n",
      " 94   ch_000  45139 non-null  float64\n",
      " 95   ci_000  59662 non-null  float64\n",
      " 96   cj_000  59662 non-null  float64\n",
      " 97   ck_000  59662 non-null  float64\n",
      " 98   cl_000  50447 non-null  float64\n",
      " 99   cm_000  50123 non-null  float64\n",
      " 100  cn_000  59313 non-null  float64\n",
      " 101  cn_001  59313 non-null  float64\n",
      " 102  cn_002  59313 non-null  float64\n",
      " 103  cn_003  59313 non-null  float64\n",
      " 104  cn_004  59313 non-null  float64\n",
      " 105  cn_005  59313 non-null  float64\n",
      " 106  cn_006  59313 non-null  float64\n",
      " 107  cn_007  59313 non-null  float64\n",
      " 108  cn_008  59313 non-null  float64\n",
      " 109  cn_009  59313 non-null  float64\n",
      " 110  co_000  45139 non-null  float64\n",
      " 111  cp_000  57276 non-null  float64\n",
      " 112  cq_000  59309 non-null  float64\n",
      " 113  cr_000  13671 non-null  float64\n",
      " 114  cs_000  59331 non-null  float64\n",
      " 115  cs_001  59331 non-null  float64\n",
      " 116  cs_002  59331 non-null  float64\n",
      " 117  cs_003  59331 non-null  float64\n",
      " 118  cs_004  59331 non-null  float64\n",
      " 119  cs_005  59331 non-null  float64\n",
      " 120  cs_006  59331 non-null  float64\n",
      " 121  cs_007  59331 non-null  float64\n",
      " 122  cs_008  59331 non-null  float64\n",
      " 123  cs_009  59331 non-null  float64\n",
      " 124  ct_000  46192 non-null  float64\n",
      " 125  cu_000  46192 non-null  float64\n",
      " 126  cv_000  46192 non-null  float64\n",
      " 127  cx_000  46192 non-null  float64\n",
      " 128  cy_000  46192 non-null  float64\n",
      " 129  cz_000  46192 non-null  float64\n",
      " 130  da_000  46192 non-null  float64\n",
      " 131  db_000  46192 non-null  float64\n",
      " 132  dc_000  46192 non-null  float64\n",
      " 133  dd_000  57497 non-null  float64\n",
      " 134  de_000  57276 non-null  float64\n",
      " 135  df_000  55992 non-null  float64\n",
      " 136  dg_000  55992 non-null  float64\n",
      " 137  dh_000  55992 non-null  float64\n",
      " 138  di_000  55994 non-null  float64\n",
      " 139  dj_000  55993 non-null  float64\n",
      " 140  dk_000  55993 non-null  float64\n",
      " 141  dl_000  55992 non-null  float64\n",
      " 142  dm_000  55991 non-null  float64\n",
      " 143  dn_000  59309 non-null  float64\n",
      " 144  do_000  57276 non-null  float64\n",
      " 145  dp_000  57274 non-null  float64\n",
      " 146  dq_000  57274 non-null  float64\n",
      " 147  dr_000  57274 non-null  float64\n",
      " 148  ds_000  57273 non-null  float64\n",
      " 149  dt_000  57273 non-null  float64\n",
      " 150  du_000  57274 non-null  float64\n",
      " 151  dv_000  57274 non-null  float64\n",
      " 152  dx_000  57277 non-null  float64\n",
      " 153  dy_000  57276 non-null  float64\n",
      " 154  dz_000  57277 non-null  float64\n",
      " 155  ea_000  57277 non-null  float64\n",
      " 156  eb_000  55993 non-null  float64\n",
      " 157  ec_00   49761 non-null  float64\n",
      " 158  ed_000  50447 non-null  float64\n",
      " 159  ee_000  59329 non-null  float64\n",
      " 160  ee_001  59329 non-null  float64\n",
      " 161  ee_002  59329 non-null  float64\n",
      " 162  ee_003  59329 non-null  float64\n",
      " 163  ee_004  59329 non-null  float64\n",
      " 164  ee_005  59329 non-null  float64\n",
      " 165  ee_006  59329 non-null  float64\n",
      " 166  ee_007  59329 non-null  float64\n",
      " 167  ee_008  59329 non-null  float64\n",
      " 168  ee_009  59329 non-null  float64\n",
      " 169  ef_000  57276 non-null  float64\n",
      " 170  eg_000  57277 non-null  float64\n",
      "dtypes: float64(169), int64(2)\n",
      "memory usage: 78.3 MB\n"
     ]
    }
   ],
   "source": [
    "train.info(max_cols=200)"
   ]
  },
  {
   "cell_type": "markdown",
   "metadata": {
    "id": "f2vILiecKafD"
   },
   "source": [
    "### Missing values"
   ]
  },
  {
   "cell_type": "markdown",
   "metadata": {
    "id": "5HV0lY4sKafF"
   },
   "source": [
    "High number of null values in the data. Getting an idea percentage-wise per column:"
   ]
  },
  {
   "cell_type": "code",
   "execution_count": 7,
   "metadata": {
    "ExecuteTime": {
     "end_time": "2021-01-01T19:54:16.520489Z",
     "start_time": "2021-01-01T19:54:16.247307Z"
    },
    "colab": {
     "base_uri": "https://localhost:8080/",
     "height": 266
    },
    "executionInfo": {
     "elapsed": 462,
     "status": "ok",
     "timestamp": 1602182965416,
     "user": {
      "displayName": "Stephan Hermanides",
      "photoUrl": "https://lh3.googleusercontent.com/a-/AOh14Ghv4g_ZoKrg5A0hgb2DCrjAtaY1TmQsQrMK0lO9Bw=s64",
      "userId": "10917467489758916868"
     },
     "user_tz": 300
    },
    "id": "1d2vkMujKafH",
    "outputId": "6558cc34-11d0-4af3-9d1f-77924372b743"
   },
   "outputs": [
    {
     "data": {
      "image/png": "[encoded data removed]",
      "text/plain": [
       "<Figure size 432x288 with 1 Axes>"
      ]
     },
     "metadata": {
      "needs_background": "light"
     },
     "output_type": "display_data"
    }
   ],
   "source": [
    "train.isna().mean().plot();"
   ]
  },
  {
   "cell_type": "markdown",
   "metadata": {
    "id": "e0bJaInwKafK"
   },
   "source": [
    "Based on this plot I decided to drop columns that have >20% missing values. Usually this decision would be based on some domain knowledge, but the columns here are anonymized. I will be imputing missing values, but doing so on columns that have too many missing values can reduce the variance in the data"
   ]
  },
  {
   "cell_type": "code",
   "execution_count": 8,
   "metadata": {
    "ExecuteTime": {
     "end_time": "2021-01-01T19:54:16.576025Z",
     "start_time": "2021-01-01T19:54:16.526685Z"
    },
    "executionInfo": {
     "elapsed": 685,
     "status": "ok",
     "timestamp": 1602251658065,
     "user": {
      "displayName": "Stephan Hermanides",
      "photoUrl": "https://lh3.googleusercontent.com/a-/AOh14Ghv4g_ZoKrg5A0hgb2DCrjAtaY1TmQsQrMK0lO9Bw=s64",
      "userId": "10917467489758916868"
     },
     "user_tz": 300
    },
    "id": "EwXC02lYKafL"
   },
   "outputs": [],
   "source": [
    "dropped_columns = train.loc[:, train.isna().mean() > 0.2].columns"
   ]
  },
  {
   "cell_type": "code",
   "execution_count": 9,
   "metadata": {
    "ExecuteTime": {
     "end_time": "2021-01-01T19:54:16.653490Z",
     "start_time": "2021-01-01T19:54:16.587899Z"
    },
    "executionInfo": {
     "elapsed": 298,
     "status": "ok",
     "timestamp": 1602251658897,
     "user": {
      "displayName": "Stephan Hermanides",
      "photoUrl": "https://lh3.googleusercontent.com/a-/AOh14Ghv4g_ZoKrg5A0hgb2DCrjAtaY1TmQsQrMK0lO9Bw=s64",
      "userId": "10917467489758916868"
     },
     "user_tz": 300
    },
    "id": "NLWEBCQWKafP"
   },
   "outputs": [],
   "source": [
    "train.drop(columns=dropped_columns, inplace= True)\n",
    "test.drop(columns=dropped_columns, inplace= True)"
   ]
  },
  {
   "cell_type": "code",
   "execution_count": 10,
   "metadata": {
    "ExecuteTime": {
     "end_time": "2021-01-01T19:54:16.677312Z",
     "start_time": "2021-01-01T19:54:16.657523Z"
    },
    "colab": {
     "base_uri": "https://localhost:8080/",
     "height": 34
    },
    "executionInfo": {
     "elapsed": 410,
     "status": "ok",
     "timestamp": 1602251660234,
     "user": {
      "displayName": "Stephan Hermanides",
      "photoUrl": "https://lh3.googleusercontent.com/a-/AOh14Ghv4g_ZoKrg5A0hgb2DCrjAtaY1TmQsQrMK0lO9Bw=s64",
      "userId": "10917467489758916868"
     },
     "user_tz": 300
    },
    "id": "v-t2amKgKafU",
    "outputId": "5699e9c0-73ed-45e6-d6b4-e502be629084"
   },
   "outputs": [
    {
     "data": {
      "text/plain": [
       "(60000, 147)"
      ]
     },
     "execution_count": 10,
     "metadata": {},
     "output_type": "execute_result"
    }
   ],
   "source": [
    "train.shape"
   ]
  },
  {
   "cell_type": "markdown",
   "metadata": {
    "id": "OgHD5AoSKafb"
   },
   "source": [
    "### Dimensionality"
   ]
  },
  {
   "cell_type": "markdown",
   "metadata": {
    "id": "japbPh-mKafe"
   },
   "source": [
    "High-dimensional data can negatively impact the performance of ML algorithms and increases the volume of data needed to make accurate predictions exponentially. \n",
    "\n",
    "Having this many features also makes me worry that there may be some multi-collinearity. This can cause problems (overfitting, affects statistical significance) in linear models especially and can be an indication that dimensionality reduction may be warranted. I will check for this first."
   ]
  },
  {
   "cell_type": "code",
   "execution_count": 11,
   "metadata": {
    "ExecuteTime": {
     "end_time": "2021-01-01T19:54:20.121919Z",
     "start_time": "2021-01-01T19:54:16.683822Z"
    },
    "colab": {
     "base_uri": "https://localhost:8080/",
     "height": 513
    },
    "executionInfo": {
     "elapsed": 34884,
     "status": "ok",
     "timestamp": 1602096485154,
     "user": {
      "displayName": "Stephan Hermanides",
      "photoUrl": "https://lh3.googleusercontent.com/a-/AOh14Ghv4g_ZoKrg5A0hgb2DCrjAtaY1TmQsQrMK0lO9Bw=s64",
      "userId": "10917467489758916868"
     },
     "user_tz": 300
    },
    "id": "INZOyV4kKaff",
    "outputId": "d2c6b8b5-60cd-462e-9afc-930accc82f21"
   },
   "outputs": [
    {
     "data": {
      "image/png": "[encoded data removed]",
      "text/plain": [
       "<Figure size 1080x576 with 2 Axes>"
      ]
     },
     "metadata": {
      "needs_background": "light"
     },
     "output_type": "display_data"
    }
   ],
   "source": [
    "plt.figure(figsize=(15,8))\n",
    "sns.heatmap(train.corr(), cmap=\"seismic\", annot=False, vmin=-1, vmax=1);"
   ]
  },
  {
   "cell_type": "markdown",
   "metadata": {
    "id": "VflPkYmDKafn"
   },
   "source": [
    "The heatmap shows very strong correlation between many of our features. This data can likely be represented in less dimensions than it currently has."
   ]
  },
  {
   "cell_type": "markdown",
   "metadata": {
    "id": "8h9SSmXcd2_9"
   },
   "source": [
    "### Dimensionality reduction"
   ]
  },
  {
   "cell_type": "code",
   "execution_count": 12,
   "metadata": {
    "ExecuteTime": {
     "end_time": "2021-01-01T19:54:20.172724Z",
     "start_time": "2021-01-01T19:54:20.127773Z"
    },
    "executionInfo": {
     "elapsed": 455,
     "status": "ok",
     "timestamp": 1602251670848,
     "user": {
      "displayName": "Stephan Hermanides",
      "photoUrl": "https://lh3.googleusercontent.com/a-/AOh14Ghv4g_ZoKrg5A0hgb2DCrjAtaY1TmQsQrMK0lO9Bw=s64",
      "userId": "10917467489758916868"
     },
     "user_tz": 300
    },
    "id": "no4gU_WJKafn"
   },
   "outputs": [],
   "source": [
    "X = train.drop(columns='class')\n",
    "y = train['class']\n",
    "X_test = test.drop(columns='class')\n",
    "y_test = test['class']"
   ]
  },
  {
   "cell_type": "markdown",
   "metadata": {
    "id": "E2LS5_lDd8EV"
   },
   "source": [
    "Using Principal Component Analysis (PCA) to represent the data in less dimensions, while keeping at least 95% of variance of the data represented. This is a number that could be tuned if later results do not look good."
   ]
  },
  {
   "cell_type": "code",
   "execution_count": 13,
   "metadata": {
    "ExecuteTime": {
     "end_time": "2021-01-01T19:54:22.793296Z",
     "start_time": "2021-01-01T19:54:20.177044Z"
    },
    "id": "gwFXrNacKafq"
   },
   "outputs": [],
   "source": [
    "imp = SimpleImputer(strategy='median')\n",
    "X_imputed = imp.fit_transform(X)\n",
    "scale = StandardScaler()\n",
    "X_scaled = scale.fit_transform(X_imputed)\n",
    "pca = PCA(n_components = 0.95)\n",
    "pca.fit(X_scaled)\n",
    "reduced = pca.transform(X_scaled)"
   ]
  },
  {
   "cell_type": "code",
   "execution_count": 14,
   "metadata": {
    "ExecuteTime": {
     "end_time": "2021-01-01T19:54:22.805435Z",
     "start_time": "2021-01-01T19:54:22.795688Z"
    },
    "colab": {
     "base_uri": "https://localhost:8080/",
     "height": 34
    },
    "executionInfo": {
     "elapsed": 4419,
     "status": "ok",
     "timestamp": 1601952996051,
     "user": {
      "displayName": "Stephan Hermanides",
      "photoUrl": "https://lh3.googleusercontent.com/a-/AOh14Ghv4g_ZoKrg5A0hgb2DCrjAtaY1TmQsQrMK0lO9Bw=s64",
      "userId": "10917467489758916868"
     },
     "user_tz": 300
    },
    "id": "uPSUVmJFKaf6",
    "outputId": "e632b68b-9249-4139-9043-7cebaf49c812"
   },
   "outputs": [
    {
     "data": {
      "text/plain": [
       "71"
      ]
     },
     "execution_count": 14,
     "metadata": {},
     "output_type": "execute_result"
    }
   ],
   "source": [
    "# Check number of components necessary to reach 95% explained variance\n",
    "pca.n_components_"
   ]
  },
  {
   "cell_type": "code",
   "execution_count": 15,
   "metadata": {
    "ExecuteTime": {
     "end_time": "2021-01-01T19:54:23.024054Z",
     "start_time": "2021-01-01T19:54:22.809211Z"
    },
    "colab": {
     "base_uri": "https://localhost:8080/",
     "height": 282
    },
    "executionInfo": {
     "elapsed": 4071,
     "status": "ok",
     "timestamp": 1601952996463,
     "user": {
      "displayName": "Stephan Hermanides",
      "photoUrl": "https://lh3.googleusercontent.com/a-/AOh14Ghv4g_ZoKrg5A0hgb2DCrjAtaY1TmQsQrMK0lO9Bw=s64",
      "userId": "10917467489758916868"
     },
     "user_tz": 300
    },
    "id": "IeHznnjiKaf9",
    "outputId": "bd22742d-fffe-4ba1-ce19-493e0dc14de0"
   },
   "outputs": [
    {
     "data": {
      "text/plain": [
       "[<matplotlib.lines.Line2D at 0x7fcda7138490>]"
      ]
     },
     "execution_count": 15,
     "metadata": {},
     "output_type": "execute_result"
    },
    {
     "data": {
      "image/png": "[encoded data removed]",
      "text/plain": [
       "<Figure size 432x288 with 1 Axes>"
      ]
     },
     "metadata": {
      "needs_background": "light"
     },
     "output_type": "display_data"
    }
   ],
   "source": [
    "plt.plot(range(pca.n_components_), pca.explained_variance_ratio_)"
   ]
  },
  {
   "cell_type": "markdown",
   "metadata": {
    "id": "8Fwo9C6fejwq"
   },
   "source": [
    "If model efficiency becomes a problem, this graph shows that most of the explained variance falls inside the first 10 components. It would be possible to reduce the number of components and test model performance as a trade-off between efficiency (speed / memory) and performance (auc). For now, since I am focusing on maximizing performance, I will stick with 95% explained variance"
   ]
  },
  {
   "cell_type": "code",
   "execution_count": 16,
   "metadata": {
    "ExecuteTime": {
     "end_time": "2021-01-01T19:54:32.388348Z",
     "start_time": "2021-01-01T19:54:23.027551Z"
    },
    "colab": {
     "base_uri": "https://localhost:8080/",
     "height": 487
    },
    "executionInfo": {
     "elapsed": 4297,
     "status": "ok",
     "timestamp": 1601952997796,
     "user": {
      "displayName": "Stephan Hermanides",
      "photoUrl": "https://lh3.googleusercontent.com/a-/AOh14Ghv4g_ZoKrg5A0hgb2DCrjAtaY1TmQsQrMK0lO9Bw=s64",
      "userId": "10917467489758916868"
     },
     "user_tz": 300
    },
    "id": "n0nordFGKagA",
    "outputId": "97e5225a-5f1a-470b-d219-1695587d60bb"
   },
   "outputs": [
    {
     "data": {
      "image/png": "[encoded data removed]",
      "text/plain": [
       "<Figure size 1080x576 with 2 Axes>"
      ]
     },
     "metadata": {
      "needs_background": "light"
     },
     "output_type": "display_data"
    }
   ],
   "source": [
    "plt.figure(figsize=(15,8))\n",
    "sns.heatmap(pd.DataFrame(reduced).corr(), cmap=\"seismic\", annot=False, vmin=-1, vmax=1);"
   ]
  },
  {
   "cell_type": "markdown",
   "metadata": {
    "id": "Y9blUT2lKagI"
   },
   "source": [
    "No more collinearity should help linear models perform better and less features can make model execution more efficient."
   ]
  },
  {
   "cell_type": "markdown",
   "metadata": {
    "id": "zN49sZ5nKagI"
   },
   "source": [
    "### PCA impact baseline\n",
    "Creating a baseline score to test impact of dimensionality reduction."
   ]
  },
  {
   "cell_type": "code",
   "execution_count": 17,
   "metadata": {
    "ExecuteTime": {
     "end_time": "2021-01-01T19:54:56.827727Z",
     "start_time": "2021-01-01T19:54:32.392599Z"
    },
    "colab": {
     "base_uri": "https://localhost:8080/",
     "height": 68
    },
    "executionInfo": {
     "elapsed": 43612,
     "status": "ok",
     "timestamp": 1601942423695,
     "user": {
      "displayName": "Stephan Hermanides",
      "photoUrl": "https://lh3.googleusercontent.com/a-/AOh14Ghv4g_ZoKrg5A0hgb2DCrjAtaY1TmQsQrMK0lO9Bw=s64",
      "userId": "10917467489758916868"
     },
     "user_tz": 300
    },
    "id": "OTXkO2b8KagX",
    "outputId": "ea5f5214-a461-4bfb-d0df-f2a5f93c3008"
   },
   "outputs": [
    {
     "name": "stderr",
     "output_type": "stream",
     "text": [
      "[Parallel(n_jobs=2)]: Using backend LokyBackend with 2 concurrent workers.\n",
      "[Parallel(n_jobs=2)]: Done  10 out of  10 | elapsed:   30.8s finished\n"
     ]
    },
    {
     "data": {
      "text/plain": [
       "0.97"
      ]
     },
     "execution_count": 17,
     "metadata": {},
     "output_type": "execute_result"
    }
   ],
   "source": [
    "baseline = make_pipeline(SimpleImputer(strategy='median'), StandardScaler(), LogisticRegression())\n",
    "round(np.mean(cross_val_score(baseline, X, y, scoring='roc_auc', cv=10, verbose=1, n_jobs=2)),3)"
   ]
  },
  {
   "cell_type": "code",
   "execution_count": 18,
   "metadata": {
    "ExecuteTime": {
     "end_time": "2021-01-01T19:55:18.047896Z",
     "start_time": "2021-01-01T19:54:56.831818Z"
    },
    "colab": {
     "base_uri": "https://localhost:8080/",
     "height": 68
    },
    "executionInfo": {
     "elapsed": 77627,
     "status": "ok",
     "timestamp": 1601942457725,
     "user": {
      "displayName": "Stephan Hermanides",
      "photoUrl": "https://lh3.googleusercontent.com/a-/AOh14Ghv4g_ZoKrg5A0hgb2DCrjAtaY1TmQsQrMK0lO9Bw=s64",
      "userId": "10917467489758916868"
     },
     "user_tz": 300
    },
    "id": "C0ecpH3zKagb",
    "outputId": "c03124b7-2d62-40a4-f92d-fb556587157e"
   },
   "outputs": [
    {
     "name": "stderr",
     "output_type": "stream",
     "text": [
      "[Parallel(n_jobs=2)]: Using backend LokyBackend with 2 concurrent workers.\n",
      "[Parallel(n_jobs=2)]: Done  10 out of  10 | elapsed:   31.9s finished\n"
     ]
    },
    {
     "data": {
      "text/plain": [
       "0.965"
      ]
     },
     "execution_count": 18,
     "metadata": {},
     "output_type": "execute_result"
    }
   ],
   "source": [
    "pca_pipeline = make_pipeline(SimpleImputer(strategy='median'), StandardScaler(), PCA(n_components = 0.95), LogisticRegression())\n",
    "round(np.mean(cross_val_score(pca_pipeline, X, y, scoring='roc_auc', cv=10, verbose=1, n_jobs=2)),3)"
   ]
  },
  {
   "cell_type": "markdown",
   "metadata": {},
   "source": [
    "The difference is small enough to believe that PCA is a viable option to test"
   ]
  },
  {
   "cell_type": "markdown",
   "metadata": {
    "id": "moXMe7MtKage"
   },
   "source": [
    "### Class imbalance\n",
    "\n",
    "Checking for class imbalance in the data"
   ]
  },
  {
   "cell_type": "code",
   "execution_count": 19,
   "metadata": {
    "ExecuteTime": {
     "end_time": "2021-01-01T19:55:18.236119Z",
     "start_time": "2021-01-01T19:55:18.051176Z"
    },
    "colab": {
     "base_uri": "https://localhost:8080/",
     "height": 279
    },
    "executionInfo": {
     "elapsed": 77611,
     "status": "ok",
     "timestamp": 1601942457727,
     "user": {
      "displayName": "Stephan Hermanides",
      "photoUrl": "https://lh3.googleusercontent.com/a-/AOh14Ghv4g_ZoKrg5A0hgb2DCrjAtaY1TmQsQrMK0lO9Bw=s64",
      "userId": "10917467489758916868"
     },
     "user_tz": 300
    },
    "id": "aRfXEUmwKage",
    "outputId": "a3b504a0-6c0b-45ac-de64-47d131fcffea"
   },
   "outputs": [
    {
     "data": {
      "image/png": "[encoded data removed]",
      "text/plain": [
       "<Figure size 432x288 with 1 Axes>"
      ]
     },
     "metadata": {
      "needs_background": "light"
     },
     "output_type": "display_data"
    }
   ],
   "source": [
    "sns.countplot(x='class', data=train);"
   ]
  },
  {
   "cell_type": "code",
   "execution_count": 20,
   "metadata": {
    "ExecuteTime": {
     "end_time": "2021-01-01T19:55:18.257365Z",
     "start_time": "2021-01-01T19:55:18.239207Z"
    },
    "colab": {
     "base_uri": "https://localhost:8080/",
     "height": 68
    },
    "executionInfo": {
     "elapsed": 77766,
     "status": "ok",
     "timestamp": 1601942457893,
     "user": {
      "displayName": "Stephan Hermanides",
      "photoUrl": "https://lh3.googleusercontent.com/a-/AOh14Ghv4g_ZoKrg5A0hgb2DCrjAtaY1TmQsQrMK0lO9Bw=s64",
      "userId": "10917467489758916868"
     },
     "user_tz": 300
    },
    "id": "6r841T_7Kagk",
    "outputId": "f5f46ec5-b4e5-4c0e-bb71-22d34378ecc3"
   },
   "outputs": [
    {
     "data": {
      "text/plain": [
       "0    59000\n",
       "1     1000\n",
       "Name: class, dtype: int64"
      ]
     },
     "execution_count": 20,
     "metadata": {},
     "output_type": "execute_result"
    }
   ],
   "source": [
    "train['class'].value_counts()"
   ]
  },
  {
   "cell_type": "code",
   "execution_count": 21,
   "metadata": {
    "ExecuteTime": {
     "end_time": "2021-01-01T19:55:18.272924Z",
     "start_time": "2021-01-01T19:55:18.260334Z"
    },
    "colab": {
     "base_uri": "https://localhost:8080/",
     "height": 34
    },
    "executionInfo": {
     "elapsed": 77746,
     "status": "ok",
     "timestamp": 1601942457894,
     "user": {
      "displayName": "Stephan Hermanides",
      "photoUrl": "https://lh3.googleusercontent.com/a-/AOh14Ghv4g_ZoKrg5A0hgb2DCrjAtaY1TmQsQrMK0lO9Bw=s64",
      "userId": "10917467489758916868"
     },
     "user_tz": 300
    },
    "id": "lFEQ8U7fKago",
    "outputId": "4c22672d-858f-4910-b4cb-8f0efb20c4cb"
   },
   "outputs": [
    {
     "data": {
      "text/plain": [
       "0.01694915254237288"
      ]
     },
     "execution_count": 21,
     "metadata": {},
     "output_type": "execute_result"
    }
   ],
   "source": [
    "train['class'].value_counts()[1]/train['class'].value_counts()[0]"
   ]
  },
  {
   "cell_type": "markdown",
   "metadata": {
    "id": "i09U_9pBKagr"
   },
   "source": [
    "The positive class (failure is related to APS) makes up **less than 2%** of the data set. It will be worth testing oversampling to try and improve model performance."
   ]
  },
  {
   "cell_type": "markdown",
   "metadata": {
    "id": "ufxJNwPcKags"
   },
   "source": [
    "## Model selection"
   ]
  },
  {
   "cell_type": "markdown",
   "metadata": {
    "id": "on3hnmb9Kagt"
   },
   "source": [
    "From the previous sections it is clear that this is a high-dimensional and very imbalanced dataset. I will test multiple classification algorithms as well as PCA and oversampling to find the preprocessing steps and model(s) that perform well on this data. Then I will select the best performing ones and tune them for optimal performance in the next section.\n",
    "\n",
    "I am **excluding KNN and SVM** here, since they are known to perform poorer on larger (high dimension) datasets. KNN also has to save the entire dataset as part of the .fit step and SVM is computationally intensive, especially when using kernel tricks."
   ]
  },
  {
   "cell_type": "code",
   "execution_count": 22,
   "metadata": {
    "ExecuteTime": {
     "end_time": "2021-01-01T19:55:18.299658Z",
     "start_time": "2021-01-01T19:55:18.292511Z"
    },
    "id": "0QshPEE7Kagt"
   },
   "outputs": [],
   "source": [
    "estimators = {'Logistic Regression': LogisticRegression(), 'Random Forest': RandomForestClassifier(), 'Naive Bayes': GaussianNB(), 'XGBoost': XGBClassifier()}"
   ]
  },
  {
   "cell_type": "markdown",
   "metadata": {},
   "source": [
    "For each model I will test performance on the original data (with imputed null values), PCA reduced data, oversampled data and reduced + oversampled data. I created a function to get the performance for each of these combinations for a single estimator.\n",
    "\n",
    "I use 10-fold cross-validation to assess performance and generalization of the result."
   ]
  },
  {
   "cell_type": "code",
   "execution_count": 23,
   "metadata": {
    "ExecuteTime": {
     "end_time": "2021-01-01T19:55:18.323187Z",
     "start_time": "2021-01-01T19:55:18.306702Z"
    },
    "id": "2nUBkFWGKag1"
   },
   "outputs": [],
   "source": [
    "def get_score(X, y, name, estimator):\n",
    "    '''\n",
    "    Get cross validation scores for multiple pipelines with single estimator\n",
    "    Inputs:\n",
    "    X, y: features, target\n",
    "    name: string, name of estimator\n",
    "    estimator: estimator object to be fed into pipeline\n",
    "    '''\n",
    "    imputed = make_pipeline(SimpleImputer(strategy='median'), StandardScaler(), estimator)\n",
    "    oversampled = make_pipeline(SimpleImputer(strategy='median'),  \n",
    "                                StandardScaler(), SMOTE(sampling_strategy=0.15), estimator)\n",
    "    reduced = make_pipeline(SimpleImputer(strategy='median'), StandardScaler(), \n",
    "                            PCA(n_components = 0.95), estimator)\n",
    "    reduced_oversampled = make_pipeline(SimpleImputer(strategy='median'), StandardScaler(), \n",
    "                                        SMOTE(sampling_strategy=0.15), PCA(n_components = 0.95), estimator)\n",
    "    \n",
    "    pipelines = {'imputed': imputed, 'oversampled': oversampled, 'reduced': reduced, \n",
    "                 'reduced_oversampled': reduced_oversampled}\n",
    "    \n",
    "    for key, pipe in pipelines.items():\n",
    "        score = cross_val_score(pipe, X, y, scoring='roc_auc', cv=10, verbose=0, n_jobs=-1)\n",
    "        print(f'{name} {key} roc_auc: {score.mean():.3f} (+/- {score.std():.3f})')"
   ]
  },
  {
   "cell_type": "code",
   "execution_count": 24,
   "metadata": {
    "ExecuteTime": {
     "end_time": "2021-01-01T20:16:04.936884Z",
     "start_time": "2021-01-01T19:55:18.328108Z"
    },
    "colab": {
     "base_uri": "https://localhost:8080/",
     "height": 289
    },
    "executionInfo": {
     "elapsed": 3650067,
     "status": "ok",
     "timestamp": 1601946409879,
     "user": {
      "displayName": "Stephan Hermanides",
      "photoUrl": "https://lh3.googleusercontent.com/a-/AOh14Ghv4g_ZoKrg5A0hgb2DCrjAtaY1TmQsQrMK0lO9Bw=s64",
      "userId": "10917467489758916868"
     },
     "user_tz": 300
    },
    "id": "_5ToeK_oKag9",
    "outputId": "f5b0231e-b885-4635-aaaf-fd82ac2a5b36"
   },
   "outputs": [
    {
     "name": "stdout",
     "output_type": "stream",
     "text": [
      "Logistic Regression imputed roc_auc: 0.970 (+/- 0.014)\n",
      "Logistic Regression oversampled roc_auc: 0.969 (+/- 0.017)\n",
      "Logistic Regression reduced roc_auc: 0.965 (+/- 0.012)\n",
      "Logistic Regression reduced_oversampled roc_auc: 0.970 (+/- 0.016)\n",
      "Random Forest imputed roc_auc: 0.987 (+/- 0.007)\n",
      "Random Forest oversampled roc_auc: 0.989 (+/- 0.005)\n",
      "Random Forest reduced roc_auc: 0.984 (+/- 0.006)\n",
      "Random Forest reduced_oversampled roc_auc: 0.988 (+/- 0.005)\n",
      "Naive Bayes imputed roc_auc: 0.963 (+/- 0.009)\n",
      "Naive Bayes oversampled roc_auc: 0.961 (+/- 0.013)\n",
      "Naive Bayes reduced roc_auc: 0.970 (+/- 0.004)\n",
      "Naive Bayes reduced_oversampled roc_auc: 0.968 (+/- 0.006)\n",
      "XGBoost imputed roc_auc: 0.990 (+/- 0.004)\n",
      "XGBoost oversampled roc_auc: 0.991 (+/- 0.005)\n",
      "XGBoost reduced roc_auc: 0.988 (+/- 0.005)\n",
      "XGBoost reduced_oversampled roc_auc: 0.988 (+/- 0.005)\n"
     ]
    }
   ],
   "source": [
    "for key, estimator in estimators.items():\n",
    "    get_score(X, y, key, estimator)"
   ]
  },
  {
   "cell_type": "markdown",
   "metadata": {
    "id": "aPhjBis_dMes"
   },
   "source": [
    "## Tuning"
   ]
  },
  {
   "cell_type": "markdown",
   "metadata": {
    "id": "-X8p0G1d5mxC"
   },
   "source": [
    "\n",
    "Random Forest and XGBoost outperformed the other models without any tuning. I'll pick those two to to try and tune the hyperparameters some more to improve performance even further. Random Forest seems to benefit slightly from oversampling and XGBoost does best with just the base (imputed) data."
   ]
  },
  {
   "cell_type": "markdown",
   "metadata": {
    "id": "m_J5_Wp40i7x"
   },
   "source": [
    "### Random Forest\n",
    "\n",
    "For Random Forest I used an exhaustive grid search to find the optimal parameters."
   ]
  },
  {
   "cell_type": "code",
   "execution_count": 25,
   "metadata": {
    "ExecuteTime": {
     "end_time": "2021-01-01T20:16:04.943400Z",
     "start_time": "2021-01-01T19:54:11.384Z"
    },
    "id": "PX-VyBEBeiHX"
   },
   "outputs": [],
   "source": [
    "rf = Pipeline([('imp', SimpleImputer(strategy='median')), ('sc', StandardScaler()), ('smote', SMOTE()), ('rf', RandomForestClassifier())])"
   ]
  },
  {
   "cell_type": "code",
   "execution_count": 26,
   "metadata": {
    "ExecuteTime": {
     "end_time": "2021-01-01T20:16:04.948890Z",
     "start_time": "2021-01-01T19:54:11.387Z"
    },
    "id": "yMBjQGwN1wbr"
   },
   "outputs": [],
   "source": [
    "params = {'smote__sampling_strategy': [0.15, 0.5, 1],\n",
    "          'rf__max_depth': [2, 3, 5, 10],\n",
    "          'rf__n_estimators': [50, 100, 200]}"
   ]
  },
  {
   "cell_type": "code",
   "execution_count": 27,
   "metadata": {
    "ExecuteTime": {
     "end_time": "2021-01-01T20:16:04.951304Z",
     "start_time": "2021-01-01T19:54:11.390Z"
    },
    "id": "YOcbFjj46eHV"
   },
   "outputs": [],
   "source": [
    "rf_grid = GridSearchCV(rf, param_grid=params, scoring='roc_auc', n_jobs=-1, cv=5)"
   ]
  },
  {
   "cell_type": "code",
   "execution_count": 28,
   "metadata": {
    "ExecuteTime": {
     "end_time": "2021-01-01T20:16:04.954685Z",
     "start_time": "2021-01-01T19:54:11.393Z"
    },
    "colab": {
     "base_uri": "https://localhost:8080/",
     "height": 578
    },
    "executionInfo": {
     "elapsed": 4600634,
     "status": "ok",
     "timestamp": 1601962852164,
     "user": {
      "displayName": "Stephan Hermanides",
      "photoUrl": "https://lh3.googleusercontent.com/a-/AOh14Ghv4g_ZoKrg5A0hgb2DCrjAtaY1TmQsQrMK0lO9Bw=s64",
      "userId": "10917467489758916868"
     },
     "user_tz": 300
    },
    "id": "GijIKjaa71sf",
    "outputId": "a5cefc09-fe5b-4b7b-d6c6-026603048211"
   },
   "outputs": [
    {
     "data": {
      "text/plain": [
       "GridSearchCV(cv=5,\n",
       "             estimator=Pipeline(steps=[('imp',\n",
       "                                        SimpleImputer(strategy='median')),\n",
       "                                       ('sc', StandardScaler()),\n",
       "                                       ('smote', SMOTE()),\n",
       "                                       ('rf', RandomForestClassifier())]),\n",
       "             n_jobs=-1,\n",
       "             param_grid={'rf__max_depth': [2, 3, 5, 10],\n",
       "                         'rf__n_estimators': [50, 100, 200],\n",
       "                         'smote__sampling_strategy': [0.15, 0.5, 1]},\n",
       "             scoring='roc_auc')"
      ]
     },
     "execution_count": 28,
     "metadata": {},
     "output_type": "execute_result"
    }
   ],
   "source": [
    "rf_grid.fit(X, y)"
   ]
  },
  {
   "cell_type": "code",
   "execution_count": 29,
   "metadata": {
    "ExecuteTime": {
     "end_time": "2021-01-01T20:16:04.957217Z",
     "start_time": "2021-01-01T19:54:11.396Z"
    },
    "colab": {
     "base_uri": "https://localhost:8080/",
     "height": 425
    },
    "executionInfo": {
     "elapsed": 529,
     "status": "ok",
     "timestamp": 1601962852717,
     "user": {
      "displayName": "Stephan Hermanides",
      "photoUrl": "https://lh3.googleusercontent.com/a-/AOh14Ghv4g_ZoKrg5A0hgb2DCrjAtaY1TmQsQrMK0lO9Bw=s64",
      "userId": "10917467489758916868"
     },
     "user_tz": 300
    },
    "id": "tD9AbZjfJyzm",
    "outputId": "7260ce8e-52fb-4d39-d0e2-7a1e775f2ae7"
   },
   "outputs": [
    {
     "data": {
      "text/plain": [
       "Pipeline(steps=[('imp', SimpleImputer(strategy='median')),\n",
       "                ('sc', StandardScaler()),\n",
       "                ('smote', SMOTE(sampling_strategy=0.15)),\n",
       "                ('rf', RandomForestClassifier(max_depth=10, n_estimators=200))])"
      ]
     },
     "execution_count": 29,
     "metadata": {},
     "output_type": "execute_result"
    }
   ],
   "source": [
    "rf_grid.best_estimator_"
   ]
  },
  {
   "cell_type": "code",
   "execution_count": 30,
   "metadata": {
    "ExecuteTime": {
     "end_time": "2021-01-01T20:16:04.959679Z",
     "start_time": "2021-01-01T19:54:11.399Z"
    },
    "colab": {
     "base_uri": "https://localhost:8080/",
     "height": 34
    },
    "executionInfo": {
     "elapsed": 516,
     "status": "ok",
     "timestamp": 1601962852718,
     "user": {
      "displayName": "Stephan Hermanides",
      "photoUrl": "https://lh3.googleusercontent.com/a-/AOh14Ghv4g_ZoKrg5A0hgb2DCrjAtaY1TmQsQrMK0lO9Bw=s64",
      "userId": "10917467489758916868"
     },
     "user_tz": 300
    },
    "id": "4dHFu6_qKDtw",
    "outputId": "7c146902-6190-4457-a470-9a6b47ddeb5a"
   },
   "outputs": [
    {
     "data": {
      "text/plain": [
       "0.9889141101694916"
      ]
     },
     "execution_count": 30,
     "metadata": {},
     "output_type": "execute_result"
    }
   ],
   "source": [
    "rf_grid.best_score_"
   ]
  },
  {
   "cell_type": "code",
   "execution_count": 31,
   "metadata": {
    "ExecuteTime": {
     "end_time": "2021-01-01T20:16:04.962215Z",
     "start_time": "2021-01-01T19:54:11.401Z"
    },
    "colab": {
     "base_uri": "https://localhost:8080/",
     "height": 68
    },
    "executionInfo": {
     "elapsed": 513,
     "status": "ok",
     "timestamp": 1601962852719,
     "user": {
      "displayName": "Stephan Hermanides",
      "photoUrl": "https://lh3.googleusercontent.com/a-/AOh14Ghv4g_ZoKrg5A0hgb2DCrjAtaY1TmQsQrMK0lO9Bw=s64",
      "userId": "10917467489758916868"
     },
     "user_tz": 300
    },
    "id": "hlwxY_YkKLh7",
    "outputId": "a9e84cbd-292a-48df-dbe4-36f4ae9bba7f"
   },
   "outputs": [
    {
     "data": {
      "text/plain": [
       "{'rf__max_depth': 10,\n",
       " 'rf__n_estimators': 200,\n",
       " 'smote__sampling_strategy': 0.15}"
      ]
     },
     "execution_count": 31,
     "metadata": {},
     "output_type": "execute_result"
    }
   ],
   "source": [
    "rf_grid.best_params_"
   ]
  },
  {
   "cell_type": "markdown",
   "metadata": {
    "id": "pJwbWTeS9yWd"
   },
   "source": [
    "### XGBoost"
   ]
  },
  {
   "cell_type": "markdown",
   "metadata": {
    "id": "yUYfpaX4gbII"
   },
   "source": [
    "For XGBoost there are so many parameters that an exhaustive grid search would take too long to run. I am using a randomized search here, which has been shown to yield similar (of not better) results in practice.\n",
    "\n",
    "Using XGBoost in a pipeline with the randomizedsearchCV is tricky, so I will do the steps separately for the hyperparameter search. If this ends up as the final model I will fit using a pipeline again.\n",
    "\n",
    "I am using early stopping to determine the optimal n_estimators and increase efficiency of the searchCV here."
   ]
  },
  {
   "cell_type": "code",
   "execution_count": 32,
   "metadata": {
    "ExecuteTime": {
     "end_time": "2021-01-01T20:16:04.964481Z",
     "start_time": "2021-01-01T19:54:11.405Z"
    },
    "id": "eEQyiZShaA39"
   },
   "outputs": [],
   "source": [
    "imp = SimpleImputer(strategy='median')\n",
    "X_imputed = imp.fit_transform(X)"
   ]
  },
  {
   "cell_type": "code",
   "execution_count": 33,
   "metadata": {
    "ExecuteTime": {
     "end_time": "2021-01-01T20:16:04.966587Z",
     "start_time": "2021-01-01T19:54:11.407Z"
    },
    "id": "-U_zHN5i92In"
   },
   "outputs": [],
   "source": [
    "xgb = XGBClassifier(n_estimators=1000)"
   ]
  },
  {
   "cell_type": "code",
   "execution_count": 34,
   "metadata": {
    "ExecuteTime": {
     "end_time": "2021-01-01T20:16:04.972723Z",
     "start_time": "2021-01-01T19:54:11.410Z"
    },
    "id": "XUXJ9_Yc-N__"
   },
   "outputs": [],
   "source": [
    "params = {'xgb__max_depth': [2, 4, 6, 8, 10, 12],\n",
    "          'xgb__learning_rate': [0.05, 0.1, 0.15, 0.2, 0.25, 0.3],\n",
    "          'xgb__min_child_weight': [1, 3, 5],\n",
    "          'xgb__gamma': [0.0, 0.1, 0.2, 0.3, 0.5, 0.8, 1, 5],\n",
    "          'xgb__colsample_bytree': [0.6, 0.7, 0.8, 0.9, 1]}"
   ]
  },
  {
   "cell_type": "code",
   "execution_count": 35,
   "metadata": {
    "ExecuteTime": {
     "end_time": "2021-01-01T20:16:04.975560Z",
     "start_time": "2021-01-01T19:54:11.413Z"
    },
    "colab": {
     "base_uri": "https://localhost:8080/",
     "height": 1000
    },
    "executionInfo": {
     "elapsed": 9931214,
     "status": "ok",
     "timestamp": 1602024139447,
     "user": {
      "displayName": "Stephan Hermanides",
      "photoUrl": "https://lh3.googleusercontent.com/a-/AOh14Ghv4g_ZoKrg5A0hgb2DCrjAtaY1TmQsQrMK0lO9Bw=s64",
      "userId": "10917467489758916868"
     },
     "user_tz": 300
    },
    "id": "Nvdp0tLcEcuP",
    "outputId": "69039957-0a24-47d4-b042-50917107b562"
   },
   "outputs": [
    {
     "name": "stderr",
     "output_type": "stream",
     "text": [
      "/Users/stephan/anaconda3/envs/scania_challenge/lib/python3.8/site-packages/xgboost/sklearn.py:888: UserWarning: The use of label encoder in XGBClassifier is deprecated and will be removed in a future release. To remove this warning, do the following: 1) Pass option use_label_encoder=False when constructing XGBClassifier object; and 2) Encode your labels (y) as integers starting with 0, i.e. 0, 1, 2, ..., [num_class - 1].\n",
      "  warnings.warn(label_encoder_deprecation_msg, UserWarning)\n"
     ]
    },
    {
     "name": "stdout",
     "output_type": "stream",
     "text": [
      "[18:38:28] WARNING: /Users/runner/miniforge3/conda-bld/xgboost_1607604592557/work/src/learner.cc:541: \n",
      "Parameters: { xgb__colsample_bytree, xgb__gamma, xgb__learning_rate, xgb__max_depth, xgb__min_child_weight } might not be used.\n",
      "\n",
      "  This may not be accurate due to some parameters are only used in language bindings but\n",
      "  passed down to XGBoost core.  Or some parameters are not used but slip through this\n",
      "  verification. Please open an issue if you find above cases.\n",
      "\n",
      "\n",
      "[0]\tvalidation_0-auc:0.93635\n",
      "[1]\tvalidation_0-auc:0.96429\n",
      "[2]\tvalidation_0-auc:0.96778\n",
      "[3]\tvalidation_0-auc:0.96989\n",
      "[4]\tvalidation_0-auc:0.97857\n",
      "[5]\tvalidation_0-auc:0.98040\n",
      "[6]\tvalidation_0-auc:0.98154\n",
      "[7]\tvalidation_0-auc:0.98228\n",
      "[8]\tvalidation_0-auc:0.98645\n",
      "[9]\tvalidation_0-auc:0.98805\n",
      "[10]\tvalidation_0-auc:0.98817\n",
      "[11]\tvalidation_0-auc:0.99021\n",
      "[12]\tvalidation_0-auc:0.99169\n",
      "[13]\tvalidation_0-auc:0.99176\n",
      "[14]\tvalidation_0-auc:0.99186\n",
      "[15]\tvalidation_0-auc:0.99197\n",
      "[16]\tvalidation_0-auc:0.99338\n",
      "[17]\tvalidation_0-auc:0.99692\n",
      "[18]\tvalidation_0-auc:0.99710\n",
      "[19]\tvalidation_0-auc:0.99776\n",
      "[20]\tvalidation_0-auc:0.99797\n",
      "[21]\tvalidation_0-auc:0.99852\n",
      "[22]\tvalidation_0-auc:0.99874\n",
      "[23]\tvalidation_0-auc:0.99903\n",
      "[24]\tvalidation_0-auc:0.99914\n",
      "[25]\tvalidation_0-auc:0.99932\n",
      "[26]\tvalidation_0-auc:0.99945\n",
      "[27]\tvalidation_0-auc:0.99952\n",
      "[28]\tvalidation_0-auc:0.99957\n",
      "[29]\tvalidation_0-auc:0.99959\n",
      "[30]\tvalidation_0-auc:0.99965\n",
      "[31]\tvalidation_0-auc:0.99969\n",
      "[32]\tvalidation_0-auc:0.99971\n",
      "[33]\tvalidation_0-auc:0.99976\n",
      "[34]\tvalidation_0-auc:0.99979\n",
      "[35]\tvalidation_0-auc:0.99981\n",
      "[36]\tvalidation_0-auc:0.99981\n",
      "[37]\tvalidation_0-auc:0.99984\n",
      "[38]\tvalidation_0-auc:0.99987\n",
      "[39]\tvalidation_0-auc:0.99989\n",
      "[40]\tvalidation_0-auc:0.99990\n",
      "[41]\tvalidation_0-auc:0.99991\n",
      "[42]\tvalidation_0-auc:0.99991\n",
      "[43]\tvalidation_0-auc:0.99992\n",
      "[44]\tvalidation_0-auc:0.99993\n",
      "[45]\tvalidation_0-auc:0.99994\n",
      "[46]\tvalidation_0-auc:0.99994\n",
      "[47]\tvalidation_0-auc:0.99995\n",
      "[48]\tvalidation_0-auc:0.99996\n",
      "[49]\tvalidation_0-auc:0.99997\n",
      "[50]\tvalidation_0-auc:0.99997\n",
      "[51]\tvalidation_0-auc:0.99997\n",
      "[52]\tvalidation_0-auc:0.99997\n",
      "[53]\tvalidation_0-auc:0.99998\n",
      "[54]\tvalidation_0-auc:0.99998\n",
      "[55]\tvalidation_0-auc:0.99998\n",
      "[56]\tvalidation_0-auc:0.99998\n",
      "[57]\tvalidation_0-auc:0.99998\n",
      "[58]\tvalidation_0-auc:0.99998\n",
      "[59]\tvalidation_0-auc:0.99998\n",
      "[60]\tvalidation_0-auc:0.99998\n",
      "[61]\tvalidation_0-auc:0.99998\n",
      "[62]\tvalidation_0-auc:0.99999\n",
      "[63]\tvalidation_0-auc:0.99998\n",
      "[64]\tvalidation_0-auc:0.99998\n",
      "[65]\tvalidation_0-auc:0.99998\n",
      "[66]\tvalidation_0-auc:0.99998\n",
      "[67]\tvalidation_0-auc:0.99998\n",
      "[68]\tvalidation_0-auc:0.99998\n",
      "[69]\tvalidation_0-auc:0.99999\n",
      "[70]\tvalidation_0-auc:0.99998\n",
      "[71]\tvalidation_0-auc:0.99999\n",
      "[72]\tvalidation_0-auc:0.99999\n",
      "[73]\tvalidation_0-auc:0.99999\n",
      "[74]\tvalidation_0-auc:0.99999\n",
      "[75]\tvalidation_0-auc:0.99999\n",
      "[76]\tvalidation_0-auc:0.99999\n",
      "[77]\tvalidation_0-auc:0.99999\n",
      "[78]\tvalidation_0-auc:0.99999\n",
      "[79]\tvalidation_0-auc:0.99999\n",
      "[80]\tvalidation_0-auc:1.00000\n",
      "[81]\tvalidation_0-auc:1.00000\n",
      "[82]\tvalidation_0-auc:1.00000\n",
      "[83]\tvalidation_0-auc:1.00000\n",
      "[84]\tvalidation_0-auc:1.00000\n",
      "[85]\tvalidation_0-auc:1.00000\n",
      "[86]\tvalidation_0-auc:1.00000\n",
      "[87]\tvalidation_0-auc:1.00000\n",
      "[88]\tvalidation_0-auc:1.00000\n",
      "[89]\tvalidation_0-auc:1.00000\n",
      "[90]\tvalidation_0-auc:1.00000\n",
      "[91]\tvalidation_0-auc:1.00000\n",
      "[92]\tvalidation_0-auc:1.00000\n",
      "[93]\tvalidation_0-auc:1.00000\n",
      "[94]\tvalidation_0-auc:1.00000\n",
      "[95]\tvalidation_0-auc:1.00000\n",
      "[96]\tvalidation_0-auc:1.00000\n",
      "[97]\tvalidation_0-auc:1.00000\n",
      "[98]\tvalidation_0-auc:1.00000\n",
      "[99]\tvalidation_0-auc:1.00000\n",
      "[100]\tvalidation_0-auc:1.00000\n",
      "[101]\tvalidation_0-auc:1.00000\n"
     ]
    },
    {
     "data": {
      "text/plain": [
       "RandomizedSearchCV(cv=5,\n",
       "                   estimator=XGBClassifier(base_score=None, booster=None,\n",
       "                                           colsample_bylevel=None,\n",
       "                                           colsample_bynode=None,\n",
       "                                           colsample_bytree=None, gamma=None,\n",
       "                                           gpu_id=None, importance_type='gain',\n",
       "                                           interaction_constraints=None,\n",
       "                                           learning_rate=None,\n",
       "                                           max_delta_step=None, max_depth=None,\n",
       "                                           min_child_weight=None, missing=nan,\n",
       "                                           monotone_constraints=None,\n",
       "                                           n_estimators=1000...\n",
       "                                           reg_lambda=None,\n",
       "                                           scale_pos_weight=None,\n",
       "                                           subsample=None, tree_method=None,\n",
       "                                           validate_parameters=None,\n",
       "                                           verbosity=None),\n",
       "                   n_iter=20, n_jobs=-1,\n",
       "                   param_distributions={'xgb__colsample_bytree': [0.6, 0.7, 0.8,\n",
       "                                                                  0.9, 1],\n",
       "                                        'xgb__gamma': [0.0, 0.1, 0.2, 0.3, 0.5,\n",
       "                                                       0.8, 1, 5],\n",
       "                                        'xgb__learning_rate': [0.05, 0.1, 0.15,\n",
       "                                                               0.2, 0.25, 0.3],\n",
       "                                        'xgb__max_depth': [2, 4, 6, 8, 10, 12],\n",
       "                                        'xgb__min_child_weight': [1, 3, 5]})"
      ]
     },
     "execution_count": 35,
     "metadata": {},
     "output_type": "execute_result"
    }
   ],
   "source": [
    "xgb_searchcv = RandomizedSearchCV(xgb, cv=5, param_distributions=params, n_iter=20, n_jobs=-1)\n",
    "xgb_searchcv.fit(X_imputed, y, early_stopping_rounds= 10, eval_set=[[X_imputed, y]], eval_metric='auc') "
   ]
  },
  {
   "cell_type": "code",
   "execution_count": 36,
   "metadata": {
    "ExecuteTime": {
     "end_time": "2021-01-01T20:16:04.979806Z",
     "start_time": "2021-01-01T19:54:11.416Z"
    },
    "colab": {
     "base_uri": "https://localhost:8080/",
     "height": 102
    },
    "executionInfo": {
     "elapsed": 9919888,
     "status": "ok",
     "timestamp": 1602024139456,
     "user": {
      "displayName": "Stephan Hermanides",
      "photoUrl": "https://lh3.googleusercontent.com/a-/AOh14Ghv4g_ZoKrg5A0hgb2DCrjAtaY1TmQsQrMK0lO9Bw=s64",
      "userId": "10917467489758916868"
     },
     "user_tz": 300
    },
    "id": "ggWP9BJ3XVzv",
    "outputId": "a4e16420-8785-477d-c3dc-3382cdcb98a2"
   },
   "outputs": [
    {
     "data": {
      "text/plain": [
       "{'xgb__min_child_weight': 3,\n",
       " 'xgb__max_depth': 2,\n",
       " 'xgb__learning_rate': 0.25,\n",
       " 'xgb__gamma': 0.3,\n",
       " 'xgb__colsample_bytree': 1}"
      ]
     },
     "execution_count": 36,
     "metadata": {},
     "output_type": "execute_result"
    }
   ],
   "source": [
    "xgb_searchcv.best_params_"
   ]
  },
  {
   "cell_type": "code",
   "execution_count": 37,
   "metadata": {
    "ExecuteTime": {
     "end_time": "2021-01-01T20:16:04.983103Z",
     "start_time": "2021-01-01T19:54:11.418Z"
    },
    "colab": {
     "base_uri": "https://localhost:8080/",
     "height": 34
    },
    "executionInfo": {
     "elapsed": 9919425,
     "status": "ok",
     "timestamp": 1602024139457,
     "user": {
      "displayName": "Stephan Hermanides",
      "photoUrl": "https://lh3.googleusercontent.com/a-/AOh14Ghv4g_ZoKrg5A0hgb2DCrjAtaY1TmQsQrMK0lO9Bw=s64",
      "userId": "10917467489758916868"
     },
     "user_tz": 300
    },
    "id": "qEd5BciFc_wc",
    "outputId": "f6a7d202-e808-4529-9e37-bbd408fc5209"
   },
   "outputs": [
    {
     "data": {
      "text/plain": [
       "0.9942333333333332"
      ]
     },
     "execution_count": 37,
     "metadata": {},
     "output_type": "execute_result"
    }
   ],
   "source": [
    "xgb_searchcv.best_score_"
   ]
  },
  {
   "cell_type": "markdown",
   "metadata": {
    "id": "9iqXX8eytHyv"
   },
   "source": [
    "## Final model"
   ]
  },
  {
   "cell_type": "markdown",
   "metadata": {
    "id": "HBR7X3X25uWR"
   },
   "source": [
    "The XGBoost model performed the best, so I will take the results from the hyperparameter search and train my final model, testing it on the held out test data.\n",
    "\n",
    "At this point I will also start looking at a secondary metric. roc_auc is the asked for metric, but to actually use this model I will need to set a threshold for final predictions.\n",
    "\n",
    "In this case, a false positive means that the cause of a failure is falsely identified as the APS, causing a possibly unnecessary check. A false negative means that the APS is missed as the true cause of the failure, which could cause a faulty truck to be cleared or many unnecessary checks in other areas. I believe a false negative is more costly (or causes higher risk), so I will be looking at recall as my second metric."
   ]
  },
  {
   "cell_type": "code",
   "execution_count": 48,
   "metadata": {
    "ExecuteTime": {
     "end_time": "2021-01-01T20:16:04.985439Z",
     "start_time": "2021-01-01T19:54:11.421Z"
    },
    "id": "Y6-GlbAAvq0D"
   },
   "outputs": [],
   "source": [
    "xgb = XGBClassifier(max_depth=2, learning_rate=0.25, gamma=0.3, min_child_weight=3, colsample_bytree=1)"
   ]
  },
  {
   "cell_type": "markdown",
   "metadata": {},
   "source": [
    "With this final model in place I validate the performance one more time to check for overfitting."
   ]
  },
  {
   "cell_type": "code",
   "execution_count": 49,
   "metadata": {
    "ExecuteTime": {
     "end_time": "2021-01-01T20:16:04.988386Z",
     "start_time": "2021-01-01T19:54:11.424Z"
    },
    "colab": {
     "base_uri": "https://localhost:8080/"
    },
    "executionInfo": {
     "elapsed": 518491,
     "status": "ok",
     "timestamp": 1602097037073,
     "user": {
      "displayName": "Stephan Hermanides",
      "photoUrl": "https://lh3.googleusercontent.com/a-/AOh14Ghv4g_ZoKrg5A0hgb2DCrjAtaY1TmQsQrMK0lO9Bw=s64",
      "userId": "10917467489758916868"
     },
     "user_tz": 300
    },
    "id": "nOSU2C3Mwhsz",
    "outputId": "ada608ab-8dc6-4558-cab1-c6cee1426f76"
   },
   "outputs": [
    {
     "data": {
      "text/plain": [
       "{'fit_time': array([79.56805801, 79.44554996, 79.55751872, 79.57435107, 86.04775691,\n",
       "        86.28175211, 86.56240296, 86.57176018, 43.25029302, 43.17533278]),\n",
       " 'score_time': array([0.14055204, 0.11215997, 0.13238716, 0.19899392, 0.18334889,\n",
       "        0.18880081, 0.1781292 , 0.14538288, 0.06916404, 0.11610007]),\n",
       " 'test_roc_auc': array([0.99385932, 0.99102712, 0.98717797, 0.99280678, 0.99094237,\n",
       "        0.97757458, 0.98696017, 0.99509322, 0.99321186, 0.98599746]),\n",
       " 'train_roc_auc': array([0.99523105, 0.99457587, 0.99526859, 0.99552903, 0.99537451,\n",
       "        0.99608402, 0.99589969, 0.99471259, 0.99540173, 0.99542123]),\n",
       " 'test_recall': array([0.74, 0.73, 0.73, 0.69, 0.75, 0.66, 0.65, 0.76, 0.63, 0.67]),\n",
       " 'train_recall': array([0.78666667, 0.78222222, 0.77666667, 0.78111111, 0.77111111,\n",
       "        0.78666667, 0.78444444, 0.78111111, 0.78444444, 0.78555556])}"
      ]
     },
     "execution_count": 49,
     "metadata": {},
     "output_type": "execute_result"
    }
   ],
   "source": [
    "cross_validate(xgb, X_imputed, y, scoring=['roc_auc', 'recall'], cv=10, n_jobs=-1, return_train_score=True)"
   ]
  },
  {
   "cell_type": "markdown",
   "metadata": {
    "id": "4gQLhfTehhRf"
   },
   "source": [
    "Looking at roc_auc train vs test, there is some minor overfitting, but not to an extend that concerns me. I will keep this as my final model and create the pipeline that will allow me to save and use the model for predictions."
   ]
  },
  {
   "cell_type": "code",
   "execution_count": 50,
   "metadata": {
    "ExecuteTime": {
     "end_time": "2021-01-01T20:16:04.992234Z",
     "start_time": "2021-01-01T19:54:11.427Z"
    },
    "colab": {
     "base_uri": "https://localhost:8080/",
     "height": 1000
    },
    "executionInfo": {
     "elapsed": 39478,
     "status": "ok",
     "timestamp": 1602183216363,
     "user": {
      "displayName": "Stephan Hermanides",
      "photoUrl": "https://lh3.googleusercontent.com/a-/AOh14Ghv4g_ZoKrg5A0hgb2DCrjAtaY1TmQsQrMK0lO9Bw=s64",
      "userId": "10917467489758916868"
     },
     "user_tz": 300
    },
    "id": "tXLV1eYmdDwV",
    "outputId": "434d5247-8831-4e15-fa13-e0cec0d015cb"
   },
   "outputs": [
    {
     "name": "stderr",
     "output_type": "stream",
     "text": [
      "/Users/stephan/anaconda3/envs/scania_challenge/lib/python3.8/site-packages/xgboost/sklearn.py:888: UserWarning: The use of label encoder in XGBClassifier is deprecated and will be removed in a future release. To remove this warning, do the following: 1) Pass option use_label_encoder=False when constructing XGBClassifier object; and 2) Encode your labels (y) as integers starting with 0, i.e. 0, 1, 2, ..., [num_class - 1].\n",
      "  warnings.warn(label_encoder_deprecation_msg, UserWarning)\n"
     ]
    },
    {
     "name": "stdout",
     "output_type": "stream",
     "text": [
      "[0]\tvalidation_0-auc:0.94219\n",
      "[1]\tvalidation_0-auc:0.96327\n",
      "[2]\tvalidation_0-auc:0.96417\n",
      "[3]\tvalidation_0-auc:0.96929\n",
      "[4]\tvalidation_0-auc:0.96989\n",
      "[5]\tvalidation_0-auc:0.97587\n",
      "[6]\tvalidation_0-auc:0.97700\n",
      "[7]\tvalidation_0-auc:0.98164\n",
      "[8]\tvalidation_0-auc:0.98482\n",
      "[9]\tvalidation_0-auc:0.98547\n",
      "[10]\tvalidation_0-auc:0.98612\n",
      "[11]\tvalidation_0-auc:0.98713\n",
      "[12]\tvalidation_0-auc:0.98727\n",
      "[13]\tvalidation_0-auc:0.98731\n",
      "[14]\tvalidation_0-auc:0.98920\n",
      "[15]\tvalidation_0-auc:0.98973\n",
      "[16]\tvalidation_0-auc:0.98972\n",
      "[17]\tvalidation_0-auc:0.98979\n",
      "[18]\tvalidation_0-auc:0.99069\n",
      "[19]\tvalidation_0-auc:0.99077\n",
      "[20]\tvalidation_0-auc:0.99081\n",
      "[21]\tvalidation_0-auc:0.99096\n",
      "[22]\tvalidation_0-auc:0.99104\n",
      "[23]\tvalidation_0-auc:0.99111\n",
      "[24]\tvalidation_0-auc:0.99107\n",
      "[25]\tvalidation_0-auc:0.99321\n",
      "[26]\tvalidation_0-auc:0.99341\n",
      "[27]\tvalidation_0-auc:0.99345\n",
      "[28]\tvalidation_0-auc:0.99435\n",
      "[29]\tvalidation_0-auc:0.99437\n",
      "[30]\tvalidation_0-auc:0.99432\n",
      "[31]\tvalidation_0-auc:0.99513\n",
      "[32]\tvalidation_0-auc:0.99646\n",
      "[33]\tvalidation_0-auc:0.99645\n",
      "[34]\tvalidation_0-auc:0.99650\n",
      "[35]\tvalidation_0-auc:0.99651\n",
      "[36]\tvalidation_0-auc:0.99650\n",
      "[37]\tvalidation_0-auc:0.99635\n",
      "[38]\tvalidation_0-auc:0.99696\n",
      "[39]\tvalidation_0-auc:0.99699\n",
      "[40]\tvalidation_0-auc:0.99733\n",
      "[41]\tvalidation_0-auc:0.99739\n",
      "[42]\tvalidation_0-auc:0.99740\n",
      "[43]\tvalidation_0-auc:0.99740\n",
      "[44]\tvalidation_0-auc:0.99754\n",
      "[45]\tvalidation_0-auc:0.99761\n",
      "[46]\tvalidation_0-auc:0.99770\n",
      "[47]\tvalidation_0-auc:0.99797\n",
      "[48]\tvalidation_0-auc:0.99808\n",
      "[49]\tvalidation_0-auc:0.99809\n",
      "[50]\tvalidation_0-auc:0.99810\n",
      "[51]\tvalidation_0-auc:0.99809\n",
      "[52]\tvalidation_0-auc:0.99809\n",
      "[53]\tvalidation_0-auc:0.99806\n",
      "[54]\tvalidation_0-auc:0.99828\n",
      "[55]\tvalidation_0-auc:0.99828\n",
      "[56]\tvalidation_0-auc:0.99828\n",
      "[57]\tvalidation_0-auc:0.99828\n",
      "[58]\tvalidation_0-auc:0.99828\n",
      "[59]\tvalidation_0-auc:0.99828\n",
      "[60]\tvalidation_0-auc:0.99828\n",
      "[61]\tvalidation_0-auc:0.99828\n",
      "[62]\tvalidation_0-auc:0.99828\n",
      "[63]\tvalidation_0-auc:0.99828\n",
      "[64]\tvalidation_0-auc:0.99828\n"
     ]
    },
    {
     "data": {
      "text/plain": [
       "Pipeline(steps=[('simpleimputer', SimpleImputer(strategy='median')),\n",
       "                ('xgbclassifier',\n",
       "                 XGBClassifier(base_score=0.5, booster='gbtree',\n",
       "                               colsample_bylevel=1, colsample_bynode=1,\n",
       "                               colsample_bytree=0.9, gamma=5, gpu_id=-1,\n",
       "                               importance_type='gain',\n",
       "                               interaction_constraints='', learning_rate=0.2,\n",
       "                               max_delta_step=0, max_depth=6,\n",
       "                               min_child_weight=3, missing=nan,\n",
       "                               monotone_constraints='()', n_estimators=100,\n",
       "                               n_jobs=4, num_parallel_tree=1, random_state=0,\n",
       "                               reg_alpha=0, reg_lambda=1, scale_pos_weight=1,\n",
       "                               subsample=1, tree_method='exact',\n",
       "                               validate_parameters=1, verbosity=None))])"
      ]
     },
     "execution_count": 50,
     "metadata": {},
     "output_type": "execute_result"
    }
   ],
   "source": [
    "xgb_pipeline = make_pipeline(SimpleImputer(strategy='median'), XGBClassifier(max_depth=6, learning_rate=0.2, gamma=5, min_child_weight=3, colsample_bytree=0.9))\n",
    "xgb_pipeline.fit(X, y, xgbclassifier__early_stopping_rounds= 10, xgbclassifier__eval_set=[[X_imputed, y]], xgbclassifier__eval_metric='auc')"
   ]
  },
  {
   "cell_type": "markdown",
   "metadata": {},
   "source": [
    "### Threshold tuning"
   ]
  },
  {
   "cell_type": "code",
   "execution_count": 51,
   "metadata": {
    "ExecuteTime": {
     "end_time": "2021-01-01T20:16:04.998293Z",
     "start_time": "2021-01-01T19:54:11.430Z"
    },
    "colab": {
     "base_uri": "https://localhost:8080/",
     "height": 279
    },
    "executionInfo": {
     "elapsed": 973,
     "status": "ok",
     "timestamp": 1602097080611,
     "user": {
      "displayName": "Stephan Hermanides",
      "photoUrl": "https://lh3.googleusercontent.com/a-/AOh14Ghv4g_ZoKrg5A0hgb2DCrjAtaY1TmQsQrMK0lO9Bw=s64",
      "userId": "10917467489758916868"
     },
     "user_tz": 300
    },
    "id": "hCT1ssWw1FPq",
    "outputId": "f9b90443-2328-40cd-975e-526d3bc7c43a"
   },
   "outputs": [
    {
     "data": {
      "image/png": "[encoded data removed]",
      "text/plain": [
       "<Figure size 432x288 with 1 Axes>"
      ]
     },
     "metadata": {
      "needs_background": "light"
     },
     "output_type": "display_data"
    }
   ],
   "source": [
    "plot_roc_curve(xgb_pipeline, X, y)\n",
    "plt.show();"
   ]
  },
  {
   "cell_type": "code",
   "execution_count": 52,
   "metadata": {
    "ExecuteTime": {
     "end_time": "2021-01-01T20:16:05.001230Z",
     "start_time": "2021-01-01T19:54:11.433Z"
    },
    "colab": {
     "base_uri": "https://localhost:8080/",
     "height": 295
    },
    "executionInfo": {
     "elapsed": 1743,
     "status": "ok",
     "timestamp": 1602097081399,
     "user": {
      "displayName": "Stephan Hermanides",
      "photoUrl": "https://lh3.googleusercontent.com/a-/AOh14Ghv4g_ZoKrg5A0hgb2DCrjAtaY1TmQsQrMK0lO9Bw=s64",
      "userId": "10917467489758916868"
     },
     "user_tz": 300
    },
    "id": "31zohqUazUOV",
    "outputId": "882dd89a-58db-4de8-f848-6acd3c9156d2"
   },
   "outputs": [
    {
     "data": {
      "image/png": "[encoded data removed]",
      "text/plain": [
       "<Figure size 432x288 with 1 Axes>"
      ]
     },
     "metadata": {
      "needs_background": "light"
     },
     "output_type": "display_data"
    }
   ],
   "source": [
    "precision_curve, recall_curve, threshold_curve = precision_recall_curve(y, xgb_pipeline.predict_proba(X)[:,1])\n",
    "                                                                        \n",
    "plt.figure()\n",
    "plt.plot(threshold_curve, precision_curve[1:],label='precision')\n",
    "plt.plot(threshold_curve, recall_curve[1:], label='recall')\n",
    "plt.legend(loc='lower left')\n",
    "plt.xlabel('Threshold');\n",
    "plt.title('Precision and Recall Curves');"
   ]
  },
  {
   "cell_type": "markdown",
   "metadata": {
    "id": "6ha9fXUw9srU"
   },
   "source": [
    "Precision is high at low thresholds, but precision takes a sharp dive at really low thresholds. This graph means that the number of false positives goes up exponentially as the threshold is lowered. \n",
    "\n",
    "Setting the final threshold in a business setting would have to be decided with business stakeholders.\n",
    "\n",
    " **How many false positives would we accept to reduce the false negatives?**\n",
    "\n",
    " I will assume we want to get a low number of false negatives, but also keep the number of false positives at least somewhat in check."
   ]
  },
  {
   "cell_type": "markdown",
   "metadata": {
    "id": "bl_t7EerigGq"
   },
   "source": [
    "### Running final model on test data"
   ]
  },
  {
   "cell_type": "code",
   "execution_count": 53,
   "metadata": {
    "ExecuteTime": {
     "end_time": "2021-01-01T20:16:05.004738Z",
     "start_time": "2021-01-01T19:54:11.437Z"
    },
    "colab": {
     "base_uri": "https://localhost:8080/",
     "height": 51
    },
    "executionInfo": {
     "elapsed": 371,
     "status": "ok",
     "timestamp": 1602183264588,
     "user": {
      "displayName": "Stephan Hermanides",
      "photoUrl": "https://lh3.googleusercontent.com/a-/AOh14Ghv4g_ZoKrg5A0hgb2DCrjAtaY1TmQsQrMK0lO9Bw=s64",
      "userId": "10917467489758916868"
     },
     "user_tz": 300
    },
    "id": "HetOpGPG2wzg",
    "outputId": "c0513fec-63f5-4e74-8dc2-b9f640c716e9"
   },
   "outputs": [
    {
     "name": "stdout",
     "output_type": "stream",
     "text": [
      "roc_auc: 0.996\n",
      "recall: 0.941 | precision: 0.600 | f1: 0.733\n"
     ]
    }
   ],
   "source": [
    "threshold = 0.05\n",
    "y_proba_test = xgb_pipeline.predict_proba(X_test)[:,1]\n",
    "roc_auc = roc_auc_score(y_test, y_proba_test)\n",
    "y_pred_test = (y_proba_test > threshold)\n",
    "recall = recall_score(y_test, y_pred_test)\n",
    "precision = precision_score(y_test, y_pred_test)\n",
    "f1 = f1_score(y_test, y_pred_test)\n",
    "print(f'roc_auc: {roc_auc:.3f}')\n",
    "print(f'recall: {recall:.3f} | precision: {precision:.3f} | f1: {f1:.3f}')"
   ]
  },
  {
   "cell_type": "markdown",
   "metadata": {
    "id": "qsviBC9rkKPr"
   },
   "source": [
    "Final roc_auc on the test dataset is **0.996**\n",
    "\n",
    "Now we can have a look what the effect of the threshold looks like in a confusion matrix."
   ]
  },
  {
   "cell_type": "code",
   "execution_count": 54,
   "metadata": {
    "ExecuteTime": {
     "end_time": "2021-01-01T20:16:05.007643Z",
     "start_time": "2021-01-01T19:54:11.440Z"
    },
    "colab": {
     "base_uri": "https://localhost:8080/",
     "height": 594
    },
    "executionInfo": {
     "elapsed": 1903,
     "status": "ok",
     "timestamp": 1602097081588,
     "user": {
      "displayName": "Stephan Hermanides",
      "photoUrl": "https://lh3.googleusercontent.com/a-/AOh14Ghv4g_ZoKrg5A0hgb2DCrjAtaY1TmQsQrMK0lO9Bw=s64",
      "userId": "10917467489758916868"
     },
     "user_tz": 300
    },
    "id": "F2FY3lfa8b-s",
    "outputId": "36ea48e3-2afb-41b3-e5f4-ef12e9257ba2"
   },
   "outputs": [
    {
     "data": {
      "image/png": "[encoded data removed]",
      "text/plain": [
       "<Figure size 900x600 with 2 Axes>"
      ]
     },
     "metadata": {
      "needs_background": "light"
     },
     "output_type": "display_data"
    }
   ],
   "source": [
    "conf_matrix = confusion_matrix(y_test, y_pred_test)\n",
    "plt.figure(dpi=150)\n",
    "sns.heatmap(conf_matrix, cmap=plt.cm.Blues, annot=True, square=True)\n",
    "\n",
    "plt.xlabel('Predicted')\n",
    "plt.ylabel('Actual')\n",
    "plt.title('Final confusion matrix');"
   ]
  },
  {
   "cell_type": "markdown",
   "metadata": {
    "id": "wZGSMtSZkeaJ"
   },
   "source": [
    "### Save model\n",
    "\n",
    "Next I will save my final model for deployment."
   ]
  },
  {
   "cell_type": "code",
   "execution_count": 55,
   "metadata": {
    "ExecuteTime": {
     "end_time": "2021-01-01T20:16:05.012245Z",
     "start_time": "2021-01-01T19:54:11.444Z"
    },
    "colab": {
     "base_uri": "https://localhost:8080/"
    },
    "executionInfo": {
     "elapsed": 2252,
     "status": "ok",
     "timestamp": 1602097081948,
     "user": {
      "displayName": "Stephan Hermanides",
      "photoUrl": "https://lh3.googleusercontent.com/a-/AOh14Ghv4g_ZoKrg5A0hgb2DCrjAtaY1TmQsQrMK0lO9Bw=s64",
      "userId": "10917467489758916868"
     },
     "user_tz": 300
    },
    "id": "dyXKoO4_8seu",
    "outputId": "2ac46ae6-79f2-4fa9-971c-7e7e22b684be"
   },
   "outputs": [],
   "source": [
    "file_name = 'final_model.pickle'\n",
    "pickle.dump(xgb_pipeline, open(file_name, 'wb'))"
   ]
  },
  {
   "cell_type": "markdown",
   "metadata": {
    "id": "51uJCr-afyQ_"
   },
   "source": [
    "### Feature importance\n",
    "\n",
    "XGBoost has several methods to investigate feature importance, which can help gain some insight from the model. Generally, importance provides a score that indicates how useful or valuable each feature was in the construction of the boosted decision trees within the model.\n",
    "\n",
    "It is important to note that these scores are estimates, but they give some interpretability to these ensemble methods."
   ]
  },
  {
   "cell_type": "markdown",
   "metadata": {
    "id": "btxQF2l5jnc2"
   },
   "source": [
    "The default feature importance in XGBoost uses 'weight', or the number of times a feature appears in a tree in the model. This can be problematic when using categorical data, especially with high cardinality, but in this case almost all features are numeric.\n",
    "\n",
    "**Note** A quirk of XGBoost's feature importance is that it renames the features by the number they appeared. If the columns were not anonymized to start with, I would have displayed the feature names here."
   ]
  },
  {
   "cell_type": "code",
   "execution_count": 56,
   "metadata": {
    "ExecuteTime": {
     "end_time": "2021-01-01T20:16:05.014724Z",
     "start_time": "2021-01-01T19:54:11.448Z"
    },
    "colab": {
     "base_uri": "https://localhost:8080/",
     "height": 893
    },
    "executionInfo": {
     "elapsed": 823,
     "status": "ok",
     "timestamp": 1602098934040,
     "user": {
      "displayName": "Stephan Hermanides",
      "photoUrl": "https://lh3.googleusercontent.com/a-/AOh14Ghv4g_ZoKrg5A0hgb2DCrjAtaY1TmQsQrMK0lO9Bw=s64",
      "userId": "10917467489758916868"
     },
     "user_tz": 300
    },
    "id": "PKXxnp0efdIG",
    "outputId": "b32c2cc8-9817-4369-bec5-f1510a37bbbc"
   },
   "outputs": [
    {
     "data": {
      "image/png": "[encoded data removed]",
      "text/plain": [
       "<Figure size 1080x1080 with 1 Axes>"
      ]
     },
     "metadata": {
      "needs_background": "light"
     },
     "output_type": "display_data"
    }
   ],
   "source": [
    "fig, ax = plt.subplots(1,1,figsize=[15,15])\n",
    "plot_importance(xgb_pipeline.named_steps['xgbclassifier'], ax=ax, max_num_features=20, importance_type='weight', height=0.4);"
   ]
  },
  {
   "cell_type": "markdown",
   "metadata": {
    "id": "jqU1_Vn1kJxE"
   },
   "source": [
    "Another way to look at feature importance is to use 'gain', which calculates the average information gain of splits using the feature"
   ]
  },
  {
   "cell_type": "code",
   "execution_count": 57,
   "metadata": {
    "ExecuteTime": {
     "end_time": "2021-01-01T20:16:05.018504Z",
     "start_time": "2021-01-01T19:54:11.452Z"
    },
    "colab": {
     "base_uri": "https://localhost:8080/",
     "height": 893
    },
    "executionInfo": {
     "elapsed": 782,
     "status": "ok",
     "timestamp": 1602098945108,
     "user": {
      "displayName": "Stephan Hermanides",
      "photoUrl": "https://lh3.googleusercontent.com/a-/AOh14Ghv4g_ZoKrg5A0hgb2DCrjAtaY1TmQsQrMK0lO9Bw=s64",
      "userId": "10917467489758916868"
     },
     "user_tz": 300
    },
    "id": "c-u4nTRygVbr",
    "outputId": "0873a8c7-820a-4208-816f-3013e3c4c1f6"
   },
   "outputs": [
    {
     "data": {
      "image/png": "[encoded data removed]",
      "text/plain": [
       "<Figure size 1080x1080 with 1 Axes>"
      ]
     },
     "metadata": {
      "needs_background": "light"
     },
     "output_type": "display_data"
    }
   ],
   "source": [
    "fig, ax = plt.subplots(1,1,figsize=[15,15])\n",
    "plot_importance(xgb_pipeline.named_steps['xgbclassifier'], ax=ax, max_num_features=20, importance_type='gain', height=0.4);"
   ]
  }
 ],
 "metadata": {
  "colab": {
   "collapsed_sections": [
    "QnRuk4snKaeR",
    "6AUxMEpUKaeT",
    "ufxJNwPcKags",
    "aPhjBis_dMes",
    "9iqXX8eytHyv"
   ],
   "name": "Modeling.ipynb",
   "provenance": []
  },
  "kernelspec": {
   "display_name": "Python [conda env:scania_challenge] *",
   "language": "python",
   "name": "conda-env-scania_challenge-py"
  },
  "language_info": {
   "codemirror_mode": {
    "name": "ipython",
    "version": 3
   },
   "file_extension": ".py",
   "mimetype": "text/x-python",
   "name": "python",
   "nbconvert_exporter": "python",
   "pygments_lexer": "ipython3",
   "version": "3.8.6"
  },
  "toc": {
   "base_numbering": 1,
   "nav_menu": {},
   "number_sections": true,
   "sideBar": true,
   "skip_h1_title": false,
   "title_cell": "Table of Contents",
   "title_sidebar": "Contents",
   "toc_cell": false,
   "toc_position": {},
   "toc_section_display": true,
   "toc_window_display": false
  }
 },
 "nbformat": 4,
 "nbformat_minor": 4
}
