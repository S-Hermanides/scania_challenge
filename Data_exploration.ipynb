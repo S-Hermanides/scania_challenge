{
 "cells": [
  {
   "cell_type": "markdown",
   "metadata": {
    "id": "QnRuk4snKaeR"
   },
   "source": [
    "## Introduction"
   ]
  },
  {
   "cell_type": "markdown",
   "metadata": {
    "id": "N892rmijKaeS"
   },
   "source": [
    "Assignment:\n",
    "\n",
    "**Predict whether a failure of a Scania Truck component is related to the air pressure system (APS) or not.**\n",
    "\n",
    "Evaluation:\n",
    "\n",
    "**The evaluation metric is the ROC-AUC score** \n",
    "\n",
    "Data:\n",
    "\n",
    "A set of anonymized features that were collected from heavy Scania Trucks at everyday usage."
   ]
  },
  {
   "cell_type": "code",
   "execution_count": 1,
   "metadata": {
    "colab": {
     "base_uri": "https://localhost:8080/"
    },
    "executionInfo": {
     "elapsed": 23725,
     "status": "ok",
     "timestamp": 1602096473907,
     "user": {
      "displayName": "Stephan Hermanides",
      "photoUrl": "https://lh3.googleusercontent.com/a-/AOh14Ghv4g_ZoKrg5A0hgb2DCrjAtaY1TmQsQrMK0lO9Bw=s64",
      "userId": "10917467489758916868"
     },
     "user_tz": 300
    },
    "id": "yaLnJ-dyKdeB",
    "outputId": "051b9caa-af36-4b14-face-fe50707a7df5"
   },
   "outputs": [
    {
     "name": "stdout",
     "output_type": "stream",
     "text": [
      "Mounted at /content/drive\n"
     ]
    }
   ],
   "source": [
    "from google.colab import drive\n",
    "drive.mount(\"/content/drive\")"
   ]
  },
  {
   "cell_type": "code",
   "execution_count": 30,
   "metadata": {
    "ExecuteTime": {
     "end_time": "2020-10-05T23:35:54.181054Z",
     "start_time": "2020-10-05T23:35:54.172745Z"
    },
    "executionInfo": {
     "elapsed": 300,
     "status": "ok",
     "timestamp": 1602098328094,
     "user": {
      "displayName": "Stephan Hermanides",
      "photoUrl": "https://lh3.googleusercontent.com/a-/AOh14Ghv4g_ZoKrg5A0hgb2DCrjAtaY1TmQsQrMK0lO9Bw=s64",
      "userId": "10917467489758916868"
     },
     "user_tz": 300
    },
    "id": "PDIBCLlTKadn"
   },
   "outputs": [],
   "source": [
    "import pandas as pd\n",
    "import numpy as np\n",
    "import seaborn as sns\n",
    "import matplotlib.pyplot as plt\n",
    "\n",
    "from imblearn.pipeline import Pipeline, make_pipeline\n",
    "from imblearn.over_sampling import SMOTE\n",
    "from sklearn.impute import SimpleImputer\n",
    "from sklearn.ensemble import RandomForestClassifier\n",
    "from sklearn.model_selection import cross_val_score, cross_validate, GridSearchCV, RandomizedSearchCV, train_test_split\n",
    "from sklearn.decomposition import PCA\n",
    "from sklearn.preprocessing import StandardScaler\n",
    "from sklearn.linear_model import LogisticRegression\n",
    "from sklearn.neighbors import KNeighborsClassifier\n",
    "from sklearn.svm import SVC\n",
    "from sklearn.naive_bayes import GaussianNB\n",
    "from sklearn.metrics import precision_recall_curve, confusion_matrix, classification_report, plot_roc_curve, recall_score, precision_score, f1_score\n",
    "\n",
    "from xgboost.sklearn import XGBClassifier\n",
    "from xgboost import plot_importance\n",
    "\n",
    "from joblib import dump, load"
   ]
  },
  {
   "cell_type": "markdown",
   "metadata": {
    "id": "6AUxMEpUKaeT"
   },
   "source": [
    "## Data"
   ]
  },
  {
   "cell_type": "markdown",
   "metadata": {
    "id": "Cq7LtJF-rpYz"
   },
   "source": [
    "### Exploration"
   ]
  },
  {
   "cell_type": "code",
   "execution_count": 3,
   "metadata": {
    "ExecuteTime": {
     "end_time": "2020-10-05T19:05:19.227286Z",
     "start_time": "2020-10-05T19:05:18.012023Z"
    },
    "executionInfo": {
     "elapsed": 28695,
     "status": "ok",
     "timestamp": 1602096478886,
     "user": {
      "displayName": "Stephan Hermanides",
      "photoUrl": "https://lh3.googleusercontent.com/a-/AOh14Ghv4g_ZoKrg5A0hgb2DCrjAtaY1TmQsQrMK0lO9Bw=s64",
      "userId": "10917467489758916868"
     },
     "user_tz": 300
    },
    "id": "SlXOM58tKaeU"
   },
   "outputs": [],
   "source": [
    "# Data has 20 rows of description at the start, missing values coded as 'na'\n",
    "\n",
    "train = pd.read_csv('/content/drive/My Drive/Colab/scania_challenge/data/aps_failure_training_set.csv', skiprows=20, na_values='na')\n",
    "test = pd.read_csv('/content/drive/My Drive/Colab/scania_challenge/data/aps_failure_test_set.csv', skiprows=20, na_values='na')"
   ]
  },
  {
   "cell_type": "code",
   "execution_count": 4,
   "metadata": {
    "ExecuteTime": {
     "end_time": "2020-10-05T19:05:19.257801Z",
     "start_time": "2020-10-05T19:05:19.230394Z"
    },
    "executionInfo": {
     "elapsed": 28696,
     "status": "ok",
     "timestamp": 1602096478890,
     "user": {
      "displayName": "Stephan Hermanides",
      "photoUrl": "https://lh3.googleusercontent.com/a-/AOh14Ghv4g_ZoKrg5A0hgb2DCrjAtaY1TmQsQrMK0lO9Bw=s64",
      "userId": "10917467489758916868"
     },
     "user_tz": 300
    },
    "id": "tbVVUF_AKaed"
   },
   "outputs": [],
   "source": [
    "# class coded as 'pos' and 'neg', replacing with 1 and 0\n",
    "\n",
    "train['class'].replace(['pos', 'neg'], [1,0], inplace=True)\n",
    "test['class'].replace(['pos', 'neg'], [1,0], inplace=True)"
   ]
  },
  {
   "cell_type": "code",
   "execution_count": 5,
   "metadata": {
    "ExecuteTime": {
     "end_time": "2020-10-05T19:05:19.273086Z",
     "start_time": "2020-10-05T19:05:19.262427Z"
    },
    "colab": {
     "base_uri": "https://localhost:8080/"
    },
    "executionInfo": {
     "elapsed": 28684,
     "status": "ok",
     "timestamp": 1602096478891,
     "user": {
      "displayName": "Stephan Hermanides",
      "photoUrl": "https://lh3.googleusercontent.com/a-/AOh14Ghv4g_ZoKrg5A0hgb2DCrjAtaY1TmQsQrMK0lO9Bw=s64",
      "userId": "10917467489758916868"
     },
     "user_tz": 300
    },
    "id": "MVbgZBAwKaei",
    "outputId": "f228d600-da20-48a7-a158-5ffd936a8731"
   },
   "outputs": [
    {
     "data": {
      "text/plain": [
       "(60000, 171)"
      ]
     },
     "execution_count": 5,
     "metadata": {
      "tags": []
     },
     "output_type": "execute_result"
    }
   ],
   "source": [
    "train.shape"
   ]
  },
  {
   "cell_type": "code",
   "execution_count": 6,
   "metadata": {
    "ExecuteTime": {
     "end_time": "2020-10-05T19:27:02.652329Z",
     "start_time": "2020-10-05T19:27:01.778330Z"
    },
    "colab": {
     "base_uri": "https://localhost:8080/",
     "height": 346
    },
    "executionInfo": {
     "elapsed": 29770,
     "status": "ok",
     "timestamp": 1602096479989,
     "user": {
      "displayName": "Stephan Hermanides",
      "photoUrl": "https://lh3.googleusercontent.com/a-/AOh14Ghv4g_ZoKrg5A0hgb2DCrjAtaY1TmQsQrMK0lO9Bw=s64",
      "userId": "10917467489758916868"
     },
     "user_tz": 300
    },
    "id": "z6UzeENhKaev",
    "outputId": "d4bcfdf6-c2e3-4427-9c0c-9c18d4b04044"
   },
   "outputs": [
    {
     "data": {
      "text/html": [
       "<div>\n",
       "<style scoped>\n",
       "    .dataframe tbody tr th:only-of-type {\n",
       "        vertical-align: middle;\n",
       "    }\n",
       "\n",
       "    .dataframe tbody tr th {\n",
       "        vertical-align: top;\n",
       "    }\n",
       "\n",
       "    .dataframe thead th {\n",
       "        text-align: right;\n",
       "    }\n",
       "</style>\n",
       "<table border=\"1\" class=\"dataframe\">\n",
       "  <thead>\n",
       "    <tr style=\"text-align: right;\">\n",
       "      <th></th>\n",
       "      <th>class</th>\n",
       "      <th>aa_000</th>\n",
       "      <th>ab_000</th>\n",
       "      <th>ac_000</th>\n",
       "      <th>ad_000</th>\n",
       "      <th>ae_000</th>\n",
       "      <th>af_000</th>\n",
       "      <th>ag_000</th>\n",
       "      <th>ag_001</th>\n",
       "      <th>ag_002</th>\n",
       "      <th>ag_003</th>\n",
       "      <th>ag_004</th>\n",
       "      <th>ag_005</th>\n",
       "      <th>ag_006</th>\n",
       "      <th>ag_007</th>\n",
       "      <th>ag_008</th>\n",
       "      <th>ag_009</th>\n",
       "      <th>ah_000</th>\n",
       "      <th>ai_000</th>\n",
       "      <th>aj_000</th>\n",
       "      <th>ak_000</th>\n",
       "      <th>al_000</th>\n",
       "      <th>am_0</th>\n",
       "      <th>an_000</th>\n",
       "      <th>ao_000</th>\n",
       "      <th>ap_000</th>\n",
       "      <th>aq_000</th>\n",
       "      <th>ar_000</th>\n",
       "      <th>as_000</th>\n",
       "      <th>at_000</th>\n",
       "      <th>au_000</th>\n",
       "      <th>av_000</th>\n",
       "      <th>ax_000</th>\n",
       "      <th>ay_000</th>\n",
       "      <th>ay_001</th>\n",
       "      <th>ay_002</th>\n",
       "      <th>ay_003</th>\n",
       "      <th>ay_004</th>\n",
       "      <th>ay_005</th>\n",
       "      <th>ay_006</th>\n",
       "      <th>...</th>\n",
       "      <th>db_000</th>\n",
       "      <th>dc_000</th>\n",
       "      <th>dd_000</th>\n",
       "      <th>de_000</th>\n",
       "      <th>df_000</th>\n",
       "      <th>dg_000</th>\n",
       "      <th>dh_000</th>\n",
       "      <th>di_000</th>\n",
       "      <th>dj_000</th>\n",
       "      <th>dk_000</th>\n",
       "      <th>dl_000</th>\n",
       "      <th>dm_000</th>\n",
       "      <th>dn_000</th>\n",
       "      <th>do_000</th>\n",
       "      <th>dp_000</th>\n",
       "      <th>dq_000</th>\n",
       "      <th>dr_000</th>\n",
       "      <th>ds_000</th>\n",
       "      <th>dt_000</th>\n",
       "      <th>du_000</th>\n",
       "      <th>dv_000</th>\n",
       "      <th>dx_000</th>\n",
       "      <th>dy_000</th>\n",
       "      <th>dz_000</th>\n",
       "      <th>ea_000</th>\n",
       "      <th>eb_000</th>\n",
       "      <th>ec_00</th>\n",
       "      <th>ed_000</th>\n",
       "      <th>ee_000</th>\n",
       "      <th>ee_001</th>\n",
       "      <th>ee_002</th>\n",
       "      <th>ee_003</th>\n",
       "      <th>ee_004</th>\n",
       "      <th>ee_005</th>\n",
       "      <th>ee_006</th>\n",
       "      <th>ee_007</th>\n",
       "      <th>ee_008</th>\n",
       "      <th>ee_009</th>\n",
       "      <th>ef_000</th>\n",
       "      <th>eg_000</th>\n",
       "    </tr>\n",
       "  </thead>\n",
       "  <tbody>\n",
       "    <tr>\n",
       "      <th>count</th>\n",
       "      <td>60000.000000</td>\n",
       "      <td>6.000000e+04</td>\n",
       "      <td>13671.000000</td>\n",
       "      <td>5.666500e+04</td>\n",
       "      <td>4.513900e+04</td>\n",
       "      <td>57500.000000</td>\n",
       "      <td>57500.000000</td>\n",
       "      <td>5.932900e+04</td>\n",
       "      <td>5.932900e+04</td>\n",
       "      <td>5.932900e+04</td>\n",
       "      <td>5.932900e+04</td>\n",
       "      <td>5.932900e+04</td>\n",
       "      <td>5.932900e+04</td>\n",
       "      <td>5.932900e+04</td>\n",
       "      <td>5.932900e+04</td>\n",
       "      <td>5.932900e+04</td>\n",
       "      <td>5.932900e+04</td>\n",
       "      <td>5.935500e+04</td>\n",
       "      <td>5.937100e+04</td>\n",
       "      <td>5.937100e+04</td>\n",
       "      <td>5.560000e+04</td>\n",
       "      <td>5.935800e+04</td>\n",
       "      <td>5.937100e+04</td>\n",
       "      <td>5.935800e+04</td>\n",
       "      <td>5.941100e+04</td>\n",
       "      <td>5.935800e+04</td>\n",
       "      <td>5.941100e+04</td>\n",
       "      <td>57277.000000</td>\n",
       "      <td>5.937100e+04</td>\n",
       "      <td>5.937100e+04</td>\n",
       "      <td>5.937100e+04</td>\n",
       "      <td>57500.000000</td>\n",
       "      <td>57499.000000</td>\n",
       "      <td>5.932900e+04</td>\n",
       "      <td>5.932900e+04</td>\n",
       "      <td>5.932900e+04</td>\n",
       "      <td>5.932900e+04</td>\n",
       "      <td>5.932900e+04</td>\n",
       "      <td>5.932900e+04</td>\n",
       "      <td>5.932900e+04</td>\n",
       "      <td>...</td>\n",
       "      <td>46192.000000</td>\n",
       "      <td>4.619200e+04</td>\n",
       "      <td>57497.000000</td>\n",
       "      <td>57276.000000</td>\n",
       "      <td>5.599200e+04</td>\n",
       "      <td>5.599200e+04</td>\n",
       "      <td>5.599200e+04</td>\n",
       "      <td>5.599400e+04</td>\n",
       "      <td>55993.000000</td>\n",
       "      <td>5.599300e+04</td>\n",
       "      <td>5.599200e+04</td>\n",
       "      <td>5.599100e+04</td>\n",
       "      <td>5.930900e+04</td>\n",
       "      <td>5.727600e+04</td>\n",
       "      <td>57274.000000</td>\n",
       "      <td>5.727400e+04</td>\n",
       "      <td>5.727400e+04</td>\n",
       "      <td>5.727300e+04</td>\n",
       "      <td>57273.000000</td>\n",
       "      <td>5.727400e+04</td>\n",
       "      <td>5.727400e+04</td>\n",
       "      <td>5.727700e+04</td>\n",
       "      <td>5.727600e+04</td>\n",
       "      <td>57277.000000</td>\n",
       "      <td>57277.000000</td>\n",
       "      <td>5.599300e+04</td>\n",
       "      <td>49761.000000</td>\n",
       "      <td>50447.000000</td>\n",
       "      <td>5.932900e+04</td>\n",
       "      <td>5.932900e+04</td>\n",
       "      <td>5.932900e+04</td>\n",
       "      <td>5.932900e+04</td>\n",
       "      <td>5.932900e+04</td>\n",
       "      <td>5.932900e+04</td>\n",
       "      <td>5.932900e+04</td>\n",
       "      <td>5.932900e+04</td>\n",
       "      <td>5.932900e+04</td>\n",
       "      <td>5.932900e+04</td>\n",
       "      <td>57276.000000</td>\n",
       "      <td>57277.000000</td>\n",
       "    </tr>\n",
       "    <tr>\n",
       "      <th>mean</th>\n",
       "      <td>0.016667</td>\n",
       "      <td>5.933650e+04</td>\n",
       "      <td>0.713189</td>\n",
       "      <td>3.560143e+08</td>\n",
       "      <td>1.906206e+05</td>\n",
       "      <td>6.819130</td>\n",
       "      <td>11.006817</td>\n",
       "      <td>2.216364e+02</td>\n",
       "      <td>9.757223e+02</td>\n",
       "      <td>8.606015e+03</td>\n",
       "      <td>8.859128e+04</td>\n",
       "      <td>4.370966e+05</td>\n",
       "      <td>1.108374e+06</td>\n",
       "      <td>1.657818e+06</td>\n",
       "      <td>4.993098e+05</td>\n",
       "      <td>3.556989e+04</td>\n",
       "      <td>5.114753e+03</td>\n",
       "      <td>1.809931e+06</td>\n",
       "      <td>9.016965e+03</td>\n",
       "      <td>1.143675e+03</td>\n",
       "      <td>9.794900e+02</td>\n",
       "      <td>5.913048e+04</td>\n",
       "      <td>9.328133e+04</td>\n",
       "      <td>3.461037e+06</td>\n",
       "      <td>3.002440e+06</td>\n",
       "      <td>1.004160e+06</td>\n",
       "      <td>4.424045e+05</td>\n",
       "      <td>0.496918</td>\n",
       "      <td>1.267365e+02</td>\n",
       "      <td>5.072046e+03</td>\n",
       "      <td>2.305804e+02</td>\n",
       "      <td>1117.825913</td>\n",
       "      <td>374.327380</td>\n",
       "      <td>1.221165e+04</td>\n",
       "      <td>1.019012e+04</td>\n",
       "      <td>1.097500e+04</td>\n",
       "      <td>7.225784e+03</td>\n",
       "      <td>1.056600e+04</td>\n",
       "      <td>1.119791e+05</td>\n",
       "      <td>1.078551e+06</td>\n",
       "      <td>...</td>\n",
       "      <td>13.416652</td>\n",
       "      <td>2.200752e+06</td>\n",
       "      <td>3123.961911</td>\n",
       "      <td>375.147112</td>\n",
       "      <td>2.718638e+03</td>\n",
       "      <td>5.609957e+03</td>\n",
       "      <td>4.707073e+03</td>\n",
       "      <td>3.724824e+04</td>\n",
       "      <td>39.938564</td>\n",
       "      <td>1.861313e+03</td>\n",
       "      <td>2.854177e+04</td>\n",
       "      <td>7.923228e+03</td>\n",
       "      <td>3.374545e+04</td>\n",
       "      <td>2.850785e+04</td>\n",
       "      <td>6958.652722</td>\n",
       "      <td>4.529375e+06</td>\n",
       "      <td>2.037598e+05</td>\n",
       "      <td>8.965500e+04</td>\n",
       "      <td>15403.354670</td>\n",
       "      <td>4.058712e+06</td>\n",
       "      <td>5.938350e+05</td>\n",
       "      <td>7.912085e+05</td>\n",
       "      <td>7.780350e+03</td>\n",
       "      <td>0.215759</td>\n",
       "      <td>1.567750</td>\n",
       "      <td>9.717093e+06</td>\n",
       "      <td>1353.131452</td>\n",
       "      <td>1452.155212</td>\n",
       "      <td>7.334042e+05</td>\n",
       "      <td>7.838746e+05</td>\n",
       "      <td>4.454897e+05</td>\n",
       "      <td>2.111264e+05</td>\n",
       "      <td>4.457343e+05</td>\n",
       "      <td>3.939462e+05</td>\n",
       "      <td>3.330582e+05</td>\n",
       "      <td>3.462714e+05</td>\n",
       "      <td>1.387300e+05</td>\n",
       "      <td>8.388915e+03</td>\n",
       "      <td>0.090579</td>\n",
       "      <td>0.212756</td>\n",
       "    </tr>\n",
       "    <tr>\n",
       "      <th>std</th>\n",
       "      <td>0.128020</td>\n",
       "      <td>1.454301e+05</td>\n",
       "      <td>3.478962</td>\n",
       "      <td>7.948749e+08</td>\n",
       "      <td>4.040441e+07</td>\n",
       "      <td>161.543373</td>\n",
       "      <td>209.792592</td>\n",
       "      <td>2.047846e+04</td>\n",
       "      <td>3.420053e+04</td>\n",
       "      <td>1.503220e+05</td>\n",
       "      <td>7.617312e+05</td>\n",
       "      <td>2.374282e+06</td>\n",
       "      <td>3.262607e+06</td>\n",
       "      <td>3.909384e+06</td>\n",
       "      <td>1.422765e+06</td>\n",
       "      <td>2.201524e+05</td>\n",
       "      <td>1.696582e+05</td>\n",
       "      <td>4.185740e+06</td>\n",
       "      <td>1.632778e+05</td>\n",
       "      <td>5.035971e+04</td>\n",
       "      <td>7.583162e+04</td>\n",
       "      <td>5.394658e+05</td>\n",
       "      <td>8.494694e+05</td>\n",
       "      <td>7.790350e+06</td>\n",
       "      <td>6.819518e+06</td>\n",
       "      <td>3.088457e+06</td>\n",
       "      <td>1.262469e+06</td>\n",
       "      <td>5.511653</td>\n",
       "      <td>1.101004e+04</td>\n",
       "      <td>1.196159e+05</td>\n",
       "      <td>1.579952e+04</td>\n",
       "      <td>6598.611557</td>\n",
       "      <td>1482.711621</td>\n",
       "      <td>4.544963e+05</td>\n",
       "      <td>5.352707e+05</td>\n",
       "      <td>4.283370e+05</td>\n",
       "      <td>2.064679e+05</td>\n",
       "      <td>3.546258e+05</td>\n",
       "      <td>1.394585e+06</td>\n",
       "      <td>3.278941e+06</td>\n",
       "      <td>...</td>\n",
       "      <td>73.405610</td>\n",
       "      <td>4.110150e+06</td>\n",
       "      <td>9516.675102</td>\n",
       "      <td>1689.062059</td>\n",
       "      <td>1.373331e+05</td>\n",
       "      <td>2.085649e+05</td>\n",
       "      <td>5.602799e+05</td>\n",
       "      <td>4.254382e+05</td>\n",
       "      <td>4533.142182</td>\n",
       "      <td>6.659786e+04</td>\n",
       "      <td>1.095662e+06</td>\n",
       "      <td>2.775356e+05</td>\n",
       "      <td>9.733719e+04</td>\n",
       "      <td>6.125476e+04</td>\n",
       "      <td>13955.451781</td>\n",
       "      <td>9.748478e+07</td>\n",
       "      <td>1.366065e+06</td>\n",
       "      <td>2.082016e+05</td>\n",
       "      <td>33801.022975</td>\n",
       "      <td>1.156777e+07</td>\n",
       "      <td>2.082998e+06</td>\n",
       "      <td>4.151033e+06</td>\n",
       "      <td>5.924449e+04</td>\n",
       "      <td>10.821035</td>\n",
       "      <td>53.528722</td>\n",
       "      <td>4.274675e+07</td>\n",
       "      <td>3536.637285</td>\n",
       "      <td>3525.028652</td>\n",
       "      <td>2.416166e+06</td>\n",
       "      <td>2.570111e+06</td>\n",
       "      <td>1.155540e+06</td>\n",
       "      <td>5.433188e+05</td>\n",
       "      <td>1.168314e+06</td>\n",
       "      <td>1.121044e+06</td>\n",
       "      <td>1.069160e+06</td>\n",
       "      <td>1.728056e+06</td>\n",
       "      <td>4.495100e+05</td>\n",
       "      <td>4.747043e+04</td>\n",
       "      <td>4.368855</td>\n",
       "      <td>8.830641</td>\n",
       "    </tr>\n",
       "    <tr>\n",
       "      <th>min</th>\n",
       "      <td>0.000000</td>\n",
       "      <td>0.000000e+00</td>\n",
       "      <td>0.000000</td>\n",
       "      <td>0.000000e+00</td>\n",
       "      <td>0.000000e+00</td>\n",
       "      <td>0.000000</td>\n",
       "      <td>0.000000</td>\n",
       "      <td>0.000000e+00</td>\n",
       "      <td>0.000000e+00</td>\n",
       "      <td>0.000000e+00</td>\n",
       "      <td>0.000000e+00</td>\n",
       "      <td>0.000000e+00</td>\n",
       "      <td>0.000000e+00</td>\n",
       "      <td>0.000000e+00</td>\n",
       "      <td>0.000000e+00</td>\n",
       "      <td>0.000000e+00</td>\n",
       "      <td>0.000000e+00</td>\n",
       "      <td>0.000000e+00</td>\n",
       "      <td>0.000000e+00</td>\n",
       "      <td>0.000000e+00</td>\n",
       "      <td>0.000000e+00</td>\n",
       "      <td>0.000000e+00</td>\n",
       "      <td>0.000000e+00</td>\n",
       "      <td>0.000000e+00</td>\n",
       "      <td>0.000000e+00</td>\n",
       "      <td>0.000000e+00</td>\n",
       "      <td>0.000000e+00</td>\n",
       "      <td>0.000000</td>\n",
       "      <td>0.000000e+00</td>\n",
       "      <td>0.000000e+00</td>\n",
       "      <td>0.000000e+00</td>\n",
       "      <td>0.000000</td>\n",
       "      <td>0.000000</td>\n",
       "      <td>0.000000e+00</td>\n",
       "      <td>0.000000e+00</td>\n",
       "      <td>0.000000e+00</td>\n",
       "      <td>0.000000e+00</td>\n",
       "      <td>0.000000e+00</td>\n",
       "      <td>0.000000e+00</td>\n",
       "      <td>0.000000e+00</td>\n",
       "      <td>...</td>\n",
       "      <td>0.000000</td>\n",
       "      <td>0.000000e+00</td>\n",
       "      <td>0.000000</td>\n",
       "      <td>0.000000</td>\n",
       "      <td>0.000000e+00</td>\n",
       "      <td>0.000000e+00</td>\n",
       "      <td>0.000000e+00</td>\n",
       "      <td>0.000000e+00</td>\n",
       "      <td>0.000000</td>\n",
       "      <td>0.000000e+00</td>\n",
       "      <td>0.000000e+00</td>\n",
       "      <td>0.000000e+00</td>\n",
       "      <td>0.000000e+00</td>\n",
       "      <td>0.000000e+00</td>\n",
       "      <td>0.000000</td>\n",
       "      <td>0.000000e+00</td>\n",
       "      <td>0.000000e+00</td>\n",
       "      <td>0.000000e+00</td>\n",
       "      <td>0.000000</td>\n",
       "      <td>0.000000e+00</td>\n",
       "      <td>0.000000e+00</td>\n",
       "      <td>0.000000e+00</td>\n",
       "      <td>0.000000e+00</td>\n",
       "      <td>0.000000</td>\n",
       "      <td>0.000000</td>\n",
       "      <td>0.000000e+00</td>\n",
       "      <td>0.000000</td>\n",
       "      <td>0.000000</td>\n",
       "      <td>0.000000e+00</td>\n",
       "      <td>0.000000e+00</td>\n",
       "      <td>0.000000e+00</td>\n",
       "      <td>0.000000e+00</td>\n",
       "      <td>0.000000e+00</td>\n",
       "      <td>0.000000e+00</td>\n",
       "      <td>0.000000e+00</td>\n",
       "      <td>0.000000e+00</td>\n",
       "      <td>0.000000e+00</td>\n",
       "      <td>0.000000e+00</td>\n",
       "      <td>0.000000</td>\n",
       "      <td>0.000000</td>\n",
       "    </tr>\n",
       "    <tr>\n",
       "      <th>25%</th>\n",
       "      <td>0.000000</td>\n",
       "      <td>8.340000e+02</td>\n",
       "      <td>0.000000</td>\n",
       "      <td>1.600000e+01</td>\n",
       "      <td>2.400000e+01</td>\n",
       "      <td>0.000000</td>\n",
       "      <td>0.000000</td>\n",
       "      <td>0.000000e+00</td>\n",
       "      <td>0.000000e+00</td>\n",
       "      <td>0.000000e+00</td>\n",
       "      <td>0.000000e+00</td>\n",
       "      <td>3.080000e+02</td>\n",
       "      <td>1.383400e+04</td>\n",
       "      <td>1.060800e+04</td>\n",
       "      <td>0.000000e+00</td>\n",
       "      <td>0.000000e+00</td>\n",
       "      <td>0.000000e+00</td>\n",
       "      <td>2.973300e+04</td>\n",
       "      <td>0.000000e+00</td>\n",
       "      <td>0.000000e+00</td>\n",
       "      <td>0.000000e+00</td>\n",
       "      <td>0.000000e+00</td>\n",
       "      <td>0.000000e+00</td>\n",
       "      <td>7.323850e+04</td>\n",
       "      <td>6.558500e+04</td>\n",
       "      <td>2.518900e+04</td>\n",
       "      <td>4.161000e+03</td>\n",
       "      <td>0.000000</td>\n",
       "      <td>0.000000e+00</td>\n",
       "      <td>0.000000e+00</td>\n",
       "      <td>0.000000e+00</td>\n",
       "      <td>12.000000</td>\n",
       "      <td>10.000000</td>\n",
       "      <td>0.000000e+00</td>\n",
       "      <td>0.000000e+00</td>\n",
       "      <td>0.000000e+00</td>\n",
       "      <td>0.000000e+00</td>\n",
       "      <td>0.000000e+00</td>\n",
       "      <td>0.000000e+00</td>\n",
       "      <td>0.000000e+00</td>\n",
       "      <td>...</td>\n",
       "      <td>0.000000</td>\n",
       "      <td>2.655850e+04</td>\n",
       "      <td>132.000000</td>\n",
       "      <td>66.000000</td>\n",
       "      <td>0.000000e+00</td>\n",
       "      <td>0.000000e+00</td>\n",
       "      <td>0.000000e+00</td>\n",
       "      <td>0.000000e+00</td>\n",
       "      <td>0.000000</td>\n",
       "      <td>0.000000e+00</td>\n",
       "      <td>0.000000e+00</td>\n",
       "      <td>0.000000e+00</td>\n",
       "      <td>6.600000e+02</td>\n",
       "      <td>2.000000e+01</td>\n",
       "      <td>6.000000</td>\n",
       "      <td>0.000000e+00</td>\n",
       "      <td>0.000000e+00</td>\n",
       "      <td>6.840000e+02</td>\n",
       "      <td>150.000000</td>\n",
       "      <td>5.380000e+03</td>\n",
       "      <td>7.420000e+02</td>\n",
       "      <td>0.000000e+00</td>\n",
       "      <td>0.000000e+00</td>\n",
       "      <td>0.000000</td>\n",
       "      <td>0.000000</td>\n",
       "      <td>0.000000e+00</td>\n",
       "      <td>114.760000</td>\n",
       "      <td>98.000000</td>\n",
       "      <td>1.569800e+04</td>\n",
       "      <td>8.536000e+03</td>\n",
       "      <td>2.936000e+03</td>\n",
       "      <td>1.166000e+03</td>\n",
       "      <td>2.700000e+03</td>\n",
       "      <td>3.584000e+03</td>\n",
       "      <td>5.120000e+02</td>\n",
       "      <td>1.100000e+02</td>\n",
       "      <td>0.000000e+00</td>\n",
       "      <td>0.000000e+00</td>\n",
       "      <td>0.000000</td>\n",
       "      <td>0.000000</td>\n",
       "    </tr>\n",
       "    <tr>\n",
       "      <th>50%</th>\n",
       "      <td>0.000000</td>\n",
       "      <td>3.077600e+04</td>\n",
       "      <td>0.000000</td>\n",
       "      <td>1.520000e+02</td>\n",
       "      <td>1.260000e+02</td>\n",
       "      <td>0.000000</td>\n",
       "      <td>0.000000</td>\n",
       "      <td>0.000000e+00</td>\n",
       "      <td>0.000000e+00</td>\n",
       "      <td>0.000000e+00</td>\n",
       "      <td>0.000000e+00</td>\n",
       "      <td>3.672000e+03</td>\n",
       "      <td>1.760200e+05</td>\n",
       "      <td>9.303360e+05</td>\n",
       "      <td>1.192040e+05</td>\n",
       "      <td>1.786000e+03</td>\n",
       "      <td>0.000000e+00</td>\n",
       "      <td>1.002420e+06</td>\n",
       "      <td>0.000000e+00</td>\n",
       "      <td>0.000000e+00</td>\n",
       "      <td>0.000000e+00</td>\n",
       "      <td>0.000000e+00</td>\n",
       "      <td>0.000000e+00</td>\n",
       "      <td>1.918629e+06</td>\n",
       "      <td>1.643556e+06</td>\n",
       "      <td>3.572810e+05</td>\n",
       "      <td>1.787920e+05</td>\n",
       "      <td>0.000000</td>\n",
       "      <td>0.000000e+00</td>\n",
       "      <td>0.000000e+00</td>\n",
       "      <td>0.000000e+00</td>\n",
       "      <td>116.000000</td>\n",
       "      <td>66.000000</td>\n",
       "      <td>0.000000e+00</td>\n",
       "      <td>0.000000e+00</td>\n",
       "      <td>0.000000e+00</td>\n",
       "      <td>0.000000e+00</td>\n",
       "      <td>0.000000e+00</td>\n",
       "      <td>0.000000e+00</td>\n",
       "      <td>1.682020e+05</td>\n",
       "      <td>...</td>\n",
       "      <td>0.000000</td>\n",
       "      <td>1.734472e+06</td>\n",
       "      <td>1354.000000</td>\n",
       "      <td>144.000000</td>\n",
       "      <td>0.000000e+00</td>\n",
       "      <td>0.000000e+00</td>\n",
       "      <td>0.000000e+00</td>\n",
       "      <td>0.000000e+00</td>\n",
       "      <td>0.000000</td>\n",
       "      <td>0.000000e+00</td>\n",
       "      <td>0.000000e+00</td>\n",
       "      <td>0.000000e+00</td>\n",
       "      <td>1.433000e+04</td>\n",
       "      <td>1.037700e+04</td>\n",
       "      <td>2532.000000</td>\n",
       "      <td>0.000000e+00</td>\n",
       "      <td>0.000000e+00</td>\n",
       "      <td>4.794000e+04</td>\n",
       "      <td>8316.000000</td>\n",
       "      <td>1.854000e+05</td>\n",
       "      <td>3.059200e+04</td>\n",
       "      <td>0.000000e+00</td>\n",
       "      <td>0.000000e+00</td>\n",
       "      <td>0.000000</td>\n",
       "      <td>0.000000</td>\n",
       "      <td>6.221100e+05</td>\n",
       "      <td>754.400000</td>\n",
       "      <td>832.000000</td>\n",
       "      <td>2.607040e+05</td>\n",
       "      <td>3.469400e+05</td>\n",
       "      <td>2.337960e+05</td>\n",
       "      <td>1.120860e+05</td>\n",
       "      <td>2.215180e+05</td>\n",
       "      <td>1.899880e+05</td>\n",
       "      <td>9.243200e+04</td>\n",
       "      <td>4.109800e+04</td>\n",
       "      <td>3.812000e+03</td>\n",
       "      <td>0.000000e+00</td>\n",
       "      <td>0.000000</td>\n",
       "      <td>0.000000</td>\n",
       "    </tr>\n",
       "    <tr>\n",
       "      <th>75%</th>\n",
       "      <td>0.000000</td>\n",
       "      <td>4.866800e+04</td>\n",
       "      <td>0.000000</td>\n",
       "      <td>9.640000e+02</td>\n",
       "      <td>4.300000e+02</td>\n",
       "      <td>0.000000</td>\n",
       "      <td>0.000000</td>\n",
       "      <td>0.000000e+00</td>\n",
       "      <td>0.000000e+00</td>\n",
       "      <td>0.000000e+00</td>\n",
       "      <td>0.000000e+00</td>\n",
       "      <td>4.952200e+04</td>\n",
       "      <td>9.139640e+05</td>\n",
       "      <td>1.886608e+06</td>\n",
       "      <td>5.888200e+05</td>\n",
       "      <td>2.669000e+04</td>\n",
       "      <td>3.640000e+02</td>\n",
       "      <td>1.601366e+06</td>\n",
       "      <td>0.000000e+00</td>\n",
       "      <td>0.000000e+00</td>\n",
       "      <td>0.000000e+00</td>\n",
       "      <td>1.204000e+03</td>\n",
       "      <td>2.364000e+03</td>\n",
       "      <td>3.128416e+06</td>\n",
       "      <td>2.675796e+06</td>\n",
       "      <td>7.246605e+05</td>\n",
       "      <td>3.769000e+05</td>\n",
       "      <td>0.000000</td>\n",
       "      <td>0.000000e+00</td>\n",
       "      <td>0.000000e+00</td>\n",
       "      <td>0.000000e+00</td>\n",
       "      <td>646.000000</td>\n",
       "      <td>263.000000</td>\n",
       "      <td>0.000000e+00</td>\n",
       "      <td>0.000000e+00</td>\n",
       "      <td>0.000000e+00</td>\n",
       "      <td>0.000000e+00</td>\n",
       "      <td>0.000000e+00</td>\n",
       "      <td>4.013200e+04</td>\n",
       "      <td>1.270244e+06</td>\n",
       "      <td>...</td>\n",
       "      <td>18.000000</td>\n",
       "      <td>2.644938e+06</td>\n",
       "      <td>2678.000000</td>\n",
       "      <td>296.000000</td>\n",
       "      <td>0.000000e+00</td>\n",
       "      <td>0.000000e+00</td>\n",
       "      <td>0.000000e+00</td>\n",
       "      <td>0.000000e+00</td>\n",
       "      <td>0.000000</td>\n",
       "      <td>0.000000e+00</td>\n",
       "      <td>0.000000e+00</td>\n",
       "      <td>0.000000e+00</td>\n",
       "      <td>2.734000e+04</td>\n",
       "      <td>3.767200e+04</td>\n",
       "      <td>8319.500000</td>\n",
       "      <td>0.000000e+00</td>\n",
       "      <td>0.000000e+00</td>\n",
       "      <td>9.920200e+04</td>\n",
       "      <td>17630.000000</td>\n",
       "      <td>3.472540e+06</td>\n",
       "      <td>5.346555e+05</td>\n",
       "      <td>8.764000e+03</td>\n",
       "      <td>3.600000e+01</td>\n",
       "      <td>0.000000</td>\n",
       "      <td>0.000000</td>\n",
       "      <td>4.000270e+06</td>\n",
       "      <td>1379.380000</td>\n",
       "      <td>1504.000000</td>\n",
       "      <td>5.730600e+05</td>\n",
       "      <td>6.673900e+05</td>\n",
       "      <td>4.383960e+05</td>\n",
       "      <td>2.182320e+05</td>\n",
       "      <td>4.666140e+05</td>\n",
       "      <td>4.032220e+05</td>\n",
       "      <td>2.750940e+05</td>\n",
       "      <td>1.678140e+05</td>\n",
       "      <td>1.397240e+05</td>\n",
       "      <td>2.028000e+03</td>\n",
       "      <td>0.000000</td>\n",
       "      <td>0.000000</td>\n",
       "    </tr>\n",
       "    <tr>\n",
       "      <th>max</th>\n",
       "      <td>1.000000</td>\n",
       "      <td>2.746564e+06</td>\n",
       "      <td>204.000000</td>\n",
       "      <td>2.130707e+09</td>\n",
       "      <td>8.584298e+09</td>\n",
       "      <td>21050.000000</td>\n",
       "      <td>20070.000000</td>\n",
       "      <td>3.376892e+06</td>\n",
       "      <td>4.109372e+06</td>\n",
       "      <td>1.055286e+07</td>\n",
       "      <td>6.340207e+07</td>\n",
       "      <td>2.288306e+08</td>\n",
       "      <td>1.791880e+08</td>\n",
       "      <td>9.402067e+07</td>\n",
       "      <td>6.334675e+07</td>\n",
       "      <td>1.770252e+07</td>\n",
       "      <td>2.519851e+07</td>\n",
       "      <td>7.424732e+07</td>\n",
       "      <td>1.651285e+07</td>\n",
       "      <td>5.629340e+06</td>\n",
       "      <td>1.044492e+07</td>\n",
       "      <td>3.476258e+07</td>\n",
       "      <td>5.590351e+07</td>\n",
       "      <td>1.408618e+08</td>\n",
       "      <td>1.222018e+08</td>\n",
       "      <td>7.793494e+07</td>\n",
       "      <td>2.556265e+07</td>\n",
       "      <td>350.000000</td>\n",
       "      <td>1.655240e+06</td>\n",
       "      <td>1.040050e+07</td>\n",
       "      <td>2.626676e+06</td>\n",
       "      <td>794458.000000</td>\n",
       "      <td>116652.000000</td>\n",
       "      <td>5.055389e+07</td>\n",
       "      <td>8.052538e+07</td>\n",
       "      <td>2.847484e+07</td>\n",
       "      <td>1.394517e+07</td>\n",
       "      <td>4.002870e+07</td>\n",
       "      <td>1.249489e+08</td>\n",
       "      <td>1.276803e+08</td>\n",
       "      <td>...</td>\n",
       "      <td>9636.000000</td>\n",
       "      <td>1.207595e+08</td>\n",
       "      <td>445142.000000</td>\n",
       "      <td>176176.000000</td>\n",
       "      <td>2.161391e+07</td>\n",
       "      <td>2.706429e+07</td>\n",
       "      <td>1.247009e+08</td>\n",
       "      <td>2.298742e+07</td>\n",
       "      <td>726750.000000</td>\n",
       "      <td>5.483574e+06</td>\n",
       "      <td>1.038581e+08</td>\n",
       "      <td>2.369792e+07</td>\n",
       "      <td>2.924584e+06</td>\n",
       "      <td>1.874542e+06</td>\n",
       "      <td>348118.000000</td>\n",
       "      <td>6.351873e+09</td>\n",
       "      <td>5.013766e+07</td>\n",
       "      <td>4.970962e+06</td>\n",
       "      <td>656432.000000</td>\n",
       "      <td>4.602076e+08</td>\n",
       "      <td>1.270345e+08</td>\n",
       "      <td>1.142884e+08</td>\n",
       "      <td>3.793022e+06</td>\n",
       "      <td>1414.000000</td>\n",
       "      <td>8506.000000</td>\n",
       "      <td>1.322457e+09</td>\n",
       "      <td>106020.220000</td>\n",
       "      <td>82806.000000</td>\n",
       "      <td>7.498445e+07</td>\n",
       "      <td>9.822438e+07</td>\n",
       "      <td>7.793393e+07</td>\n",
       "      <td>3.775839e+07</td>\n",
       "      <td>9.715238e+07</td>\n",
       "      <td>5.743524e+07</td>\n",
       "      <td>3.160781e+07</td>\n",
       "      <td>1.195801e+08</td>\n",
       "      <td>1.926740e+07</td>\n",
       "      <td>3.810078e+06</td>\n",
       "      <td>482.000000</td>\n",
       "      <td>1146.000000</td>\n",
       "    </tr>\n",
       "  </tbody>\n",
       "</table>\n",
       "<p>8 rows × 171 columns</p>\n",
       "</div>"
      ],
      "text/plain": [
       "              class        aa_000  ...        ef_000        eg_000\n",
       "count  60000.000000  6.000000e+04  ...  57276.000000  57277.000000\n",
       "mean       0.016667  5.933650e+04  ...      0.090579      0.212756\n",
       "std        0.128020  1.454301e+05  ...      4.368855      8.830641\n",
       "min        0.000000  0.000000e+00  ...      0.000000      0.000000\n",
       "25%        0.000000  8.340000e+02  ...      0.000000      0.000000\n",
       "50%        0.000000  3.077600e+04  ...      0.000000      0.000000\n",
       "75%        0.000000  4.866800e+04  ...      0.000000      0.000000\n",
       "max        1.000000  2.746564e+06  ...    482.000000   1146.000000\n",
       "\n",
       "[8 rows x 171 columns]"
      ]
     },
     "execution_count": 6,
     "metadata": {
      "tags": []
     },
     "output_type": "execute_result"
    }
   ],
   "source": [
    "train.describe()"
   ]
  },
  {
   "cell_type": "code",
   "execution_count": 7,
   "metadata": {
    "ExecuteTime": {
     "end_time": "2020-10-05T19:05:19.380843Z",
     "start_time": "2020-10-05T19:05:19.276432Z"
    },
    "colab": {
     "base_uri": "https://localhost:8080/"
    },
    "executionInfo": {
     "elapsed": 29762,
     "status": "ok",
     "timestamp": 1602096479992,
     "user": {
      "displayName": "Stephan Hermanides",
      "photoUrl": "https://lh3.googleusercontent.com/a-/AOh14Ghv4g_ZoKrg5A0hgb2DCrjAtaY1TmQsQrMK0lO9Bw=s64",
      "userId": "10917467489758916868"
     },
     "user_tz": 300
    },
    "id": "AqsG4SYQKaez",
    "outputId": "221f44c6-f3cc-4fc9-99f0-6625798dfa5e"
   },
   "outputs": [
    {
     "name": "stdout",
     "output_type": "stream",
     "text": [
      "<class 'pandas.core.frame.DataFrame'>\n",
      "RangeIndex: 60000 entries, 0 to 59999\n",
      "Data columns (total 171 columns):\n",
      " #   Column  Non-Null Count  Dtype  \n",
      "---  ------  --------------  -----  \n",
      " 0   class   60000 non-null  int64  \n",
      " 1   aa_000  60000 non-null  int64  \n",
      " 2   ab_000  13671 non-null  float64\n",
      " 3   ac_000  56665 non-null  float64\n",
      " 4   ad_000  45139 non-null  float64\n",
      " 5   ae_000  57500 non-null  float64\n",
      " 6   af_000  57500 non-null  float64\n",
      " 7   ag_000  59329 non-null  float64\n",
      " 8   ag_001  59329 non-null  float64\n",
      " 9   ag_002  59329 non-null  float64\n",
      " 10  ag_003  59329 non-null  float64\n",
      " 11  ag_004  59329 non-null  float64\n",
      " 12  ag_005  59329 non-null  float64\n",
      " 13  ag_006  59329 non-null  float64\n",
      " 14  ag_007  59329 non-null  float64\n",
      " 15  ag_008  59329 non-null  float64\n",
      " 16  ag_009  59329 non-null  float64\n",
      " 17  ah_000  59355 non-null  float64\n",
      " 18  ai_000  59371 non-null  float64\n",
      " 19  aj_000  59371 non-null  float64\n",
      " 20  ak_000  55600 non-null  float64\n",
      " 21  al_000  59358 non-null  float64\n",
      " 22  am_0    59371 non-null  float64\n",
      " 23  an_000  59358 non-null  float64\n",
      " 24  ao_000  59411 non-null  float64\n",
      " 25  ap_000  59358 non-null  float64\n",
      " 26  aq_000  59411 non-null  float64\n",
      " 27  ar_000  57277 non-null  float64\n",
      " 28  as_000  59371 non-null  float64\n",
      " 29  at_000  59371 non-null  float64\n",
      " 30  au_000  59371 non-null  float64\n",
      " 31  av_000  57500 non-null  float64\n",
      " 32  ax_000  57499 non-null  float64\n",
      " 33  ay_000  59329 non-null  float64\n",
      " 34  ay_001  59329 non-null  float64\n",
      " 35  ay_002  59329 non-null  float64\n",
      " 36  ay_003  59329 non-null  float64\n",
      " 37  ay_004  59329 non-null  float64\n",
      " 38  ay_005  59329 non-null  float64\n",
      " 39  ay_006  59329 non-null  float64\n",
      " 40  ay_007  59329 non-null  float64\n",
      " 41  ay_008  59329 non-null  float64\n",
      " 42  ay_009  59329 non-null  float64\n",
      " 43  az_000  59329 non-null  float64\n",
      " 44  az_001  59329 non-null  float64\n",
      " 45  az_002  59329 non-null  float64\n",
      " 46  az_003  59329 non-null  float64\n",
      " 47  az_004  59329 non-null  float64\n",
      " 48  az_005  59329 non-null  float64\n",
      " 49  az_006  59329 non-null  float64\n",
      " 50  az_007  59329 non-null  float64\n",
      " 51  az_008  59329 non-null  float64\n",
      " 52  az_009  59329 non-null  float64\n",
      " 53  ba_000  59312 non-null  float64\n",
      " 54  ba_001  59312 non-null  float64\n",
      " 55  ba_002  59312 non-null  float64\n",
      " 56  ba_003  59312 non-null  float64\n",
      " 57  ba_004  59312 non-null  float64\n",
      " 58  ba_005  59312 non-null  float64\n",
      " 59  ba_006  59312 non-null  float64\n",
      " 60  ba_007  59312 non-null  float64\n",
      " 61  ba_008  59312 non-null  float64\n",
      " 62  ba_009  59312 non-null  float64\n",
      " 63  bb_000  59355 non-null  float64\n",
      " 64  bc_000  57275 non-null  float64\n",
      " 65  bd_000  57273 non-null  float64\n",
      " 66  be_000  57497 non-null  float64\n",
      " 67  bf_000  57500 non-null  float64\n",
      " 68  bg_000  59358 non-null  float64\n",
      " 69  bh_000  59358 non-null  float64\n",
      " 70  bi_000  59411 non-null  float64\n",
      " 71  bj_000  59411 non-null  float64\n",
      " 72  bk_000  36966 non-null  float64\n",
      " 73  bl_000  32723 non-null  float64\n",
      " 74  bm_000  20451 non-null  float64\n",
      " 75  bn_000  15991 non-null  float64\n",
      " 76  bo_000  13667 non-null  float64\n",
      " 77  bp_000  12260 non-null  float64\n",
      " 78  bq_000  11278 non-null  float64\n",
      " 79  br_000  10736 non-null  float64\n",
      " 80  bs_000  59274 non-null  float64\n",
      " 81  bt_000  59833 non-null  float64\n",
      " 82  bu_000  59309 non-null  float64\n",
      " 83  bv_000  59309 non-null  float64\n",
      " 84  bx_000  56743 non-null  float64\n",
      " 85  by_000  59527 non-null  float64\n",
      " 86  bz_000  57277 non-null  float64\n",
      " 87  ca_000  55644 non-null  float64\n",
      " 88  cb_000  59274 non-null  float64\n",
      " 89  cc_000  56745 non-null  float64\n",
      " 90  cd_000  59324 non-null  float64\n",
      " 91  ce_000  57498 non-null  float64\n",
      " 92  cf_000  45139 non-null  float64\n",
      " 93  cg_000  45139 non-null  float64\n",
      " 94  ch_000  45139 non-null  float64\n",
      " 95  ci_000  59662 non-null  float64\n",
      " 96  cj_000  59662 non-null  float64\n",
      " 97  ck_000  59662 non-null  float64\n",
      " 98  cl_000  50447 non-null  float64\n",
      " 99  cm_000  50123 non-null  float64\n",
      " 100 cn_000  59313 non-null  float64\n",
      " 101 cn_001  59313 non-null  float64\n",
      " 102 cn_002  59313 non-null  float64\n",
      " 103 cn_003  59313 non-null  float64\n",
      " 104 cn_004  59313 non-null  float64\n",
      " 105 cn_005  59313 non-null  float64\n",
      " 106 cn_006  59313 non-null  float64\n",
      " 107 cn_007  59313 non-null  float64\n",
      " 108 cn_008  59313 non-null  float64\n",
      " 109 cn_009  59313 non-null  float64\n",
      " 110 co_000  45139 non-null  float64\n",
      " 111 cp_000  57276 non-null  float64\n",
      " 112 cq_000  59309 non-null  float64\n",
      " 113 cr_000  13671 non-null  float64\n",
      " 114 cs_000  59331 non-null  float64\n",
      " 115 cs_001  59331 non-null  float64\n",
      " 116 cs_002  59331 non-null  float64\n",
      " 117 cs_003  59331 non-null  float64\n",
      " 118 cs_004  59331 non-null  float64\n",
      " 119 cs_005  59331 non-null  float64\n",
      " 120 cs_006  59331 non-null  float64\n",
      " 121 cs_007  59331 non-null  float64\n",
      " 122 cs_008  59331 non-null  float64\n",
      " 123 cs_009  59331 non-null  float64\n",
      " 124 ct_000  46192 non-null  float64\n",
      " 125 cu_000  46192 non-null  float64\n",
      " 126 cv_000  46192 non-null  float64\n",
      " 127 cx_000  46192 non-null  float64\n",
      " 128 cy_000  46192 non-null  float64\n",
      " 129 cz_000  46192 non-null  float64\n",
      " 130 da_000  46192 non-null  float64\n",
      " 131 db_000  46192 non-null  float64\n",
      " 132 dc_000  46192 non-null  float64\n",
      " 133 dd_000  57497 non-null  float64\n",
      " 134 de_000  57276 non-null  float64\n",
      " 135 df_000  55992 non-null  float64\n",
      " 136 dg_000  55992 non-null  float64\n",
      " 137 dh_000  55992 non-null  float64\n",
      " 138 di_000  55994 non-null  float64\n",
      " 139 dj_000  55993 non-null  float64\n",
      " 140 dk_000  55993 non-null  float64\n",
      " 141 dl_000  55992 non-null  float64\n",
      " 142 dm_000  55991 non-null  float64\n",
      " 143 dn_000  59309 non-null  float64\n",
      " 144 do_000  57276 non-null  float64\n",
      " 145 dp_000  57274 non-null  float64\n",
      " 146 dq_000  57274 non-null  float64\n",
      " 147 dr_000  57274 non-null  float64\n",
      " 148 ds_000  57273 non-null  float64\n",
      " 149 dt_000  57273 non-null  float64\n",
      " 150 du_000  57274 non-null  float64\n",
      " 151 dv_000  57274 non-null  float64\n",
      " 152 dx_000  57277 non-null  float64\n",
      " 153 dy_000  57276 non-null  float64\n",
      " 154 dz_000  57277 non-null  float64\n",
      " 155 ea_000  57277 non-null  float64\n",
      " 156 eb_000  55993 non-null  float64\n",
      " 157 ec_00   49761 non-null  float64\n",
      " 158 ed_000  50447 non-null  float64\n",
      " 159 ee_000  59329 non-null  float64\n",
      " 160 ee_001  59329 non-null  float64\n",
      " 161 ee_002  59329 non-null  float64\n",
      " 162 ee_003  59329 non-null  float64\n",
      " 163 ee_004  59329 non-null  float64\n",
      " 164 ee_005  59329 non-null  float64\n",
      " 165 ee_006  59329 non-null  float64\n",
      " 166 ee_007  59329 non-null  float64\n",
      " 167 ee_008  59329 non-null  float64\n",
      " 168 ee_009  59329 non-null  float64\n",
      " 169 ef_000  57276 non-null  float64\n",
      " 170 eg_000  57277 non-null  float64\n",
      "dtypes: float64(169), int64(2)\n",
      "memory usage: 78.3 MB\n"
     ]
    }
   ],
   "source": [
    "train.info(max_cols=200)"
   ]
  },
  {
   "cell_type": "markdown",
   "metadata": {
    "id": "f2vILiecKafD"
   },
   "source": [
    "### Missing values"
   ]
  },
  {
   "cell_type": "markdown",
   "metadata": {
    "id": "5HV0lY4sKafF"
   },
   "source": [
    "High number of null values in the data. Getting an idea percentage-wise per column:"
   ]
  },
  {
   "cell_type": "code",
   "execution_count": 8,
   "metadata": {
    "ExecuteTime": {
     "end_time": "2020-10-05T19:05:19.562207Z",
     "start_time": "2020-10-05T19:05:19.383729Z"
    },
    "colab": {
     "base_uri": "https://localhost:8080/",
     "height": 266
    },
    "executionInfo": {
     "elapsed": 30265,
     "status": "ok",
     "timestamp": 1602096480506,
     "user": {
      "displayName": "Stephan Hermanides",
      "photoUrl": "https://lh3.googleusercontent.com/a-/AOh14Ghv4g_ZoKrg5A0hgb2DCrjAtaY1TmQsQrMK0lO9Bw=s64",
      "userId": "10917467489758916868"
     },
     "user_tz": 300
    },
    "id": "1d2vkMujKafH",
    "outputId": "1254eade-ccd0-4959-ec3d-10d0efc1a6e6"
   },
   "outputs": [
    {
     "data": {
      "image/png": "[encoded data removed]",
      "text/plain": [
       "<Figure size 432x288 with 1 Axes>"
      ]
     },
     "metadata": {
      "needs_background": "light",
      "tags": []
     },
     "output_type": "display_data"
    }
   ],
   "source": [
    "train.isna().mean().plot();"
   ]
  },
  {
   "cell_type": "markdown",
   "metadata": {
    "id": "e0bJaInwKafK"
   },
   "source": [
    "Based on this plot I decided to drop columns that have >20% missing values. Usually this decision would be based on some domain knowledge, but the columns here are anonymized."
   ]
  },
  {
   "cell_type": "code",
   "execution_count": 9,
   "metadata": {
    "ExecuteTime": {
     "end_time": "2020-10-05T19:05:19.611345Z",
     "start_time": "2020-10-05T19:05:19.565246Z"
    },
    "executionInfo": {
     "elapsed": 30263,
     "status": "ok",
     "timestamp": 1602096480507,
     "user": {
      "displayName": "Stephan Hermanides",
      "photoUrl": "https://lh3.googleusercontent.com/a-/AOh14Ghv4g_ZoKrg5A0hgb2DCrjAtaY1TmQsQrMK0lO9Bw=s64",
      "userId": "10917467489758916868"
     },
     "user_tz": 300
    },
    "id": "EwXC02lYKafL"
   },
   "outputs": [],
   "source": [
    "dropped_columns = train.loc[:, train.isna().mean() > 0.2].columns"
   ]
  },
  {
   "cell_type": "code",
   "execution_count": 10,
   "metadata": {
    "ExecuteTime": {
     "end_time": "2020-10-05T19:05:19.697098Z",
     "start_time": "2020-10-05T19:05:19.616645Z"
    },
    "executionInfo": {
     "elapsed": 30464,
     "status": "ok",
     "timestamp": 1602096480711,
     "user": {
      "displayName": "Stephan Hermanides",
      "photoUrl": "https://lh3.googleusercontent.com/a-/AOh14Ghv4g_ZoKrg5A0hgb2DCrjAtaY1TmQsQrMK0lO9Bw=s64",
      "userId": "10917467489758916868"
     },
     "user_tz": 300
    },
    "id": "NLWEBCQWKafP"
   },
   "outputs": [],
   "source": [
    "train.drop(columns=dropped_columns, inplace= True)\n",
    "test.drop(columns=dropped_columns, inplace= True)"
   ]
  },
  {
   "cell_type": "code",
   "execution_count": 11,
   "metadata": {
    "ExecuteTime": {
     "end_time": "2020-10-05T19:05:19.707372Z",
     "start_time": "2020-10-05T19:05:19.700802Z"
    },
    "colab": {
     "base_uri": "https://localhost:8080/"
    },
    "executionInfo": {
     "elapsed": 30454,
     "status": "ok",
     "timestamp": 1602096480713,
     "user": {
      "displayName": "Stephan Hermanides",
      "photoUrl": "https://lh3.googleusercontent.com/a-/AOh14Ghv4g_ZoKrg5A0hgb2DCrjAtaY1TmQsQrMK0lO9Bw=s64",
      "userId": "10917467489758916868"
     },
     "user_tz": 300
    },
    "id": "v-t2amKgKafU",
    "outputId": "26e167d8-afdb-431b-bf23-85e32504a227"
   },
   "outputs": [
    {
     "data": {
      "text/plain": [
       "(60000, 147)"
      ]
     },
     "execution_count": 11,
     "metadata": {
      "tags": []
     },
     "output_type": "execute_result"
    }
   ],
   "source": [
    "train.shape"
   ]
  },
  {
   "cell_type": "markdown",
   "metadata": {
    "id": "OgHD5AoSKafb"
   },
   "source": [
    "### Dimensionality"
   ]
  },
  {
   "cell_type": "markdown",
   "metadata": {
    "id": "japbPh-mKafe"
   },
   "source": [
    "High-dimensional data can negatively impact the performance of ML algorithms and increases the volume of data needed to make accurate predictions exponentially. \n",
    "\n",
    "Having this many features also makes me worry that there may be some multi-collinearity. This can cause problems (overfitting, affects statistical significance) in linear models especially and can be an indication that dimensionality reduction may be warranted. I will check for this first."
   ]
  },
  {
   "cell_type": "code",
   "execution_count": 12,
   "metadata": {
    "ExecuteTime": {
     "end_time": "2020-10-05T19:05:23.037055Z",
     "start_time": "2020-10-05T19:05:19.712252Z"
    },
    "colab": {
     "base_uri": "https://localhost:8080/",
     "height": 513
    },
    "executionInfo": {
     "elapsed": 34884,
     "status": "ok",
     "timestamp": 1602096485154,
     "user": {
      "displayName": "Stephan Hermanides",
      "photoUrl": "https://lh3.googleusercontent.com/a-/AOh14Ghv4g_ZoKrg5A0hgb2DCrjAtaY1TmQsQrMK0lO9Bw=s64",
      "userId": "10917467489758916868"
     },
     "user_tz": 300
    },
    "id": "INZOyV4kKaff",
    "outputId": "d2c6b8b5-60cd-462e-9afc-930accc82f21"
   },
   "outputs": [
    {
     "data": {
      "image/png": "[encoded data removed]",
      "text/plain": [
       "<Figure size 1080x576 with 2 Axes>"
      ]
     },
     "metadata": {
      "needs_background": "light",
      "tags": []
     },
     "output_type": "display_data"
    }
   ],
   "source": [
    "plt.figure(figsize=(15,8))\n",
    "sns.heatmap(train.corr(), cmap=\"seismic\", annot=False, vmin=-1, vmax=1);"
   ]
  },
  {
   "cell_type": "markdown",
   "metadata": {
    "id": "VflPkYmDKafn"
   },
   "source": [
    "The heatmap shows very strong correlation between many of our features. This data can likely be represented in less dimensions than it currently has."
   ]
  },
  {
   "cell_type": "code",
   "execution_count": 13,
   "metadata": {
    "ExecuteTime": {
     "end_time": "2020-10-05T21:45:31.875530Z",
     "start_time": "2020-10-05T21:45:31.800016Z"
    },
    "executionInfo": {
     "elapsed": 319,
     "status": "ok",
     "timestamp": 1602096487934,
     "user": {
      "displayName": "Stephan Hermanides",
      "photoUrl": "https://lh3.googleusercontent.com/a-/AOh14Ghv4g_ZoKrg5A0hgb2DCrjAtaY1TmQsQrMK0lO9Bw=s64",
      "userId": "10917467489758916868"
     },
     "user_tz": 300
    },
    "id": "no4gU_WJKafn"
   },
   "outputs": [],
   "source": [
    "X = train.drop(columns='class')\n",
    "y = train['class']\n",
    "X_test = test.drop(columns='class')\n",
    "y_test = test['class']"
   ]
  },
  {
   "cell_type": "code",
   "execution_count": null,
   "metadata": {
    "ExecuteTime": {
     "end_time": "2020-10-05T19:05:26.112286Z",
     "start_time": "2020-10-05T19:05:23.064738Z"
    },
    "id": "gwFXrNacKafq"
   },
   "outputs": [],
   "source": [
    "imp = SimpleImputer(strategy='median')\n",
    "X_imputed = imp.fit_transform(X)\n",
    "scale = StandardScaler()\n",
    "X_scaled = scale.fit_transform(X_imputed)\n",
    "pca = PCA(n_components = 0.95)\n",
    "pca.fit(X_scaled)\n",
    "reduced = pca.transform(X_scaled)"
   ]
  },
  {
   "cell_type": "code",
   "execution_count": null,
   "metadata": {
    "ExecuteTime": {
     "end_time": "2020-10-05T19:05:26.124500Z",
     "start_time": "2020-10-05T19:05:26.115149Z"
    },
    "colab": {
     "base_uri": "https://localhost:8080/",
     "height": 34
    },
    "executionInfo": {
     "elapsed": 4419,
     "status": "ok",
     "timestamp": 1601952996051,
     "user": {
      "displayName": "Stephan Hermanides",
      "photoUrl": "https://lh3.googleusercontent.com/a-/AOh14Ghv4g_ZoKrg5A0hgb2DCrjAtaY1TmQsQrMK0lO9Bw=s64",
      "userId": "10917467489758916868"
     },
     "user_tz": 300
    },
    "id": "uPSUVmJFKaf6",
    "outputId": "e632b68b-9249-4139-9043-7cebaf49c812"
   },
   "outputs": [
    {
     "data": {
      "text/plain": [
       "71"
      ]
     },
     "execution_count": 49,
     "metadata": {
      "tags": []
     },
     "output_type": "execute_result"
    }
   ],
   "source": [
    "pca.n_components_"
   ]
  },
  {
   "cell_type": "code",
   "execution_count": null,
   "metadata": {
    "ExecuteTime": {
     "end_time": "2020-10-05T19:05:26.348877Z",
     "start_time": "2020-10-05T19:05:26.128002Z"
    },
    "colab": {
     "base_uri": "https://localhost:8080/",
     "height": 282
    },
    "executionInfo": {
     "elapsed": 4071,
     "status": "ok",
     "timestamp": 1601952996463,
     "user": {
      "displayName": "Stephan Hermanides",
      "photoUrl": "https://lh3.googleusercontent.com/a-/AOh14Ghv4g_ZoKrg5A0hgb2DCrjAtaY1TmQsQrMK0lO9Bw=s64",
      "userId": "10917467489758916868"
     },
     "user_tz": 300
    },
    "id": "IeHznnjiKaf9",
    "outputId": "bd22742d-fffe-4ba1-ce19-493e0dc14de0"
   },
   "outputs": [
    {
     "data": {
      "text/plain": [
       "[<matplotlib.lines.Line2D at 0x7fb11633b780>]"
      ]
     },
     "execution_count": 50,
     "metadata": {
      "tags": []
     },
     "output_type": "execute_result"
    },
    {
     "data": {
      "image/png": "[encoded data removed]",
      "text/plain": [
       "<Figure size 432x288 with 1 Axes>"
      ]
     },
     "metadata": {
      "needs_background": "light",
      "tags": []
     },
     "output_type": "display_data"
    }
   ],
   "source": [
    "plt.plot(range(pca.n_components_), pca.explained_variance_ratio_)"
   ]
  },
  {
   "cell_type": "code",
   "execution_count": null,
   "metadata": {
    "ExecuteTime": {
     "end_time": "2020-10-05T19:05:34.834164Z",
     "start_time": "2020-10-05T19:05:26.351658Z"
    },
    "colab": {
     "base_uri": "https://localhost:8080/",
     "height": 487
    },
    "executionInfo": {
     "elapsed": 4297,
     "status": "ok",
     "timestamp": 1601952997796,
     "user": {
      "displayName": "Stephan Hermanides",
      "photoUrl": "https://lh3.googleusercontent.com/a-/AOh14Ghv4g_ZoKrg5A0hgb2DCrjAtaY1TmQsQrMK0lO9Bw=s64",
      "userId": "10917467489758916868"
     },
     "user_tz": 300
    },
    "id": "n0nordFGKagA",
    "outputId": "97e5225a-5f1a-470b-d219-1695587d60bb"
   },
   "outputs": [
    {
     "data": {
      "image/png": "[encoded data removed]",
      "text/plain": [
       "<Figure size 1080x576 with 2 Axes>"
      ]
     },
     "metadata": {
      "needs_background": "light",
      "tags": []
     },
     "output_type": "display_data"
    }
   ],
   "source": [
    "plt.figure(figsize=(15,8))\n",
    "sns.heatmap(pd.DataFrame(reduced).corr(), cmap=\"seismic\", annot=False, vmin=-1, vmax=1);"
   ]
  },
  {
   "cell_type": "markdown",
   "metadata": {
    "id": "Y9blUT2lKagI"
   },
   "source": [
    "No more collinearity should help linear models perform better and less features make model execution more efficient."
   ]
  },
  {
   "cell_type": "markdown",
   "metadata": {
    "id": "zN49sZ5nKagI"
   },
   "source": [
    "### PCA impact baseline\n",
    "Creating a baseline score to test impact of dimensionality reduction"
   ]
  },
  {
   "cell_type": "code",
   "execution_count": null,
   "metadata": {
    "ExecuteTime": {
     "end_time": "2020-10-05T21:42:27.880819Z",
     "start_time": "2020-10-05T21:42:01.498567Z"
    },
    "colab": {
     "base_uri": "https://localhost:8080/",
     "height": 68
    },
    "executionInfo": {
     "elapsed": 43612,
     "status": "ok",
     "timestamp": 1601942423695,
     "user": {
      "displayName": "Stephan Hermanides",
      "photoUrl": "https://lh3.googleusercontent.com/a-/AOh14Ghv4g_ZoKrg5A0hgb2DCrjAtaY1TmQsQrMK0lO9Bw=s64",
      "userId": "10917467489758916868"
     },
     "user_tz": 300
    },
    "id": "OTXkO2b8KagX",
    "outputId": "ea5f5214-a461-4bfb-d0df-f2a5f93c3008"
   },
   "outputs": [
    {
     "name": "stderr",
     "output_type": "stream",
     "text": [
      "[Parallel(n_jobs=2)]: Using backend LokyBackend with 2 concurrent workers.\n",
      "[Parallel(n_jobs=2)]: Done  10 out of  10 | elapsed:   28.7s finished\n"
     ]
    },
    {
     "data": {
      "text/plain": [
       "0.97"
      ]
     },
     "execution_count": 20,
     "metadata": {
      "tags": []
     },
     "output_type": "execute_result"
    }
   ],
   "source": [
    "baseline = make_pipeline(SimpleImputer(strategy='median'), StandardScaler(), LogisticRegression())\n",
    "round(np.mean(cross_val_score(baseline, X, y, scoring='roc_auc', cv=10, verbose=1, n_jobs=2)),3)"
   ]
  },
  {
   "cell_type": "code",
   "execution_count": null,
   "metadata": {
    "ExecuteTime": {
     "end_time": "2020-10-05T21:42:59.678996Z",
     "start_time": "2020-10-05T21:42:27.889005Z"
    },
    "colab": {
     "base_uri": "https://localhost:8080/",
     "height": 68
    },
    "executionInfo": {
     "elapsed": 77627,
     "status": "ok",
     "timestamp": 1601942457725,
     "user": {
      "displayName": "Stephan Hermanides",
      "photoUrl": "https://lh3.googleusercontent.com/a-/AOh14Ghv4g_ZoKrg5A0hgb2DCrjAtaY1TmQsQrMK0lO9Bw=s64",
      "userId": "10917467489758916868"
     },
     "user_tz": 300
    },
    "id": "C0ecpH3zKagb",
    "outputId": "c03124b7-2d62-40a4-f92d-fb556587157e"
   },
   "outputs": [
    {
     "name": "stderr",
     "output_type": "stream",
     "text": [
      "[Parallel(n_jobs=2)]: Using backend LokyBackend with 2 concurrent workers.\n",
      "[Parallel(n_jobs=2)]: Done  10 out of  10 | elapsed:   33.9s finished\n"
     ]
    },
    {
     "data": {
      "text/plain": [
       "0.965"
      ]
     },
     "execution_count": 21,
     "metadata": {
      "tags": []
     },
     "output_type": "execute_result"
    }
   ],
   "source": [
    "pca_pipeline = make_pipeline(SimpleImputer(strategy='median'), StandardScaler(), PCA(n_components = 0.95), LogisticRegression())\n",
    "round(np.mean(cross_val_score(pca_pipeline, X, y, scoring='roc_auc', cv=10, verbose=1, n_jobs=2)),3)"
   ]
  },
  {
   "cell_type": "markdown",
   "metadata": {
    "id": "moXMe7MtKage"
   },
   "source": [
    "### Class imbalance\n",
    "\n",
    "Checking for class imbalance in the data"
   ]
  },
  {
   "cell_type": "code",
   "execution_count": null,
   "metadata": {
    "ExecuteTime": {
     "end_time": "2020-10-05T19:06:34.247775Z",
     "start_time": "2020-10-05T19:06:34.078896Z"
    },
    "colab": {
     "base_uri": "https://localhost:8080/",
     "height": 279
    },
    "executionInfo": {
     "elapsed": 77611,
     "status": "ok",
     "timestamp": 1601942457727,
     "user": {
      "displayName": "Stephan Hermanides",
      "photoUrl": "https://lh3.googleusercontent.com/a-/AOh14Ghv4g_ZoKrg5A0hgb2DCrjAtaY1TmQsQrMK0lO9Bw=s64",
      "userId": "10917467489758916868"
     },
     "user_tz": 300
    },
    "id": "aRfXEUmwKage",
    "outputId": "a3b504a0-6c0b-45ac-de64-47d131fcffea"
   },
   "outputs": [
    {
     "data": {
      "image/png": "[encoded data removed]",
      "text/plain": [
       "<Figure size 432x288 with 1 Axes>"
      ]
     },
     "metadata": {
      "needs_background": "light",
      "tags": []
     },
     "output_type": "display_data"
    }
   ],
   "source": [
    "sns.countplot(x='class', data=train);"
   ]
  },
  {
   "cell_type": "code",
   "execution_count": null,
   "metadata": {
    "ExecuteTime": {
     "end_time": "2020-10-05T19:06:34.266271Z",
     "start_time": "2020-10-05T19:06:34.250809Z"
    },
    "colab": {
     "base_uri": "https://localhost:8080/",
     "height": 68
    },
    "executionInfo": {
     "elapsed": 77766,
     "status": "ok",
     "timestamp": 1601942457893,
     "user": {
      "displayName": "Stephan Hermanides",
      "photoUrl": "https://lh3.googleusercontent.com/a-/AOh14Ghv4g_ZoKrg5A0hgb2DCrjAtaY1TmQsQrMK0lO9Bw=s64",
      "userId": "10917467489758916868"
     },
     "user_tz": 300
    },
    "id": "6r841T_7Kagk",
    "outputId": "f5f46ec5-b4e5-4c0e-bb71-22d34378ecc3"
   },
   "outputs": [
    {
     "data": {
      "text/plain": [
       "0    59000\n",
       "1     1000\n",
       "Name: class, dtype: int64"
      ]
     },
     "execution_count": 23,
     "metadata": {
      "tags": []
     },
     "output_type": "execute_result"
    }
   ],
   "source": [
    "train['class'].value_counts()"
   ]
  },
  {
   "cell_type": "code",
   "execution_count": null,
   "metadata": {
    "ExecuteTime": {
     "end_time": "2020-10-05T19:06:34.294132Z",
     "start_time": "2020-10-05T19:06:34.271320Z"
    },
    "colab": {
     "base_uri": "https://localhost:8080/",
     "height": 34
    },
    "executionInfo": {
     "elapsed": 77746,
     "status": "ok",
     "timestamp": 1601942457894,
     "user": {
      "displayName": "Stephan Hermanides",
      "photoUrl": "https://lh3.googleusercontent.com/a-/AOh14Ghv4g_ZoKrg5A0hgb2DCrjAtaY1TmQsQrMK0lO9Bw=s64",
      "userId": "10917467489758916868"
     },
     "user_tz": 300
    },
    "id": "lFEQ8U7fKago",
    "outputId": "4c22672d-858f-4910-b4cb-8f0efb20c4cb"
   },
   "outputs": [
    {
     "data": {
      "text/plain": [
       "0.01694915254237288"
      ]
     },
     "execution_count": 24,
     "metadata": {
      "tags": []
     },
     "output_type": "execute_result"
    }
   ],
   "source": [
    "train['class'].value_counts()[1]/train['class'].value_counts()[0]"
   ]
  },
  {
   "cell_type": "markdown",
   "metadata": {
    "id": "i09U_9pBKagr"
   },
   "source": [
    "The positive class (failure is related to APS) makes up less than 2% of the data set. It will be worth testing oversampling to try and improve model performance."
   ]
  },
  {
   "cell_type": "markdown",
   "metadata": {
    "id": "ufxJNwPcKags"
   },
   "source": [
    "## Model selection"
   ]
  },
  {
   "cell_type": "markdown",
   "metadata": {
    "id": "on3hnmb9Kagt"
   },
   "source": [
    "From the previous sections it is clear that this is a high-dimensional and very imbalanced dataset. I will test multiple classification algorithms as well as PCA and oversampling to find the preprocessing steps and model(s) that perform well on this data. Then I will select the best performing ones and tune them for optimal performance in the next section."
   ]
  },
  {
   "cell_type": "code",
   "execution_count": null,
   "metadata": {
    "ExecuteTime": {
     "end_time": "2020-10-05T23:36:16.235138Z",
     "start_time": "2020-10-05T23:36:16.229683Z"
    },
    "id": "0QshPEE7Kagt"
   },
   "outputs": [],
   "source": [
    "estimators = {'Logistic Regression': LogisticRegression(), 'Random Forest': RandomForestClassifier(), 'Naive Bayes': GaussianNB(), 'XGBoost': XGBClassifier()}"
   ]
  },
  {
   "cell_type": "code",
   "execution_count": null,
   "metadata": {
    "ExecuteTime": {
     "end_time": "2020-10-05T23:36:16.902048Z",
     "start_time": "2020-10-05T23:36:16.887991Z"
    },
    "id": "2nUBkFWGKag1"
   },
   "outputs": [],
   "source": [
    "def get_score(X, y, name, estimator):\n",
    "    '''\n",
    "    Get cross validation scores for multiple pipelines with single estimator\n",
    "    Inputs:\n",
    "    X, y: features, target\n",
    "    name: string, name of estimator\n",
    "    estimator: estimator object to be fed into pipeline\n",
    "    '''\n",
    "    imputed = make_pipeline(SimpleImputer(strategy='median'), StandardScaler(), estimator)\n",
    "    oversampled = make_pipeline(SimpleImputer(strategy='median'),  \n",
    "                                StandardScaler(), SMOTE(sampling_strategy=0.15), estimator)\n",
    "    reduced = make_pipeline(SimpleImputer(strategy='median'), StandardScaler(), \n",
    "                            PCA(n_components = 0.95), estimator)\n",
    "    reduced_oversampled = make_pipeline(SimpleImputer(strategy='median'), StandardScaler(), \n",
    "                                        SMOTE(sampling_strategy=0.15), PCA(n_components = 0.95), estimator)\n",
    "    \n",
    "    pipelines = {'imputed': imputed, 'oversampled': oversampled, 'reduced': reduced, \n",
    "                 'reduced_oversampled': reduced_oversampled}\n",
    "    \n",
    "    for key, pipe in pipelines.items():\n",
    "        score = cross_val_score(pipe, X, y, scoring='roc_auc', cv=10, verbose=0, n_jobs=-1)\n",
    "        print(f'{name} {key} roc_auc: {score.mean():.3f} (+/- {score.std():.3f})')"
   ]
  },
  {
   "cell_type": "code",
   "execution_count": null,
   "metadata": {
    "ExecuteTime": {
     "start_time": "2020-10-05T23:36:17.846Z"
    },
    "colab": {
     "base_uri": "https://localhost:8080/",
     "height": 289
    },
    "executionInfo": {
     "elapsed": 3650067,
     "status": "ok",
     "timestamp": 1601946409879,
     "user": {
      "displayName": "Stephan Hermanides",
      "photoUrl": "https://lh3.googleusercontent.com/a-/AOh14Ghv4g_ZoKrg5A0hgb2DCrjAtaY1TmQsQrMK0lO9Bw=s64",
      "userId": "10917467489758916868"
     },
     "user_tz": 300
    },
    "id": "_5ToeK_oKag9",
    "outputId": "f5b0231e-b885-4635-aaaf-fd82ac2a5b36"
   },
   "outputs": [
    {
     "name": "stdout",
     "output_type": "stream",
     "text": [
      "Logistic Regression imputed roc_auc: 0.970 (+/- 0.014)\n",
      "Logistic Regression oversampled roc_auc: 0.966 (+/- 0.019)\n",
      "Logistic Regression reduced roc_auc: 0.965 (+/- 0.012)\n",
      "Logistic Regression reduced_oversampled roc_auc: 0.971 (+/- 0.015)\n",
      "Random Forest imputed roc_auc: 0.986 (+/- 0.008)\n",
      "Random Forest oversampled roc_auc: 0.990 (+/- 0.006)\n",
      "Random Forest reduced roc_auc: 0.981 (+/- 0.008)\n",
      "Random Forest reduced_oversampled roc_auc: 0.988 (+/- 0.005)\n",
      "Naive Bayes imputed roc_auc: 0.963 (+/- 0.009)\n",
      "Naive Bayes oversampled roc_auc: 0.961 (+/- 0.012)\n",
      "Naive Bayes reduced roc_auc: 0.970 (+/- 0.004)\n",
      "Naive Bayes reduced_oversampled roc_auc: 0.969 (+/- 0.006)\n",
      "XGBoost imputed roc_auc: 0.990 (+/- 0.005)\n",
      "XGBoost oversampled roc_auc: 0.988 (+/- 0.004)\n",
      "XGBoost reduced roc_auc: 0.986 (+/- 0.004)\n",
      "XGBoost reduced_oversampled roc_auc: 0.988 (+/- 0.004)\n"
     ]
    }
   ],
   "source": [
    "for key, estimator in estimators.items():\n",
    "    get_score(X, y, key, estimator)"
   ]
  },
  {
   "cell_type": "markdown",
   "metadata": {
    "id": "aPhjBis_dMes"
   },
   "source": [
    "## Tuning"
   ]
  },
  {
   "cell_type": "markdown",
   "metadata": {
    "id": "-X8p0G1d5mxC"
   },
   "source": [
    "\n",
    "Random Forest and XGBoost outperformed the other models without any tuning. I'll pick those two to to try and tune the hyperparameters some more to improve performance even further. Random Forest seems to benefit slightly from oversampling and XGBoost does best with just the base (imputed) data"
   ]
  },
  {
   "cell_type": "markdown",
   "metadata": {
    "id": "m_J5_Wp40i7x"
   },
   "source": [
    "### Random Forest"
   ]
  },
  {
   "cell_type": "code",
   "execution_count": null,
   "metadata": {
    "id": "PX-VyBEBeiHX"
   },
   "outputs": [],
   "source": [
    "rf = Pipeline([('imp', SimpleImputer(strategy='median')), ('sc', StandardScaler()), ('smote', SMOTE()), ('rf', RandomForestClassifier())])"
   ]
  },
  {
   "cell_type": "code",
   "execution_count": null,
   "metadata": {
    "id": "yMBjQGwN1wbr"
   },
   "outputs": [],
   "source": [
    "params = {'smote__sampling_strategy': [0.15, 0.5, 1],\n",
    "          'rf__max_depth': [2, 3, 5, 10],\n",
    "          'rf__n_estimators': [50, 100, 200]}"
   ]
  },
  {
   "cell_type": "code",
   "execution_count": null,
   "metadata": {
    "id": "YOcbFjj46eHV"
   },
   "outputs": [],
   "source": [
    "rf_grid = GridSearchCV(rf, param_grid=params, scoring='roc_auc', n_jobs=-1, cv=5)"
   ]
  },
  {
   "cell_type": "code",
   "execution_count": null,
   "metadata": {
    "colab": {
     "base_uri": "https://localhost:8080/",
     "height": 578
    },
    "executionInfo": {
     "elapsed": 4600634,
     "status": "ok",
     "timestamp": 1601962852164,
     "user": {
      "displayName": "Stephan Hermanides",
      "photoUrl": "https://lh3.googleusercontent.com/a-/AOh14Ghv4g_ZoKrg5A0hgb2DCrjAtaY1TmQsQrMK0lO9Bw=s64",
      "userId": "10917467489758916868"
     },
     "user_tz": 300
    },
    "id": "GijIKjaa71sf",
    "outputId": "a5cefc09-fe5b-4b7b-d6c6-026603048211"
   },
   "outputs": [
    {
     "name": "stderr",
     "output_type": "stream",
     "text": [
      "/usr/local/lib/python3.6/dist-packages/sklearn/utils/deprecation.py:87: FutureWarning: Function safe_indexing is deprecated; safe_indexing is deprecated in version 0.22 and will be removed in version 0.24.\n",
      "  warnings.warn(msg, category=FutureWarning)\n"
     ]
    },
    {
     "data": {
      "text/plain": [
       "GridSearchCV(cv=5, error_score=nan,\n",
       "             estimator=Pipeline(memory=None,\n",
       "                                steps=[('imp',\n",
       "                                        SimpleImputer(add_indicator=False,\n",
       "                                                      copy=True,\n",
       "                                                      fill_value=None,\n",
       "                                                      missing_values=nan,\n",
       "                                                      strategy='median',\n",
       "                                                      verbose=0)),\n",
       "                                       ('sc',\n",
       "                                        StandardScaler(copy=True,\n",
       "                                                       with_mean=True,\n",
       "                                                       with_std=True)),\n",
       "                                       ('smote',\n",
       "                                        SMOTE(k_neighbors=5, kind='deprecated',\n",
       "                                              m_neighbors='deprecated',\n",
       "                                              n_jobs=1, out_step='deprecate...\n",
       "                                                               min_weight_fraction_leaf=0.0,\n",
       "                                                               n_estimators=100,\n",
       "                                                               n_jobs=None,\n",
       "                                                               oob_score=False,\n",
       "                                                               random_state=None,\n",
       "                                                               verbose=0,\n",
       "                                                               warm_start=False))],\n",
       "                                verbose=False),\n",
       "             iid='deprecated', n_jobs=-1,\n",
       "             param_grid={'rf__max_depth': [2, 3, 5, 10],\n",
       "                         'rf__n_estimators': [50, 100, 200],\n",
       "                         'smote__sampling_strategy': [0.15, 0.5, 1]},\n",
       "             pre_dispatch='2*n_jobs', refit=True, return_train_score=False,\n",
       "             scoring='roc_auc', verbose=0)"
      ]
     },
     "execution_count": 60,
     "metadata": {
      "tags": []
     },
     "output_type": "execute_result"
    }
   ],
   "source": [
    "rf_grid.fit(X, y)"
   ]
  },
  {
   "cell_type": "code",
   "execution_count": null,
   "metadata": {
    "colab": {
     "base_uri": "https://localhost:8080/",
     "height": 425
    },
    "executionInfo": {
     "elapsed": 529,
     "status": "ok",
     "timestamp": 1601962852717,
     "user": {
      "displayName": "Stephan Hermanides",
      "photoUrl": "https://lh3.googleusercontent.com/a-/AOh14Ghv4g_ZoKrg5A0hgb2DCrjAtaY1TmQsQrMK0lO9Bw=s64",
      "userId": "10917467489758916868"
     },
     "user_tz": 300
    },
    "id": "tD9AbZjfJyzm",
    "outputId": "7260ce8e-52fb-4d39-d0e2-7a1e775f2ae7"
   },
   "outputs": [
    {
     "data": {
      "text/plain": [
       "Pipeline(memory=None,\n",
       "         steps=[('imp',\n",
       "                 SimpleImputer(add_indicator=False, copy=True, fill_value=None,\n",
       "                               missing_values=nan, strategy='median',\n",
       "                               verbose=0)),\n",
       "                ('sc',\n",
       "                 StandardScaler(copy=True, with_mean=True, with_std=True)),\n",
       "                ('smote',\n",
       "                 SMOTE(k_neighbors=5, kind='deprecated',\n",
       "                       m_neighbors='deprecated', n_jobs=1,\n",
       "                       out_step='deprecated', random_state=None, ratio=None,\n",
       "                       sampling_str...\n",
       "                 RandomForestClassifier(bootstrap=True, ccp_alpha=0.0,\n",
       "                                        class_weight=None, criterion='gini',\n",
       "                                        max_depth=10, max_features='auto',\n",
       "                                        max_leaf_nodes=None, max_samples=None,\n",
       "                                        min_impurity_decrease=0.0,\n",
       "                                        min_impurity_split=None,\n",
       "                                        min_samples_leaf=1, min_samples_split=2,\n",
       "                                        min_weight_fraction_leaf=0.0,\n",
       "                                        n_estimators=100, n_jobs=None,\n",
       "                                        oob_score=False, random_state=None,\n",
       "                                        verbose=0, warm_start=False))],\n",
       "         verbose=False)"
      ]
     },
     "execution_count": 61,
     "metadata": {
      "tags": []
     },
     "output_type": "execute_result"
    }
   ],
   "source": [
    "rf_grid.best_estimator_"
   ]
  },
  {
   "cell_type": "code",
   "execution_count": null,
   "metadata": {
    "colab": {
     "base_uri": "https://localhost:8080/",
     "height": 34
    },
    "executionInfo": {
     "elapsed": 516,
     "status": "ok",
     "timestamp": 1601962852718,
     "user": {
      "displayName": "Stephan Hermanides",
      "photoUrl": "https://lh3.googleusercontent.com/a-/AOh14Ghv4g_ZoKrg5A0hgb2DCrjAtaY1TmQsQrMK0lO9Bw=s64",
      "userId": "10917467489758916868"
     },
     "user_tz": 300
    },
    "id": "4dHFu6_qKDtw",
    "outputId": "7c146902-6190-4457-a470-9a6b47ddeb5a"
   },
   "outputs": [
    {
     "data": {
      "text/plain": [
       "0.9890458474576272"
      ]
     },
     "execution_count": 62,
     "metadata": {
      "tags": []
     },
     "output_type": "execute_result"
    }
   ],
   "source": [
    "rf_grid.best_score_"
   ]
  },
  {
   "cell_type": "code",
   "execution_count": null,
   "metadata": {
    "colab": {
     "base_uri": "https://localhost:8080/",
     "height": 68
    },
    "executionInfo": {
     "elapsed": 513,
     "status": "ok",
     "timestamp": 1601962852719,
     "user": {
      "displayName": "Stephan Hermanides",
      "photoUrl": "https://lh3.googleusercontent.com/a-/AOh14Ghv4g_ZoKrg5A0hgb2DCrjAtaY1TmQsQrMK0lO9Bw=s64",
      "userId": "10917467489758916868"
     },
     "user_tz": 300
    },
    "id": "hlwxY_YkKLh7",
    "outputId": "a9e84cbd-292a-48df-dbe4-36f4ae9bba7f"
   },
   "outputs": [
    {
     "data": {
      "text/plain": [
       "{'rf__max_depth': 10,\n",
       " 'rf__n_estimators': 100,\n",
       " 'smote__sampling_strategy': 0.15}"
      ]
     },
     "execution_count": 63,
     "metadata": {
      "tags": []
     },
     "output_type": "execute_result"
    }
   ],
   "source": [
    "rf_grid.best_params_"
   ]
  },
  {
   "cell_type": "markdown",
   "metadata": {
    "id": "pJwbWTeS9yWd"
   },
   "source": [
    "### XGBoost"
   ]
  },
  {
   "cell_type": "code",
   "execution_count": 16,
   "metadata": {
    "executionInfo": {
     "elapsed": 1914,
     "status": "ok",
     "timestamp": 1602096511574,
     "user": {
      "displayName": "Stephan Hermanides",
      "photoUrl": "https://lh3.googleusercontent.com/a-/AOh14Ghv4g_ZoKrg5A0hgb2DCrjAtaY1TmQsQrMK0lO9Bw=s64",
      "userId": "10917467489758916868"
     },
     "user_tz": 300
    },
    "id": "eEQyiZShaA39"
   },
   "outputs": [],
   "source": [
    "imp = SimpleImputer(strategy='median')\n",
    "X_imputed = imp.fit_transform(X)"
   ]
  },
  {
   "cell_type": "code",
   "execution_count": null,
   "metadata": {
    "id": "-U_zHN5i92In"
   },
   "outputs": [],
   "source": [
    "xgb = XGBClassifier(n_estimators=1000)"
   ]
  },
  {
   "cell_type": "code",
   "execution_count": null,
   "metadata": {
    "id": "XUXJ9_Yc-N__"
   },
   "outputs": [],
   "source": [
    "params = {'xgb__max_depth': [2, 4, 6, 8, 10, 12],\n",
    "          'xgb__learning_rate': [0.05, 0.1, 0.15, 0.2, 0.25, 0.3],\n",
    "          'xgb__min_child_weight': [1, 3, 5],\n",
    "          'xgb__gamma': [0.0, 0.1, 0.2, 0.3, 0.5, 0.8, 1, 5],\n",
    "          'xgb__colsample_bytree': [0.6, 0.7, 0.8, 0.9, 1]}"
   ]
  },
  {
   "cell_type": "code",
   "execution_count": null,
   "metadata": {
    "colab": {
     "base_uri": "https://localhost:8080/",
     "height": 1000
    },
    "executionInfo": {
     "elapsed": 9931214,
     "status": "ok",
     "timestamp": 1602024139447,
     "user": {
      "displayName": "Stephan Hermanides",
      "photoUrl": "https://lh3.googleusercontent.com/a-/AOh14Ghv4g_ZoKrg5A0hgb2DCrjAtaY1TmQsQrMK0lO9Bw=s64",
      "userId": "10917467489758916868"
     },
     "user_tz": 300
    },
    "id": "Nvdp0tLcEcuP",
    "outputId": "69039957-0a24-47d4-b042-50917107b562"
   },
   "outputs": [
    {
     "name": "stdout",
     "output_type": "stream",
     "text": [
      "[0]\tvalidation_0-auc:0.92366\n",
      "Will train until validation_0-auc hasn't improved in 10 rounds.\n",
      "[1]\tvalidation_0-auc:0.932216\n",
      "[2]\tvalidation_0-auc:0.933748\n",
      "[3]\tvalidation_0-auc:0.933793\n",
      "[4]\tvalidation_0-auc:0.93901\n",
      "[5]\tvalidation_0-auc:0.942659\n",
      "[6]\tvalidation_0-auc:0.947966\n",
      "[7]\tvalidation_0-auc:0.948142\n",
      "[8]\tvalidation_0-auc:0.955352\n",
      "[9]\tvalidation_0-auc:0.968113\n",
      "[10]\tvalidation_0-auc:0.970225\n",
      "[11]\tvalidation_0-auc:0.971256\n",
      "[12]\tvalidation_0-auc:0.975814\n",
      "[13]\tvalidation_0-auc:0.975856\n",
      "[14]\tvalidation_0-auc:0.977788\n",
      "[15]\tvalidation_0-auc:0.977865\n",
      "[16]\tvalidation_0-auc:0.978052\n",
      "[17]\tvalidation_0-auc:0.978159\n",
      "[18]\tvalidation_0-auc:0.978244\n",
      "[19]\tvalidation_0-auc:0.978289\n",
      "[20]\tvalidation_0-auc:0.979288\n",
      "[21]\tvalidation_0-auc:0.979325\n",
      "[22]\tvalidation_0-auc:0.980333\n",
      "[23]\tvalidation_0-auc:0.980386\n",
      "[24]\tvalidation_0-auc:0.980445\n",
      "[25]\tvalidation_0-auc:0.982685\n",
      "[26]\tvalidation_0-auc:0.984541\n",
      "[27]\tvalidation_0-auc:0.984569\n",
      "[28]\tvalidation_0-auc:0.984897\n",
      "[29]\tvalidation_0-auc:0.985041\n",
      "[30]\tvalidation_0-auc:0.985079\n",
      "[31]\tvalidation_0-auc:0.985123\n",
      "[32]\tvalidation_0-auc:0.985136\n",
      "[33]\tvalidation_0-auc:0.985223\n",
      "[34]\tvalidation_0-auc:0.986032\n",
      "[35]\tvalidation_0-auc:0.986088\n",
      "[36]\tvalidation_0-auc:0.986126\n",
      "[37]\tvalidation_0-auc:0.986174\n",
      "[38]\tvalidation_0-auc:0.986686\n",
      "[39]\tvalidation_0-auc:0.98673\n",
      "[40]\tvalidation_0-auc:0.986816\n",
      "[41]\tvalidation_0-auc:0.987589\n",
      "[42]\tvalidation_0-auc:0.987627\n",
      "[43]\tvalidation_0-auc:0.987687\n",
      "[44]\tvalidation_0-auc:0.987788\n",
      "[45]\tvalidation_0-auc:0.988174\n",
      "[46]\tvalidation_0-auc:0.988216\n",
      "[47]\tvalidation_0-auc:0.988267\n",
      "[48]\tvalidation_0-auc:0.988322\n",
      "[49]\tvalidation_0-auc:0.989093\n",
      "[50]\tvalidation_0-auc:0.99099\n",
      "[51]\tvalidation_0-auc:0.991009\n",
      "[52]\tvalidation_0-auc:0.991162\n",
      "[53]\tvalidation_0-auc:0.991132\n",
      "[54]\tvalidation_0-auc:0.991195\n",
      "[55]\tvalidation_0-auc:0.992056\n",
      "[56]\tvalidation_0-auc:0.992128\n",
      "[57]\tvalidation_0-auc:0.992129\n",
      "[58]\tvalidation_0-auc:0.992165\n",
      "[59]\tvalidation_0-auc:0.992187\n",
      "[60]\tvalidation_0-auc:0.992255\n",
      "[61]\tvalidation_0-auc:0.992288\n",
      "[62]\tvalidation_0-auc:0.992278\n",
      "[63]\tvalidation_0-auc:0.992304\n",
      "[64]\tvalidation_0-auc:0.993343\n",
      "[65]\tvalidation_0-auc:0.99337\n",
      "[66]\tvalidation_0-auc:0.993396\n",
      "[67]\tvalidation_0-auc:0.993485\n",
      "[68]\tvalidation_0-auc:0.993518\n",
      "[69]\tvalidation_0-auc:0.993579\n",
      "[70]\tvalidation_0-auc:0.993605\n",
      "[71]\tvalidation_0-auc:0.993659\n",
      "[72]\tvalidation_0-auc:0.993688\n",
      "[73]\tvalidation_0-auc:0.993705\n",
      "[74]\tvalidation_0-auc:0.993736\n",
      "[75]\tvalidation_0-auc:0.993751\n",
      "[76]\tvalidation_0-auc:0.993869\n",
      "[77]\tvalidation_0-auc:0.993883\n",
      "[78]\tvalidation_0-auc:0.994071\n",
      "[79]\tvalidation_0-auc:0.994385\n",
      "[80]\tvalidation_0-auc:0.994341\n",
      "[81]\tvalidation_0-auc:0.994672\n",
      "[82]\tvalidation_0-auc:0.994677\n",
      "[83]\tvalidation_0-auc:0.994717\n",
      "[84]\tvalidation_0-auc:0.994735\n",
      "[85]\tvalidation_0-auc:0.995048\n",
      "[86]\tvalidation_0-auc:0.995078\n",
      "[87]\tvalidation_0-auc:0.995107\n",
      "[88]\tvalidation_0-auc:0.995121\n",
      "[89]\tvalidation_0-auc:0.995152\n",
      "[90]\tvalidation_0-auc:0.995176\n",
      "[91]\tvalidation_0-auc:0.995225\n",
      "[92]\tvalidation_0-auc:0.995257\n",
      "[93]\tvalidation_0-auc:0.995283\n",
      "[94]\tvalidation_0-auc:0.995298\n",
      "[95]\tvalidation_0-auc:0.995389\n",
      "[96]\tvalidation_0-auc:0.99533\n",
      "[97]\tvalidation_0-auc:0.995348\n",
      "[98]\tvalidation_0-auc:0.995363\n",
      "[99]\tvalidation_0-auc:0.995383\n",
      "[100]\tvalidation_0-auc:0.995369\n",
      "[101]\tvalidation_0-auc:0.995406\n",
      "[102]\tvalidation_0-auc:0.995447\n",
      "[103]\tvalidation_0-auc:0.995566\n",
      "[104]\tvalidation_0-auc:0.995583\n",
      "[105]\tvalidation_0-auc:0.995633\n",
      "[106]\tvalidation_0-auc:0.995651\n",
      "[107]\tvalidation_0-auc:0.995654\n",
      "[108]\tvalidation_0-auc:0.995934\n",
      "[109]\tvalidation_0-auc:0.995963\n",
      "[110]\tvalidation_0-auc:0.995985\n",
      "[111]\tvalidation_0-auc:0.996025\n",
      "[112]\tvalidation_0-auc:0.99604\n",
      "[113]\tvalidation_0-auc:0.996051\n",
      "[114]\tvalidation_0-auc:0.996072\n",
      "[115]\tvalidation_0-auc:0.996094\n",
      "[116]\tvalidation_0-auc:0.996158\n",
      "[117]\tvalidation_0-auc:0.996165\n",
      "[118]\tvalidation_0-auc:0.996165\n",
      "[119]\tvalidation_0-auc:0.996222\n",
      "[120]\tvalidation_0-auc:0.996305\n",
      "[121]\tvalidation_0-auc:0.996377\n",
      "[122]\tvalidation_0-auc:0.996407\n",
      "[123]\tvalidation_0-auc:0.99642\n",
      "[124]\tvalidation_0-auc:0.996425\n",
      "[125]\tvalidation_0-auc:0.996443\n",
      "[126]\tvalidation_0-auc:0.996466\n",
      "[127]\tvalidation_0-auc:0.996526\n",
      "[128]\tvalidation_0-auc:0.996578\n",
      "[129]\tvalidation_0-auc:0.996613\n",
      "[130]\tvalidation_0-auc:0.996621\n",
      "[131]\tvalidation_0-auc:0.996611\n",
      "[132]\tvalidation_0-auc:0.996621\n",
      "[133]\tvalidation_0-auc:0.996672\n",
      "[134]\tvalidation_0-auc:0.996698\n",
      "[135]\tvalidation_0-auc:0.996721\n",
      "[136]\tvalidation_0-auc:0.996736\n",
      "[137]\tvalidation_0-auc:0.996772\n",
      "[138]\tvalidation_0-auc:0.996786\n",
      "[139]\tvalidation_0-auc:0.996805\n",
      "[140]\tvalidation_0-auc:0.996812\n",
      "[141]\tvalidation_0-auc:0.996819\n",
      "[142]\tvalidation_0-auc:0.996831\n",
      "[143]\tvalidation_0-auc:0.996847\n",
      "[144]\tvalidation_0-auc:0.996865\n",
      "[145]\tvalidation_0-auc:0.996871\n",
      "[146]\tvalidation_0-auc:0.996897\n",
      "[147]\tvalidation_0-auc:0.996905\n",
      "[148]\tvalidation_0-auc:0.996937\n",
      "[149]\tvalidation_0-auc:0.996953\n",
      "[150]\tvalidation_0-auc:0.996957\n",
      "[151]\tvalidation_0-auc:0.996991\n",
      "[152]\tvalidation_0-auc:0.997026\n",
      "[153]\tvalidation_0-auc:0.997063\n",
      "[154]\tvalidation_0-auc:0.997074\n",
      "[155]\tvalidation_0-auc:0.99708\n",
      "[156]\tvalidation_0-auc:0.997086\n",
      "[157]\tvalidation_0-auc:0.997102\n",
      "[158]\tvalidation_0-auc:0.997107\n",
      "[159]\tvalidation_0-auc:0.997135\n",
      "[160]\tvalidation_0-auc:0.997137\n",
      "[161]\tvalidation_0-auc:0.997173\n",
      "[162]\tvalidation_0-auc:0.997207\n",
      "[163]\tvalidation_0-auc:0.997274\n",
      "[164]\tvalidation_0-auc:0.997279\n",
      "[165]\tvalidation_0-auc:0.997308\n",
      "[166]\tvalidation_0-auc:0.997317\n",
      "[167]\tvalidation_0-auc:0.997342\n",
      "[168]\tvalidation_0-auc:0.997452\n",
      "[169]\tvalidation_0-auc:0.997455\n",
      "[170]\tvalidation_0-auc:0.997455\n",
      "[171]\tvalidation_0-auc:0.997456\n",
      "[172]\tvalidation_0-auc:0.99748\n",
      "[173]\tvalidation_0-auc:0.99748\n",
      "[174]\tvalidation_0-auc:0.997484\n",
      "[175]\tvalidation_0-auc:0.997496\n",
      "[176]\tvalidation_0-auc:0.997521\n",
      "[177]\tvalidation_0-auc:0.997527\n",
      "[178]\tvalidation_0-auc:0.997538\n",
      "[179]\tvalidation_0-auc:0.99755\n",
      "[180]\tvalidation_0-auc:0.997605\n",
      "[181]\tvalidation_0-auc:0.997608\n",
      "[182]\tvalidation_0-auc:0.997647\n",
      "[183]\tvalidation_0-auc:0.997662\n",
      "[184]\tvalidation_0-auc:0.997697\n",
      "[185]\tvalidation_0-auc:0.997719\n",
      "[186]\tvalidation_0-auc:0.997732\n",
      "[187]\tvalidation_0-auc:0.997738\n",
      "[188]\tvalidation_0-auc:0.997747\n",
      "[189]\tvalidation_0-auc:0.997748\n",
      "[190]\tvalidation_0-auc:0.997777\n",
      "[191]\tvalidation_0-auc:0.997776\n",
      "[192]\tvalidation_0-auc:0.997817\n",
      "[193]\tvalidation_0-auc:0.997821\n",
      "[194]\tvalidation_0-auc:0.997824\n",
      "[195]\tvalidation_0-auc:0.997838\n",
      "[196]\tvalidation_0-auc:0.99784\n",
      "[197]\tvalidation_0-auc:0.997844\n",
      "[198]\tvalidation_0-auc:0.997861\n",
      "[199]\tvalidation_0-auc:0.997868\n",
      "[200]\tvalidation_0-auc:0.99787\n",
      "[201]\tvalidation_0-auc:0.997877\n",
      "[202]\tvalidation_0-auc:0.997881\n",
      "[203]\tvalidation_0-auc:0.99789\n",
      "[204]\tvalidation_0-auc:0.997894\n",
      "[205]\tvalidation_0-auc:0.997911\n",
      "[206]\tvalidation_0-auc:0.997918\n",
      "[207]\tvalidation_0-auc:0.997938\n",
      "[208]\tvalidation_0-auc:0.99794\n",
      "[209]\tvalidation_0-auc:0.997939\n",
      "[210]\tvalidation_0-auc:0.997942\n",
      "[211]\tvalidation_0-auc:0.997972\n",
      "[212]\tvalidation_0-auc:0.997982\n",
      "[213]\tvalidation_0-auc:0.998\n",
      "[214]\tvalidation_0-auc:0.998022\n",
      "[215]\tvalidation_0-auc:0.998029\n",
      "[216]\tvalidation_0-auc:0.998033\n",
      "[217]\tvalidation_0-auc:0.998082\n",
      "[218]\tvalidation_0-auc:0.998083\n",
      "[219]\tvalidation_0-auc:0.998115\n",
      "[220]\tvalidation_0-auc:0.99812\n",
      "[221]\tvalidation_0-auc:0.998133\n",
      "[222]\tvalidation_0-auc:0.998163\n",
      "[223]\tvalidation_0-auc:0.998169\n",
      "[224]\tvalidation_0-auc:0.998171\n",
      "[225]\tvalidation_0-auc:0.998175\n",
      "[226]\tvalidation_0-auc:0.998192\n",
      "[227]\tvalidation_0-auc:0.998197\n",
      "[228]\tvalidation_0-auc:0.998218\n",
      "[229]\tvalidation_0-auc:0.998225\n",
      "[230]\tvalidation_0-auc:0.998243\n",
      "[231]\tvalidation_0-auc:0.998244\n",
      "[232]\tvalidation_0-auc:0.998248\n",
      "[233]\tvalidation_0-auc:0.998335\n",
      "[234]\tvalidation_0-auc:0.998335\n",
      "[235]\tvalidation_0-auc:0.99834\n",
      "[236]\tvalidation_0-auc:0.998363\n",
      "[237]\tvalidation_0-auc:0.998398\n",
      "[238]\tvalidation_0-auc:0.998404\n",
      "[239]\tvalidation_0-auc:0.998429\n",
      "[240]\tvalidation_0-auc:0.998437\n",
      "[241]\tvalidation_0-auc:0.998448\n",
      "[242]\tvalidation_0-auc:0.998448\n",
      "[243]\tvalidation_0-auc:0.998451\n",
      "[244]\tvalidation_0-auc:0.998466\n",
      "[245]\tvalidation_0-auc:0.99847\n",
      "[246]\tvalidation_0-auc:0.998477\n",
      "[247]\tvalidation_0-auc:0.998483\n",
      "[248]\tvalidation_0-auc:0.998485\n",
      "[249]\tvalidation_0-auc:0.998487\n",
      "[250]\tvalidation_0-auc:0.998486\n",
      "[251]\tvalidation_0-auc:0.998511\n",
      "[252]\tvalidation_0-auc:0.998538\n",
      "[253]\tvalidation_0-auc:0.998545\n",
      "[254]\tvalidation_0-auc:0.998549\n",
      "[255]\tvalidation_0-auc:0.998603\n",
      "[256]\tvalidation_0-auc:0.99862\n",
      "[257]\tvalidation_0-auc:0.998627\n",
      "[258]\tvalidation_0-auc:0.998632\n",
      "[259]\tvalidation_0-auc:0.998637\n",
      "[260]\tvalidation_0-auc:0.998639\n",
      "[261]\tvalidation_0-auc:0.99864\n",
      "[262]\tvalidation_0-auc:0.998638\n",
      "[263]\tvalidation_0-auc:0.99864\n",
      "[264]\tvalidation_0-auc:0.998649\n",
      "[265]\tvalidation_0-auc:0.998668\n",
      "[266]\tvalidation_0-auc:0.998729\n",
      "[267]\tvalidation_0-auc:0.998731\n",
      "[268]\tvalidation_0-auc:0.998742\n",
      "[269]\tvalidation_0-auc:0.998756\n",
      "[270]\tvalidation_0-auc:0.998755\n",
      "[271]\tvalidation_0-auc:0.998763\n",
      "[272]\tvalidation_0-auc:0.998772\n",
      "[273]\tvalidation_0-auc:0.998773\n",
      "[274]\tvalidation_0-auc:0.998783\n",
      "[275]\tvalidation_0-auc:0.998787\n",
      "[276]\tvalidation_0-auc:0.998788\n",
      "[277]\tvalidation_0-auc:0.998786\n",
      "[278]\tvalidation_0-auc:0.998796\n",
      "[279]\tvalidation_0-auc:0.998807\n",
      "[280]\tvalidation_0-auc:0.998809\n",
      "[281]\tvalidation_0-auc:0.998811\n",
      "[282]\tvalidation_0-auc:0.998814\n",
      "[283]\tvalidation_0-auc:0.998815\n",
      "[284]\tvalidation_0-auc:0.998819\n",
      "[285]\tvalidation_0-auc:0.99887\n",
      "[286]\tvalidation_0-auc:0.99887\n",
      "[287]\tvalidation_0-auc:0.998864\n",
      "[288]\tvalidation_0-auc:0.998876\n",
      "[289]\tvalidation_0-auc:0.998878\n",
      "[290]\tvalidation_0-auc:0.998933\n",
      "[291]\tvalidation_0-auc:0.998935\n",
      "[292]\tvalidation_0-auc:0.998949\n",
      "[293]\tvalidation_0-auc:0.998951\n",
      "[294]\tvalidation_0-auc:0.998952\n",
      "[295]\tvalidation_0-auc:0.998965\n",
      "[296]\tvalidation_0-auc:0.998988\n",
      "[297]\tvalidation_0-auc:0.998989\n",
      "[298]\tvalidation_0-auc:0.998991\n",
      "[299]\tvalidation_0-auc:0.999027\n",
      "[300]\tvalidation_0-auc:0.999028\n",
      "[301]\tvalidation_0-auc:0.999031\n",
      "[302]\tvalidation_0-auc:0.999041\n",
      "[303]\tvalidation_0-auc:0.999097\n",
      "[304]\tvalidation_0-auc:0.999098\n",
      "[305]\tvalidation_0-auc:0.999099\n",
      "[306]\tvalidation_0-auc:0.999101\n",
      "[307]\tvalidation_0-auc:0.999102\n",
      "[308]\tvalidation_0-auc:0.999102\n",
      "[309]\tvalidation_0-auc:0.999105\n",
      "[310]\tvalidation_0-auc:0.999108\n",
      "[311]\tvalidation_0-auc:0.99911\n",
      "[312]\tvalidation_0-auc:0.999141\n",
      "[313]\tvalidation_0-auc:0.999147\n",
      "[314]\tvalidation_0-auc:0.999169\n",
      "[315]\tvalidation_0-auc:0.999173\n",
      "[316]\tvalidation_0-auc:0.999176\n",
      "[317]\tvalidation_0-auc:0.999186\n",
      "[318]\tvalidation_0-auc:0.999186\n",
      "[319]\tvalidation_0-auc:0.99919\n",
      "[320]\tvalidation_0-auc:0.999213\n",
      "[321]\tvalidation_0-auc:0.999253\n",
      "[322]\tvalidation_0-auc:0.999269\n",
      "[323]\tvalidation_0-auc:0.999273\n",
      "[324]\tvalidation_0-auc:0.999281\n",
      "[325]\tvalidation_0-auc:0.999286\n",
      "[326]\tvalidation_0-auc:0.999287\n",
      "[327]\tvalidation_0-auc:0.999288\n",
      "[328]\tvalidation_0-auc:0.999289\n",
      "[329]\tvalidation_0-auc:0.999291\n",
      "[330]\tvalidation_0-auc:0.999292\n",
      "[331]\tvalidation_0-auc:0.999299\n",
      "[332]\tvalidation_0-auc:0.999308\n",
      "[333]\tvalidation_0-auc:0.999323\n",
      "[334]\tvalidation_0-auc:0.999323\n",
      "[335]\tvalidation_0-auc:0.999331\n",
      "[336]\tvalidation_0-auc:0.999352\n",
      "[337]\tvalidation_0-auc:0.999355\n",
      "[338]\tvalidation_0-auc:0.999368\n",
      "[339]\tvalidation_0-auc:0.99937\n",
      "[340]\tvalidation_0-auc:0.999377\n",
      "[341]\tvalidation_0-auc:0.99939\n",
      "[342]\tvalidation_0-auc:0.999404\n",
      "[343]\tvalidation_0-auc:0.999425\n",
      "[344]\tvalidation_0-auc:0.999431\n",
      "[345]\tvalidation_0-auc:0.999431\n",
      "[346]\tvalidation_0-auc:0.999432\n",
      "[347]\tvalidation_0-auc:0.999435\n",
      "[348]\tvalidation_0-auc:0.999441\n",
      "[349]\tvalidation_0-auc:0.999441\n",
      "[350]\tvalidation_0-auc:0.999451\n",
      "[351]\tvalidation_0-auc:0.999452\n",
      "[352]\tvalidation_0-auc:0.999453\n",
      "[353]\tvalidation_0-auc:0.999464\n",
      "[354]\tvalidation_0-auc:0.999464\n",
      "[355]\tvalidation_0-auc:0.999469\n",
      "[356]\tvalidation_0-auc:0.99947\n",
      "[357]\tvalidation_0-auc:0.99949\n",
      "[358]\tvalidation_0-auc:0.99949\n",
      "[359]\tvalidation_0-auc:0.999492\n",
      "[360]\tvalidation_0-auc:0.999498\n",
      "[361]\tvalidation_0-auc:0.9995\n",
      "[362]\tvalidation_0-auc:0.999502\n",
      "[363]\tvalidation_0-auc:0.999509\n",
      "[364]\tvalidation_0-auc:0.99951\n",
      "[365]\tvalidation_0-auc:0.999511\n",
      "[366]\tvalidation_0-auc:0.99952\n",
      "[367]\tvalidation_0-auc:0.999536\n",
      "[368]\tvalidation_0-auc:0.999535\n",
      "[369]\tvalidation_0-auc:0.999541\n",
      "[370]\tvalidation_0-auc:0.999544\n",
      "[371]\tvalidation_0-auc:0.999548\n",
      "[372]\tvalidation_0-auc:0.999548\n",
      "[373]\tvalidation_0-auc:0.999558\n",
      "[374]\tvalidation_0-auc:0.999568\n",
      "[375]\tvalidation_0-auc:0.999574\n",
      "[376]\tvalidation_0-auc:0.999576\n",
      "[377]\tvalidation_0-auc:0.999584\n",
      "[378]\tvalidation_0-auc:0.999593\n",
      "[379]\tvalidation_0-auc:0.999604\n",
      "[380]\tvalidation_0-auc:0.999608\n",
      "[381]\tvalidation_0-auc:0.999611\n",
      "[382]\tvalidation_0-auc:0.999629\n",
      "[383]\tvalidation_0-auc:0.99963\n",
      "[384]\tvalidation_0-auc:0.99963\n",
      "[385]\tvalidation_0-auc:0.99963\n",
      "[386]\tvalidation_0-auc:0.999638\n",
      "[387]\tvalidation_0-auc:0.99964\n",
      "[388]\tvalidation_0-auc:0.999644\n",
      "[389]\tvalidation_0-auc:0.999646\n",
      "[390]\tvalidation_0-auc:0.999647\n",
      "[391]\tvalidation_0-auc:0.999648\n",
      "[392]\tvalidation_0-auc:0.999651\n",
      "[393]\tvalidation_0-auc:0.999653\n",
      "[394]\tvalidation_0-auc:0.999657\n",
      "[395]\tvalidation_0-auc:0.999657\n",
      "[396]\tvalidation_0-auc:0.99966\n",
      "[397]\tvalidation_0-auc:0.999675\n",
      "[398]\tvalidation_0-auc:0.999689\n",
      "[399]\tvalidation_0-auc:0.99969\n",
      "[400]\tvalidation_0-auc:0.999694\n",
      "[401]\tvalidation_0-auc:0.999696\n",
      "[402]\tvalidation_0-auc:0.999698\n",
      "[403]\tvalidation_0-auc:0.999699\n",
      "[404]\tvalidation_0-auc:0.999699\n",
      "[405]\tvalidation_0-auc:0.9997\n",
      "[406]\tvalidation_0-auc:0.999706\n",
      "[407]\tvalidation_0-auc:0.999707\n",
      "[408]\tvalidation_0-auc:0.999707\n",
      "[409]\tvalidation_0-auc:0.999711\n",
      "[410]\tvalidation_0-auc:0.999721\n",
      "[411]\tvalidation_0-auc:0.999721\n",
      "[412]\tvalidation_0-auc:0.999721\n",
      "[413]\tvalidation_0-auc:0.999722\n",
      "[414]\tvalidation_0-auc:0.999724\n",
      "[415]\tvalidation_0-auc:0.999725\n",
      "[416]\tvalidation_0-auc:0.999727\n",
      "[417]\tvalidation_0-auc:0.999728\n",
      "[418]\tvalidation_0-auc:0.999728\n",
      "[419]\tvalidation_0-auc:0.999732\n",
      "[420]\tvalidation_0-auc:0.999738\n",
      "[421]\tvalidation_0-auc:0.999742\n",
      "[422]\tvalidation_0-auc:0.999744\n",
      "[423]\tvalidation_0-auc:0.999745\n",
      "[424]\tvalidation_0-auc:0.999761\n",
      "[425]\tvalidation_0-auc:0.999761\n",
      "[426]\tvalidation_0-auc:0.999766\n",
      "[427]\tvalidation_0-auc:0.99977\n",
      "[428]\tvalidation_0-auc:0.999781\n",
      "[429]\tvalidation_0-auc:0.999783\n",
      "[430]\tvalidation_0-auc:0.99979\n",
      "[431]\tvalidation_0-auc:0.999792\n",
      "[432]\tvalidation_0-auc:0.999795\n",
      "[433]\tvalidation_0-auc:0.999797\n",
      "[434]\tvalidation_0-auc:0.999798\n",
      "[435]\tvalidation_0-auc:0.999801\n",
      "[436]\tvalidation_0-auc:0.999808\n",
      "[437]\tvalidation_0-auc:0.999813\n",
      "[438]\tvalidation_0-auc:0.999815\n",
      "[439]\tvalidation_0-auc:0.999818\n",
      "[440]\tvalidation_0-auc:0.999822\n",
      "[441]\tvalidation_0-auc:0.999835\n",
      "[442]\tvalidation_0-auc:0.999835\n",
      "[443]\tvalidation_0-auc:0.999839\n",
      "[444]\tvalidation_0-auc:0.999842\n",
      "[445]\tvalidation_0-auc:0.999842\n",
      "[446]\tvalidation_0-auc:0.999843\n",
      "[447]\tvalidation_0-auc:0.999851\n",
      "[448]\tvalidation_0-auc:0.999856\n",
      "[449]\tvalidation_0-auc:0.999856\n",
      "[450]\tvalidation_0-auc:0.999856\n",
      "[451]\tvalidation_0-auc:0.999857\n",
      "[452]\tvalidation_0-auc:0.999861\n",
      "[453]\tvalidation_0-auc:0.999861\n",
      "[454]\tvalidation_0-auc:0.999863\n",
      "[455]\tvalidation_0-auc:0.999864\n",
      "[456]\tvalidation_0-auc:0.999865\n",
      "[457]\tvalidation_0-auc:0.999868\n",
      "[458]\tvalidation_0-auc:0.999869\n",
      "[459]\tvalidation_0-auc:0.999869\n",
      "[460]\tvalidation_0-auc:0.999869\n",
      "[461]\tvalidation_0-auc:0.99987\n",
      "[462]\tvalidation_0-auc:0.999872\n",
      "[463]\tvalidation_0-auc:0.999872\n",
      "[464]\tvalidation_0-auc:0.999872\n",
      "[465]\tvalidation_0-auc:0.999873\n",
      "[466]\tvalidation_0-auc:0.999873\n",
      "[467]\tvalidation_0-auc:0.999874\n",
      "[468]\tvalidation_0-auc:0.999875\n",
      "[469]\tvalidation_0-auc:0.999875\n",
      "[470]\tvalidation_0-auc:0.999875\n",
      "[471]\tvalidation_0-auc:0.999876\n",
      "[472]\tvalidation_0-auc:0.999878\n",
      "[473]\tvalidation_0-auc:0.999879\n",
      "[474]\tvalidation_0-auc:0.999883\n",
      "[475]\tvalidation_0-auc:0.999884\n",
      "[476]\tvalidation_0-auc:0.999886\n",
      "[477]\tvalidation_0-auc:0.999888\n",
      "[478]\tvalidation_0-auc:0.999888\n",
      "[479]\tvalidation_0-auc:0.999889\n",
      "[480]\tvalidation_0-auc:0.999889\n",
      "[481]\tvalidation_0-auc:0.999889\n",
      "[482]\tvalidation_0-auc:0.99989\n",
      "[483]\tvalidation_0-auc:0.99989\n",
      "[484]\tvalidation_0-auc:0.999891\n",
      "[485]\tvalidation_0-auc:0.999892\n",
      "[486]\tvalidation_0-auc:0.999892\n",
      "[487]\tvalidation_0-auc:0.999895\n",
      "[488]\tvalidation_0-auc:0.999895\n",
      "[489]\tvalidation_0-auc:0.999897\n",
      "[490]\tvalidation_0-auc:0.9999\n",
      "[491]\tvalidation_0-auc:0.999901\n",
      "[492]\tvalidation_0-auc:0.999903\n",
      "[493]\tvalidation_0-auc:0.999904\n",
      "[494]\tvalidation_0-auc:0.999906\n",
      "[495]\tvalidation_0-auc:0.99991\n",
      "[496]\tvalidation_0-auc:0.999911\n",
      "[497]\tvalidation_0-auc:0.999914\n",
      "[498]\tvalidation_0-auc:0.999917\n",
      "[499]\tvalidation_0-auc:0.999918\n",
      "[500]\tvalidation_0-auc:0.999918\n",
      "[501]\tvalidation_0-auc:0.999919\n",
      "[502]\tvalidation_0-auc:0.999919\n",
      "[503]\tvalidation_0-auc:0.999919\n",
      "[504]\tvalidation_0-auc:0.999919\n",
      "[505]\tvalidation_0-auc:0.999919\n",
      "[506]\tvalidation_0-auc:0.999919\n",
      "[507]\tvalidation_0-auc:0.999919\n",
      "[508]\tvalidation_0-auc:0.999921\n",
      "[509]\tvalidation_0-auc:0.999922\n",
      "[510]\tvalidation_0-auc:0.999922\n",
      "[511]\tvalidation_0-auc:0.999924\n",
      "[512]\tvalidation_0-auc:0.999925\n",
      "[513]\tvalidation_0-auc:0.999925\n",
      "[514]\tvalidation_0-auc:0.999926\n",
      "[515]\tvalidation_0-auc:0.999926\n",
      "[516]\tvalidation_0-auc:0.999926\n",
      "[517]\tvalidation_0-auc:0.999926\n",
      "[518]\tvalidation_0-auc:0.999926\n",
      "[519]\tvalidation_0-auc:0.999929\n",
      "[520]\tvalidation_0-auc:0.99993\n",
      "[521]\tvalidation_0-auc:0.99993\n",
      "[522]\tvalidation_0-auc:0.999932\n",
      "[523]\tvalidation_0-auc:0.999932\n",
      "[524]\tvalidation_0-auc:0.999933\n",
      "[525]\tvalidation_0-auc:0.999933\n",
      "[526]\tvalidation_0-auc:0.999933\n",
      "[527]\tvalidation_0-auc:0.999933\n",
      "[528]\tvalidation_0-auc:0.999935\n",
      "[529]\tvalidation_0-auc:0.999935\n",
      "[530]\tvalidation_0-auc:0.999936\n",
      "[531]\tvalidation_0-auc:0.999936\n",
      "[532]\tvalidation_0-auc:0.999936\n",
      "[533]\tvalidation_0-auc:0.999937\n",
      "[534]\tvalidation_0-auc:0.999937\n",
      "[535]\tvalidation_0-auc:0.999938\n",
      "[536]\tvalidation_0-auc:0.999938\n",
      "[537]\tvalidation_0-auc:0.999939\n",
      "[538]\tvalidation_0-auc:0.99994\n",
      "[539]\tvalidation_0-auc:0.999941\n",
      "[540]\tvalidation_0-auc:0.999941\n",
      "[541]\tvalidation_0-auc:0.999942\n",
      "[542]\tvalidation_0-auc:0.999942\n",
      "[543]\tvalidation_0-auc:0.999942\n",
      "[544]\tvalidation_0-auc:0.999942\n",
      "[545]\tvalidation_0-auc:0.999944\n",
      "[546]\tvalidation_0-auc:0.999944\n",
      "[547]\tvalidation_0-auc:0.999945\n",
      "[548]\tvalidation_0-auc:0.999946\n",
      "[549]\tvalidation_0-auc:0.999947\n",
      "[550]\tvalidation_0-auc:0.999947\n",
      "[551]\tvalidation_0-auc:0.999947\n",
      "[552]\tvalidation_0-auc:0.999948\n",
      "[553]\tvalidation_0-auc:0.999949\n",
      "[554]\tvalidation_0-auc:0.999949\n",
      "[555]\tvalidation_0-auc:0.999949\n",
      "[556]\tvalidation_0-auc:0.99995\n",
      "[557]\tvalidation_0-auc:0.99995\n",
      "[558]\tvalidation_0-auc:0.999951\n",
      "[559]\tvalidation_0-auc:0.999951\n",
      "[560]\tvalidation_0-auc:0.999951\n",
      "[561]\tvalidation_0-auc:0.999952\n",
      "[562]\tvalidation_0-auc:0.999952\n",
      "[563]\tvalidation_0-auc:0.999952\n",
      "[564]\tvalidation_0-auc:0.999953\n",
      "[565]\tvalidation_0-auc:0.999953\n",
      "[566]\tvalidation_0-auc:0.999953\n",
      "[567]\tvalidation_0-auc:0.999954\n",
      "[568]\tvalidation_0-auc:0.999955\n",
      "[569]\tvalidation_0-auc:0.999955\n",
      "[570]\tvalidation_0-auc:0.999955\n",
      "[571]\tvalidation_0-auc:0.999955\n",
      "[572]\tvalidation_0-auc:0.999955\n",
      "[573]\tvalidation_0-auc:0.999955\n",
      "[574]\tvalidation_0-auc:0.999955\n",
      "[575]\tvalidation_0-auc:0.999955\n",
      "[576]\tvalidation_0-auc:0.999955\n",
      "[577]\tvalidation_0-auc:0.999955\n",
      "[578]\tvalidation_0-auc:0.999955\n",
      "Stopping. Best iteration:\n",
      "[568]\tvalidation_0-auc:0.999955\n",
      "\n"
     ]
    },
    {
     "data": {
      "text/plain": [
       "RandomizedSearchCV(cv=5, error_score=nan,\n",
       "                   estimator=XGBClassifier(base_score=0.5, booster='gbtree',\n",
       "                                           colsample_bylevel=1,\n",
       "                                           colsample_bynode=1,\n",
       "                                           colsample_bytree=1, gamma=0,\n",
       "                                           learning_rate=0.1, max_delta_step=0,\n",
       "                                           max_depth=3, min_child_weight=1,\n",
       "                                           missing=None, n_estimators=1000,\n",
       "                                           n_jobs=1, nthread=None,\n",
       "                                           objective='binary:logistic',\n",
       "                                           random_state=0, reg_alpha=0,\n",
       "                                           reg_lambda=1, s...\n",
       "                   iid='deprecated', n_iter=20, n_jobs=-1,\n",
       "                   param_distributions={'xgb__colsample_bytree': [0.6, 0.7, 0.8,\n",
       "                                                                  0.9, 1],\n",
       "                                        'xgb__gamma': [0.0, 0.1, 0.2, 0.3, 0.5,\n",
       "                                                       0.8, 1, 5],\n",
       "                                        'xgb__learning_rate': [0.05, 0.1, 0.15,\n",
       "                                                               0.2, 0.25, 0.3],\n",
       "                                        'xgb__max_depth': [2, 4, 6, 8, 10, 12],\n",
       "                                        'xgb__min_child_weight': [1, 3, 5]},\n",
       "                   pre_dispatch='2*n_jobs', random_state=None, refit=True,\n",
       "                   return_train_score=False, scoring=None, verbose=0)"
      ]
     },
     "execution_count": 77,
     "metadata": {
      "tags": []
     },
     "output_type": "execute_result"
    }
   ],
   "source": [
    "xgb_searchcv = RandomizedSearchCV(xgb, cv=5, param_distributions=params, n_iter=20, n_jobs=-1)\n",
    "xgb_searchcv.fit(X_imputed, y, early_stopping_rounds= 10, eval_set=[[X_imputed, y]], eval_metric='auc') "
   ]
  },
  {
   "cell_type": "code",
   "execution_count": null,
   "metadata": {
    "colab": {
     "base_uri": "https://localhost:8080/",
     "height": 102
    },
    "executionInfo": {
     "elapsed": 9919888,
     "status": "ok",
     "timestamp": 1602024139456,
     "user": {
      "displayName": "Stephan Hermanides",
      "photoUrl": "https://lh3.googleusercontent.com/a-/AOh14Ghv4g_ZoKrg5A0hgb2DCrjAtaY1TmQsQrMK0lO9Bw=s64",
      "userId": "10917467489758916868"
     },
     "user_tz": 300
    },
    "id": "ggWP9BJ3XVzv",
    "outputId": "a4e16420-8785-477d-c3dc-3382cdcb98a2"
   },
   "outputs": [
    {
     "data": {
      "text/plain": [
       "{'xgb__colsample_bytree': 0.9,\n",
       " 'xgb__gamma': 5,\n",
       " 'xgb__learning_rate': 0.2,\n",
       " 'xgb__max_depth': 6,\n",
       " 'xgb__min_child_weight': 3}"
      ]
     },
     "execution_count": 78,
     "metadata": {
      "tags": []
     },
     "output_type": "execute_result"
    }
   ],
   "source": [
    "xgb_searchcv.best_params_"
   ]
  },
  {
   "cell_type": "code",
   "execution_count": null,
   "metadata": {
    "colab": {
     "base_uri": "https://localhost:8080/",
     "height": 34
    },
    "executionInfo": {
     "elapsed": 9919425,
     "status": "ok",
     "timestamp": 1602024139457,
     "user": {
      "displayName": "Stephan Hermanides",
      "photoUrl": "https://lh3.googleusercontent.com/a-/AOh14Ghv4g_ZoKrg5A0hgb2DCrjAtaY1TmQsQrMK0lO9Bw=s64",
      "userId": "10917467489758916868"
     },
     "user_tz": 300
    },
    "id": "qEd5BciFc_wc",
    "outputId": "f6a7d202-e808-4529-9e37-bbd408fc5209"
   },
   "outputs": [
    {
     "data": {
      "text/plain": [
       "0.9941333333333333"
      ]
     },
     "execution_count": 79,
     "metadata": {
      "tags": []
     },
     "output_type": "execute_result"
    }
   ],
   "source": [
    "xgb_searchcv.best_score_"
   ]
  },
  {
   "cell_type": "markdown",
   "metadata": {
    "id": "9iqXX8eytHyv"
   },
   "source": [
    "## Final model"
   ]
  },
  {
   "cell_type": "markdown",
   "metadata": {
    "id": "HBR7X3X25uWR"
   },
   "source": [
    "The XGBoost model performed the best, so I will take the results from the hyperparameter search and train my final model, testing it on the held out test data.\n",
    "\n",
    "At this point I will also start looking at a secondary metric. roc_auc is the asked for metric, but to actually use this model I will need to set a threshold for final predictions.\n",
    "\n",
    "In this case, a false positive means that the cause of a failure is falsely identified as the APS, causing a possibly unnecessary check. A false negative means that the APS is missed as the true cause of the failure, which could cause a faulty truck to be cleared or many unnecessary checks in other areas. I believe a false negative is more costly (or causes higher risk), so I will be looking at recall as my second metric."
   ]
  },
  {
   "cell_type": "code",
   "execution_count": 17,
   "metadata": {
    "executionInfo": {
     "elapsed": 249,
     "status": "ok",
     "timestamp": 1602096516318,
     "user": {
      "displayName": "Stephan Hermanides",
      "photoUrl": "https://lh3.googleusercontent.com/a-/AOh14Ghv4g_ZoKrg5A0hgb2DCrjAtaY1TmQsQrMK0lO9Bw=s64",
      "userId": "10917467489758916868"
     },
     "user_tz": 300
    },
    "id": "Y6-GlbAAvq0D"
   },
   "outputs": [],
   "source": [
    "xgb = XGBClassifier(max_depth=6, learning_rate=0.2, gamma=5, min_child_weight=3, colsample_bytree=0.9)"
   ]
  },
  {
   "cell_type": "code",
   "execution_count": 18,
   "metadata": {
    "colab": {
     "base_uri": "https://localhost:8080/"
    },
    "executionInfo": {
     "elapsed": 518491,
     "status": "ok",
     "timestamp": 1602097037073,
     "user": {
      "displayName": "Stephan Hermanides",
      "photoUrl": "https://lh3.googleusercontent.com/a-/AOh14Ghv4g_ZoKrg5A0hgb2DCrjAtaY1TmQsQrMK0lO9Bw=s64",
      "userId": "10917467489758916868"
     },
     "user_tz": 300
    },
    "id": "nOSU2C3Mwhsz",
    "outputId": "ada608ab-8dc6-4558-cab1-c6cee1426f76"
   },
   "outputs": [
    {
     "data": {
      "text/plain": [
       "{'fit_time': array([104.77226377, 104.90896177,  99.449296  ,  99.71232462,\n",
       "         97.55728388,  97.82327223, 103.32456565, 104.21799183,\n",
       "        106.82505012, 106.91302299]),\n",
       " 'score_time': array([0.06557298, 0.0595777 , 0.06796885, 0.06543303, 0.06629133,\n",
       "        0.06856847, 0.064996  , 0.06150055, 0.06590748, 0.05096698]),\n",
       " 'test_recall': array([0.73, 0.79, 0.74, 0.71, 0.77, 0.67, 0.7 , 0.79, 0.67, 0.75]),\n",
       " 'test_roc_auc': array([0.98982373, 0.99169746, 0.98914068, 0.9919    , 0.99078983,\n",
       "        0.98115847, 0.98827373, 0.99526102, 0.99592881, 0.99186441]),\n",
       " 'train_recall': array([0.89333333, 0.88777778, 0.90444444, 0.90222222, 0.88888889,\n",
       "        0.90555556, 0.89666667, 0.88666667, 0.89888889, 0.91222222]),\n",
       " 'train_roc_auc': array([0.99845996, 0.99836355, 0.99828281, 0.9984985 , 0.99712757,\n",
       "        0.99806409, 0.99811379, 0.99861722, 0.99848897, 0.99855694])}"
      ]
     },
     "execution_count": 18,
     "metadata": {
      "tags": []
     },
     "output_type": "execute_result"
    }
   ],
   "source": [
    "cross_validate(xgb, X_imputed, y, scoring=['roc_auc', 'recall'], cv=10, n_jobs=-1, return_train_score=True)"
   ]
  },
  {
   "cell_type": "code",
   "execution_count": 19,
   "metadata": {
    "colab": {
     "base_uri": "https://localhost:8080/"
    },
    "executionInfo": {
     "elapsed": 556415,
     "status": "ok",
     "timestamp": 1602097079619,
     "user": {
      "displayName": "Stephan Hermanides",
      "photoUrl": "https://lh3.googleusercontent.com/a-/AOh14Ghv4g_ZoKrg5A0hgb2DCrjAtaY1TmQsQrMK0lO9Bw=s64",
      "userId": "10917467489758916868"
     },
     "user_tz": 300
    },
    "id": "tXLV1eYmdDwV",
    "outputId": "c71b67ea-2ff5-4199-ee4a-4a113175ed3c"
   },
   "outputs": [
    {
     "name": "stdout",
     "output_type": "stream",
     "text": [
      "[0]\tvalidation_0-auc:0.933127\n",
      "Will train until validation_0-auc hasn't improved in 10 rounds.\n",
      "[1]\tvalidation_0-auc:0.96353\n",
      "[2]\tvalidation_0-auc:0.964595\n",
      "[3]\tvalidation_0-auc:0.967561\n",
      "[4]\tvalidation_0-auc:0.968164\n",
      "[5]\tvalidation_0-auc:0.973385\n",
      "[6]\tvalidation_0-auc:0.980274\n",
      "[7]\tvalidation_0-auc:0.983446\n",
      "[8]\tvalidation_0-auc:0.985121\n",
      "[9]\tvalidation_0-auc:0.985278\n",
      "[10]\tvalidation_0-auc:0.985404\n",
      "[11]\tvalidation_0-auc:0.986986\n",
      "[12]\tvalidation_0-auc:0.987077\n",
      "[13]\tvalidation_0-auc:0.988192\n",
      "[14]\tvalidation_0-auc:0.988328\n",
      "[15]\tvalidation_0-auc:0.988823\n",
      "[16]\tvalidation_0-auc:0.988826\n",
      "[17]\tvalidation_0-auc:0.989372\n",
      "[18]\tvalidation_0-auc:0.990393\n",
      "[19]\tvalidation_0-auc:0.990521\n",
      "[20]\tvalidation_0-auc:0.990643\n",
      "[21]\tvalidation_0-auc:0.99067\n",
      "[22]\tvalidation_0-auc:0.990717\n",
      "[23]\tvalidation_0-auc:0.993278\n",
      "[24]\tvalidation_0-auc:0.99326\n",
      "[25]\tvalidation_0-auc:0.99418\n",
      "[26]\tvalidation_0-auc:0.994348\n",
      "[27]\tvalidation_0-auc:0.994332\n",
      "[28]\tvalidation_0-auc:0.99439\n",
      "[29]\tvalidation_0-auc:0.994785\n",
      "[30]\tvalidation_0-auc:0.994722\n",
      "[31]\tvalidation_0-auc:0.994657\n",
      "[32]\tvalidation_0-auc:0.99464\n",
      "[33]\tvalidation_0-auc:0.994676\n",
      "[34]\tvalidation_0-auc:0.994668\n",
      "[35]\tvalidation_0-auc:0.994564\n",
      "[36]\tvalidation_0-auc:0.995172\n",
      "[37]\tvalidation_0-auc:0.996315\n",
      "[38]\tvalidation_0-auc:0.99706\n",
      "[39]\tvalidation_0-auc:0.996949\n",
      "[40]\tvalidation_0-auc:0.996939\n",
      "[41]\tvalidation_0-auc:0.997169\n",
      "[42]\tvalidation_0-auc:0.997209\n",
      "[43]\tvalidation_0-auc:0.997333\n",
      "[44]\tvalidation_0-auc:0.997426\n",
      "[45]\tvalidation_0-auc:0.997783\n",
      "[46]\tvalidation_0-auc:0.998143\n",
      "[47]\tvalidation_0-auc:0.998155\n",
      "[48]\tvalidation_0-auc:0.998176\n",
      "[49]\tvalidation_0-auc:0.998176\n",
      "[50]\tvalidation_0-auc:0.998176\n",
      "[51]\tvalidation_0-auc:0.998176\n",
      "[52]\tvalidation_0-auc:0.998176\n",
      "[53]\tvalidation_0-auc:0.998176\n",
      "[54]\tvalidation_0-auc:0.998176\n",
      "[55]\tvalidation_0-auc:0.998176\n",
      "[56]\tvalidation_0-auc:0.998176\n",
      "[57]\tvalidation_0-auc:0.998176\n",
      "[58]\tvalidation_0-auc:0.998176\n",
      "Stopping. Best iteration:\n",
      "[48]\tvalidation_0-auc:0.998176\n",
      "\n"
     ]
    },
    {
     "data": {
      "text/plain": [
       "Pipeline(memory=None,\n",
       "         steps=[('simpleimputer',\n",
       "                 SimpleImputer(add_indicator=False, copy=True, fill_value=None,\n",
       "                               missing_values=nan, strategy='median',\n",
       "                               verbose=0)),\n",
       "                ('xgbclassifier',\n",
       "                 XGBClassifier(base_score=0.5, booster='gbtree',\n",
       "                               colsample_bylevel=1, colsample_bynode=1,\n",
       "                               colsample_bytree=0.9, gamma=5, learning_rate=0.2,\n",
       "                               max_delta_step=0, max_depth=6,\n",
       "                               min_child_weight=3, missing=None,\n",
       "                               n_estimators=100, n_jobs=1, nthread=None,\n",
       "                               objective='binary:logistic', random_state=0,\n",
       "                               reg_alpha=0, reg_lambda=1, scale_pos_weight=1,\n",
       "                               seed=None, silent=None, subsample=1,\n",
       "                               verbosity=1))],\n",
       "         verbose=False)"
      ]
     },
     "execution_count": 19,
     "metadata": {
      "tags": []
     },
     "output_type": "execute_result"
    }
   ],
   "source": [
    "xgb_pipeline = make_pipeline(SimpleImputer(strategy='median'), XGBClassifier(max_depth=6, learning_rate=0.2, gamma=5, min_child_weight=3, colsample_bytree=0.9))\n",
    "xgb_pipeline.fit(X, y, xgbclassifier__early_stopping_rounds= 10, xgbclassifier__eval_set=[[X_imputed, y]], xgbclassifier__eval_metric='auc')"
   ]
  },
  {
   "cell_type": "code",
   "execution_count": 20,
   "metadata": {
    "colab": {
     "base_uri": "https://localhost:8080/",
     "height": 279
    },
    "executionInfo": {
     "elapsed": 973,
     "status": "ok",
     "timestamp": 1602097080611,
     "user": {
      "displayName": "Stephan Hermanides",
      "photoUrl": "https://lh3.googleusercontent.com/a-/AOh14Ghv4g_ZoKrg5A0hgb2DCrjAtaY1TmQsQrMK0lO9Bw=s64",
      "userId": "10917467489758916868"
     },
     "user_tz": 300
    },
    "id": "hCT1ssWw1FPq",
    "outputId": "f9b90443-2328-40cd-975e-526d3bc7c43a"
   },
   "outputs": [
    {
     "data": {
      "image/png": "[encoded data removed]",
      "text/plain": [
       "<Figure size 432x288 with 1 Axes>"
      ]
     },
     "metadata": {
      "needs_background": "light",
      "tags": []
     },
     "output_type": "display_data"
    }
   ],
   "source": [
    "plot_roc_curve(xgb_pipeline, X, y)\n",
    "plt.show();"
   ]
  },
  {
   "cell_type": "code",
   "execution_count": 21,
   "metadata": {
    "colab": {
     "base_uri": "https://localhost:8080/",
     "height": 295
    },
    "executionInfo": {
     "elapsed": 1743,
     "status": "ok",
     "timestamp": 1602097081399,
     "user": {
      "displayName": "Stephan Hermanides",
      "photoUrl": "https://lh3.googleusercontent.com/a-/AOh14Ghv4g_ZoKrg5A0hgb2DCrjAtaY1TmQsQrMK0lO9Bw=s64",
      "userId": "10917467489758916868"
     },
     "user_tz": 300
    },
    "id": "31zohqUazUOV",
    "outputId": "882dd89a-58db-4de8-f848-6acd3c9156d2"
   },
   "outputs": [
    {
     "data": {
      "image/png": "[encoded data removed]",
      "text/plain": [
       "<Figure size 432x288 with 1 Axes>"
      ]
     },
     "metadata": {
      "needs_background": "light",
      "tags": []
     },
     "output_type": "display_data"
    }
   ],
   "source": [
    "precision_curve, recall_curve, threshold_curve = precision_recall_curve(y, xgb_pipeline.predict_proba(X)[:,1])\n",
    "                                                                        \n",
    "plt.figure()\n",
    "plt.plot(threshold_curve, precision_curve[1:],label='precision')\n",
    "plt.plot(threshold_curve, recall_curve[1:], label='recall')\n",
    "plt.legend(loc='lower left')\n",
    "plt.xlabel('Threshold');\n",
    "plt.title('Precision and Recall Curves');"
   ]
  },
  {
   "cell_type": "markdown",
   "metadata": {
    "id": "6ha9fXUw9srU"
   },
   "source": [
    "Precision is high at low thresholds, but precision takes a sharp dive at really low thresholds. This graph means that the number of false positives goes up exponentially as the threshold is lowered. \n",
    "\n",
    "Setting the final threshold will have to be decided with business stakeholders.  \n",
    "\n",
    " **How many false positives would we accept to reduce the false negatives?**"
   ]
  },
  {
   "cell_type": "code",
   "execution_count": 22,
   "metadata": {
    "colab": {
     "base_uri": "https://localhost:8080/"
    },
    "executionInfo": {
     "elapsed": 1734,
     "status": "ok",
     "timestamp": 1602097081400,
     "user": {
      "displayName": "Stephan Hermanides",
      "photoUrl": "https://lh3.googleusercontent.com/a-/AOh14Ghv4g_ZoKrg5A0hgb2DCrjAtaY1TmQsQrMK0lO9Bw=s64",
      "userId": "10917467489758916868"
     },
     "user_tz": 300
    },
    "id": "HetOpGPG2wzg",
    "outputId": "ca6340e4-3034-4197-d60f-51cf06c7aa5a"
   },
   "outputs": [
    {
     "name": "stdout",
     "output_type": "stream",
     "text": [
      "recall: 0.936 | precision: 0.595 | f1: 0.727\n"
     ]
    }
   ],
   "source": [
    "threshold = 0.05\n",
    "y_proba_test = xgb_pipeline.predict_proba(X_test)[:,1]\n",
    "y_pred_test = (y_proba_test > threshold)\n",
    "recall = recall_score(y_test, y_pred_test)\n",
    "precision = precision_score(y_test, y_pred_test)\n",
    "f1 = f1_score(y_test, y_pred_test)\n",
    "print(f'recall: {recall:.3f} | precision: {precision:.3f} | f1: {f1:.3f}')"
   ]
  },
  {
   "cell_type": "code",
   "execution_count": 23,
   "metadata": {
    "colab": {
     "base_uri": "https://localhost:8080/",
     "height": 594
    },
    "executionInfo": {
     "elapsed": 1903,
     "status": "ok",
     "timestamp": 1602097081588,
     "user": {
      "displayName": "Stephan Hermanides",
      "photoUrl": "https://lh3.googleusercontent.com/a-/AOh14Ghv4g_ZoKrg5A0hgb2DCrjAtaY1TmQsQrMK0lO9Bw=s64",
      "userId": "10917467489758916868"
     },
     "user_tz": 300
    },
    "id": "F2FY3lfa8b-s",
    "outputId": "36ea48e3-2afb-41b3-e5f4-ef12e9257ba2"
   },
   "outputs": [
    {
     "data": {
      "image/png": "[encoded data removed]",
      "text/plain": [
       "<Figure size 900x600 with 2 Axes>"
      ]
     },
     "metadata": {
      "needs_background": "light",
      "tags": []
     },
     "output_type": "display_data"
    }
   ],
   "source": [
    "conf_matrix = confusion_matrix(y_test, y_pred_test)\n",
    "plt.figure(dpi=150)\n",
    "sns.heatmap(conf_matrix, cmap=plt.cm.Blues, annot=True, square=True)\n",
    "\n",
    "plt.xlabel('Predicted')\n",
    "plt.ylabel('Actual')\n",
    "plt.title('Final confusion matrix');"
   ]
  },
  {
   "cell_type": "code",
   "execution_count": 24,
   "metadata": {
    "colab": {
     "base_uri": "https://localhost:8080/"
    },
    "executionInfo": {
     "elapsed": 2252,
     "status": "ok",
     "timestamp": 1602097081948,
     "user": {
      "displayName": "Stephan Hermanides",
      "photoUrl": "https://lh3.googleusercontent.com/a-/AOh14Ghv4g_ZoKrg5A0hgb2DCrjAtaY1TmQsQrMK0lO9Bw=s64",
      "userId": "10917467489758916868"
     },
     "user_tz": 300
    },
    "id": "dyXKoO4_8seu",
    "outputId": "2ac46ae6-79f2-4fa9-971c-7e7e22b684be"
   },
   "outputs": [
    {
     "data": {
      "text/plain": [
       "['/content/drive/My Drive/Colab/scania_challenge/xgb_model.joblib']"
      ]
     },
     "execution_count": 24,
     "metadata": {
      "tags": []
     },
     "output_type": "execute_result"
    }
   ],
   "source": [
    "dump(xgb_pipeline, '/content/drive/My Drive/Colab/scania_challenge/xgb_model.joblib')"
   ]
  },
  {
   "cell_type": "markdown",
   "metadata": {
    "id": "51uJCr-afyQ_"
   },
   "source": [
    "### Feature importance\n",
    "\n",
    "XGBoost has several methods to investigate feature importance, which can help gain some insight from the model. Generally, importance provides a score that indicates how useful or valuable each feature was in the construction of the boosted decision trees within the model.\n",
    "\n",
    "It is important to note that these scores are estimates, but they give some interpretability to these ensemble methods."
   ]
  },
  {
   "cell_type": "markdown",
   "metadata": {
    "id": "btxQF2l5jnc2"
   },
   "source": [
    "The default feature importance in XGBoost uses 'weight', or the number of times a feature appears in a tree in the model. This can be problematic when using categorical data, especially with high cardinality, but in this case almost all features are numeric."
   ]
  },
  {
   "cell_type": "code",
   "execution_count": 50,
   "metadata": {
    "colab": {
     "base_uri": "https://localhost:8080/",
     "height": 893
    },
    "executionInfo": {
     "elapsed": 823,
     "status": "ok",
     "timestamp": 1602098934040,
     "user": {
      "displayName": "Stephan Hermanides",
      "photoUrl": "https://lh3.googleusercontent.com/a-/AOh14Ghv4g_ZoKrg5A0hgb2DCrjAtaY1TmQsQrMK0lO9Bw=s64",
      "userId": "10917467489758916868"
     },
     "user_tz": 300
    },
    "id": "PKXxnp0efdIG",
    "outputId": "b32c2cc8-9817-4369-bec5-f1510a37bbbc"
   },
   "outputs": [
    {
     "data": {
      "image/png": "[encoded data removed]",
      "text/plain": [
       "<Figure size 1080x1080 with 1 Axes>"
      ]
     },
     "metadata": {
      "needs_background": "light",
      "tags": []
     },
     "output_type": "display_data"
    }
   ],
   "source": [
    "fig, ax = plt.subplots(1,1,figsize=[15,15])\n",
    "plot_importance(xgb_pipeline.named_steps['xgbclassifier'], ax=ax, max_num_features=20, importance_type='weight', height=0.4);"
   ]
  },
  {
   "cell_type": "markdown",
   "metadata": {
    "id": "jqU1_Vn1kJxE"
   },
   "source": [
    "Another way to look at feature importance is to use 'gain', which calculates the average information gain of splits using the feature"
   ]
  },
  {
   "cell_type": "code",
   "execution_count": 51,
   "metadata": {
    "colab": {
     "base_uri": "https://localhost:8080/",
     "height": 893
    },
    "executionInfo": {
     "elapsed": 782,
     "status": "ok",
     "timestamp": 1602098945108,
     "user": {
      "displayName": "Stephan Hermanides",
      "photoUrl": "https://lh3.googleusercontent.com/a-/AOh14Ghv4g_ZoKrg5A0hgb2DCrjAtaY1TmQsQrMK0lO9Bw=s64",
      "userId": "10917467489758916868"
     },
     "user_tz": 300
    },
    "id": "c-u4nTRygVbr",
    "outputId": "0873a8c7-820a-4208-816f-3013e3c4c1f6"
   },
   "outputs": [
    {
     "data": {
      "image/png": "[encoded data removed]",
      "text/plain": [
       "<Figure size 1080x1080 with 1 Axes>"
      ]
     },
     "metadata": {
      "needs_background": "light",
      "tags": []
     },
     "output_type": "display_data"
    }
   ],
   "source": [
    "fig, ax = plt.subplots(1,1,figsize=[15,15])\n",
    "plot_importance(xgb_pipeline.named_steps['xgbclassifier'], ax=ax, max_num_features=20, importance_type='gain', height=0.4);"
   ]
  }
 ],
 "metadata": {
  "colab": {
   "collapsed_sections": [
    "QnRuk4snKaeR",
    "6AUxMEpUKaeT",
    "moXMe7MtKage",
    "ufxJNwPcKags",
    "aPhjBis_dMes",
    "9iqXX8eytHyv"
   ],
   "name": "Data_exploration.ipynb",
   "provenance": [],
   "toc_visible": true
  },
  "kernelspec": {
   "display_name": "Python 3",
   "language": "python",
   "name": "python3"
  },
  "language_info": {
   "codemirror_mode": {
    "name": "ipython",
    "version": 3
   },
   "file_extension": ".py",
   "mimetype": "text/x-python",
   "name": "python",
   "nbconvert_exporter": "python",
   "pygments_lexer": "ipython3",
   "version": "3.8.3"
  },
  "toc": {
   "base_numbering": 1,
   "nav_menu": {},
   "number_sections": true,
   "sideBar": true,
   "skip_h1_title": false,
   "title_cell": "Table of Contents",
   "title_sidebar": "Contents",
   "toc_cell": false,
   "toc_position": {},
   "toc_section_display": true,
   "toc_window_display": false
  }
 },
 "nbformat": 4,
 "nbformat_minor": 1
}
